{
 "cells": [
  {
   "cell_type": "markdown",
   "metadata": {
    "pycharm": {
     "name": "#%% md\n"
    }
   },
   "source": [
    "# Statistics - Statistical Inference\n",
    "## Student's T Distribution\n",
    "\n",
    "Using data analysis and statistics to make conclusions about a population is called statistical inference.\n",
    "\n",
    "The main types of statistical inference are:\n",
    "\n",
    "+ Estimation\n",
    "+ Hypothesis testing\n",
    "\n",
    "### Hypothesis Testing\n",
    "Hypothesis testing is a method to check if a claim about a population is true. More precisely, it checks how likely it is that a hypothesis is true is based on the sample data.\n",
    "\n",
    "There are different types of hypothesis testing.\n",
    "\n",
    "The steps of the test depends on:\n",
    "\n",
    "Type of data (categorical or numerical)\n",
    "If you are looking at:\n",
    "+ A single group\n",
    "+ Comparing one group to another\n",
    "+ Comparing the same group before and after a change\n",
    "Some examples of claims or questions that can be checked with hypothesis testing:\n",
    "\n",
    ">90% of Australians are left handed\n",
    ">Is the average weight of dogs more than 40kg?\n",
    ">Do doctors make more money than lawyers?\n",
    "\n",
    "\n",
    "\n",
    "### Hypothesis Testing a Proportion\n",
    "The following steps are used for a hypothesis test:\n",
    "\n",
    "+ Check the conditions\n",
    "+ Define the claims\n",
    "+ Decide the significance level\n",
    "+ Calculate the test statistic\n",
    "+ Conclusion\n"
   ]
  },
  {
   "cell_type": "markdown",
   "metadata": {
    "pycharm": {
     "name": "#%% md\n"
    }
   },
   "source": [
    "### How to Generate a t Distribution\n",
    "The result is an array of 10 values that follow a t distribution with 6 degrees of freedom.\n",
    "\n",
    "You can use the t.rvs(df, size) function to generate random values from a t distribution with a specific degrees of freedom and sample size:"
   ]
  },
  {
   "cell_type": "code",
   "execution_count": 1,
   "metadata": {
    "pycharm": {
     "name": "#%%\n"
    }
   },
   "outputs": [
    {
     "data": {
      "text/plain": [
       "array([-0.03487556, -0.4647205 , -0.14456478, -0.91071077,  2.15691472,\n",
       "        0.96853422,  3.11614709,  0.12552463,  0.60131569, -0.21397578])"
      ]
     },
     "execution_count": 1,
     "metadata": {},
     "output_type": "execute_result"
    }
   ],
   "source": [
    "from scipy.stats import t\n",
    "\n",
    "#generate random values from t distribution with df=6 and sample size=10\n",
    "x = t.rvs(df=6, size=10)\n",
    "x"
   ]
  },
  {
   "cell_type": "markdown",
   "metadata": {
    "pycharm": {
     "name": "#%% md\n"
    }
   },
   "source": [
    "Example 1: Find One-Tailed P-Value\n",
    "\n",
    "The one-tailed p-value that corresponds to a t test statistic of -1.5 with 10 degrees of freedom is 0.0822.\n",
    "\n",
    "Suppose we perform a one-tailed hypothesis test and end up with a t test statistic of -1.5 and degrees of freedom = 10.\n",
    "\n",
    "We can use the following syntax to calculate the p-value that corresponds to this test statistic:"
   ]
  },
  {
   "cell_type": "code",
   "execution_count": 2,
   "metadata": {
    "pycharm": {
     "name": "#%%\n"
    }
   },
   "outputs": [
    {
     "data": {
      "text/plain": [
       "0.08225366322272008"
      ]
     },
     "execution_count": 2,
     "metadata": {},
     "output_type": "execute_result"
    }
   ],
   "source": [
    "from scipy.stats import t\n",
    "\n",
    "#calculate p-value\n",
    "t.cdf(x=-1.5, df=10)"
   ]
  },
  {
   "cell_type": "markdown",
   "metadata": {
    "pycharm": {
     "name": "#%% md\n"
    }
   },
   "source": [
    "### Example 2: Find Two-Tailed P-Value\n",
    "\n",
    "Suppose we perform a two-tailed hypothesis test and end up with a t test statistic of 2.14 and degrees of freedom = 20.\n",
    "\n",
    "The two-tailed p-value that corresponds to a t test statistic of 2.14 with 20 degrees of freedom is 0.0448.\n",
    "\n",
    "We can use the following syntax to calculate the p-value that corresponds to this test statistic:"
   ]
  },
  {
   "cell_type": "code",
   "execution_count": 3,
   "metadata": {
    "pycharm": {
     "name": "#%%\n"
    }
   },
   "outputs": [
    {
     "data": {
      "text/plain": [
       "0.04486555082549959"
      ]
     },
     "execution_count": 3,
     "metadata": {},
     "output_type": "execute_result"
    }
   ],
   "source": [
    "from scipy.stats import t\n",
    "\n",
    "#calculate p-value\n",
    "(1 - t.cdf(x=2.14, df=20)) * 2\n",
    "\n",
    "0.04486555082549959"
   ]
  },
  {
   "cell_type": "markdown",
   "metadata": {
    "pycharm": {
     "name": "#%% md\n"
    }
   },
   "source": [
    "### How to Plot a t Distribution\n",
    "\n",
    "You can use the following syntax to plot a t distribution with a specific degrees of freedom:"
   ]
  },
  {
   "cell_type": "code",
   "execution_count": 4,
   "metadata": {
    "pycharm": {
     "name": "#%%\n"
    }
   },
   "outputs": [
    {
     "data": {
      "text/plain": [
       "(array([1.72864272e-04, 0.00000000e+00, 6.91457087e-04, 1.38291417e-03,\n",
       "        3.97587825e-03, 1.05447206e-02, 2.19537625e-02, 5.82552596e-02,\n",
       "        1.46243174e-01, 2.63790879e-01, 3.66472256e-01, 3.57137586e-01,\n",
       "        2.66383843e-01, 1.42613024e-01, 5.56622955e-02, 2.16080340e-02,\n",
       "        7.60602796e-03, 2.93869262e-03, 8.64321359e-04, 3.45728544e-04]),\n",
       " array([-6.33011505, -5.75162651, -5.17313797, -4.59464943, -4.01616089,\n",
       "        -3.43767235, -2.85918382, -2.28069528, -1.70220674, -1.1237182 ,\n",
       "        -0.54522966,  0.03325888,  0.61174741,  1.19023595,  1.76872449,\n",
       "         2.34721303,  2.92570157,  3.50419011,  4.08267865,  4.66116718,\n",
       "         5.23965572]),\n",
       " <BarContainer object of 20 artists>)"
      ]
     },
     "execution_count": 4,
     "metadata": {},
     "output_type": "execute_result"
    },
    {
     "data": {
      "image/png": "[encoded data removed]",
      "text/plain": [
       "<Figure size 432x288 with 1 Axes>"
      ]
     },
     "metadata": {},
     "output_type": "display_data"
    }
   ],
   "source": [
    "from scipy.stats import t\n",
    "import matplotlib.pyplot as plt\n",
    "\n",
    "#generate t distribution with sample size 10000\n",
    "x = t.rvs(df=12, size=10000)\n",
    "\n",
    "#create plot of t distribution\n",
    "plt.hist(x, density=True, edgecolor='black', bins=20, color='pink')"
   ]
  },
  {
   "cell_type": "code",
   "execution_count": 4,
   "metadata": {
    "pycharm": {
     "name": "#%%\n"
    }
   },
   "outputs": [],
   "source": []
  }
 ],
 "metadata": {
  "kernelspec": {
   "display_name": "Python 3 (ipykernel)",
   "language": "python",
   "name": "python3"
  },
  "language_info": {
   "codemirror_mode": {
    "name": "ipython",
    "version": 3
   },
   "file_extension": ".py",
   "mimetype": "text/x-python",
   "name": "python",
   "nbconvert_exporter": "python",
   "pygments_lexer": "ipython3",
   "version": "3.10.4"
  }
 },
 "nbformat": 4,
 "nbformat_minor": 1
}