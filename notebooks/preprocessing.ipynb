{
 "cells": [
  {
   "cell_type": "markdown",
   "metadata": {
    "pycharm": {
     "name": "#%% md\n"
    }
   },
   "source": [
    "<h1 style=\"color:#ffc0cb;font-size:70px;font-family:Georgia;text-align:center;\"><strong>Crazy Crossfit in 2015</strong></h1>\n",
    "\n",
    "# How did I preprocess the data\n",
    "> Import python libraries and dataset\n",
    "\n",
    "> Merge 2 dataframe (atheletes & leaderboard_15)\n",
    "\n",
    "> Check and drop duplicated rows\n",
    "\n",
    "> Make athlete_id unique\n",
    "\n",
    "> Drop meaningless columns or unecessary columns: year, retrieved_datetime"
   ]
  },
  {
   "cell_type": "markdown",
   "metadata": {
    "pycharm": {
     "name": "#%% md\n"
    }
   },
   "source": [
    "<a id=\"1\"></a>\n",
    "<h1 style=\"color:#ffc0cb;font-size:40px;font-family:Georgia;text-align:center;\"><strong>1. Data Preparation</strong></h1>\n",
    "\n",
    "<a id=\"1.1\"></a>\n",
    "# 1.1 Importing Necessary Libraries and datasets"
   ]
  },
  {
   "cell_type": "code",
   "execution_count": 31,
   "metadata": {
    "pycharm": {
     "name": "#%%\n"
    }
   },
   "outputs": [
    {
     "name": "stdout",
     "output_type": "stream",
     "text": [
      "Requirement already satisfied: missingno in /Users/tnathu-ai/.conda/envs/Advanced_Programming_for_Data_Science/lib/python3.10/site-packages (0.5.1)\r\n",
      "Requirement already satisfied: seaborn in /Users/tnathu-ai/.conda/envs/Advanced_Programming_for_Data_Science/lib/python3.10/site-packages (from missingno) (0.11.2)\r\n",
      "Requirement already satisfied: matplotlib in /Users/tnathu-ai/.conda/envs/Advanced_Programming_for_Data_Science/lib/python3.10/site-packages (from missingno) (3.5.1)\r\n",
      "Requirement already satisfied: scipy in /Users/tnathu-ai/.conda/envs/Advanced_Programming_for_Data_Science/lib/python3.10/site-packages (from missingno) (1.9.0)\r\n",
      "Requirement already satisfied: numpy in /Users/tnathu-ai/.conda/envs/Advanced_Programming_for_Data_Science/lib/python3.10/site-packages (from missingno) (1.22.3)\r\n",
      "Requirement already satisfied: cycler>=0.10 in /Users/tnathu-ai/.conda/envs/Advanced_Programming_for_Data_Science/lib/python3.10/site-packages (from matplotlib->missingno) (0.11.0)\r\n",
      "Requirement already satisfied: packaging>=20.0 in /Users/tnathu-ai/.conda/envs/Advanced_Programming_for_Data_Science/lib/python3.10/site-packages (from matplotlib->missingno) (21.3)\r\n",
      "Requirement already satisfied: pillow>=6.2.0 in /Users/tnathu-ai/.conda/envs/Advanced_Programming_for_Data_Science/lib/python3.10/site-packages (from matplotlib->missingno) (9.2.0)\r\n",
      "Requirement already satisfied: pyparsing>=2.2.1 in /Users/tnathu-ai/.conda/envs/Advanced_Programming_for_Data_Science/lib/python3.10/site-packages (from matplotlib->missingno) (3.0.4)\r\n",
      "Requirement already satisfied: python-dateutil>=2.7 in /Users/tnathu-ai/.conda/envs/Advanced_Programming_for_Data_Science/lib/python3.10/site-packages (from matplotlib->missingno) (2.8.2)\r\n",
      "Requirement already satisfied: kiwisolver>=1.0.1 in /Users/tnathu-ai/.conda/envs/Advanced_Programming_for_Data_Science/lib/python3.10/site-packages (from matplotlib->missingno) (1.4.2)\r\n",
      "Requirement already satisfied: fonttools>=4.22.0 in /Users/tnathu-ai/.conda/envs/Advanced_Programming_for_Data_Science/lib/python3.10/site-packages (from matplotlib->missingno) (4.25.0)\r\n",
      "Requirement already satisfied: pandas>=0.23 in /Users/tnathu-ai/.conda/envs/Advanced_Programming_for_Data_Science/lib/python3.10/site-packages (from seaborn->missingno) (1.4.3)\r\n",
      "Requirement already satisfied: pytz>=2020.1 in /Users/tnathu-ai/.conda/envs/Advanced_Programming_for_Data_Science/lib/python3.10/site-packages (from pandas>=0.23->seaborn->missingno) (2022.1)\r\n",
      "Requirement already satisfied: six>=1.5 in /Users/tnathu-ai/.conda/envs/Advanced_Programming_for_Data_Science/lib/python3.10/site-packages (from python-dateutil>=2.7->matplotlib->missingno) (1.16.0)\r\n",
      "Requirement already satisfied: statsmodels in /Users/tnathu-ai/.conda/envs/Advanced_Programming_for_Data_Science/lib/python3.10/site-packages (0.13.2)\r\n",
      "Requirement already satisfied: patsy>=0.5.2 in /Users/tnathu-ai/.conda/envs/Advanced_Programming_for_Data_Science/lib/python3.10/site-packages (from statsmodels) (0.5.2)\r\n",
      "Requirement already satisfied: pandas>=0.25 in /Users/tnathu-ai/.conda/envs/Advanced_Programming_for_Data_Science/lib/python3.10/site-packages (from statsmodels) (1.4.3)\r\n",
      "Requirement already satisfied: numpy>=1.17 in /Users/tnathu-ai/.conda/envs/Advanced_Programming_for_Data_Science/lib/python3.10/site-packages (from statsmodels) (1.22.3)\r\n",
      "Requirement already satisfied: packaging>=21.3 in /Users/tnathu-ai/.conda/envs/Advanced_Programming_for_Data_Science/lib/python3.10/site-packages (from statsmodels) (21.3)\r\n",
      "Requirement already satisfied: scipy>=1.3 in /Users/tnathu-ai/.conda/envs/Advanced_Programming_for_Data_Science/lib/python3.10/site-packages (from statsmodels) (1.9.0)\r\n",
      "Requirement already satisfied: pyparsing!=3.0.5,>=2.0.2 in /Users/tnathu-ai/.conda/envs/Advanced_Programming_for_Data_Science/lib/python3.10/site-packages (from packaging>=21.3->statsmodels) (3.0.4)\r\n",
      "Requirement already satisfied: python-dateutil>=2.8.1 in /Users/tnathu-ai/.conda/envs/Advanced_Programming_for_Data_Science/lib/python3.10/site-packages (from pandas>=0.25->statsmodels) (2.8.2)\r\n",
      "Requirement already satisfied: pytz>=2020.1 in /Users/tnathu-ai/.conda/envs/Advanced_Programming_for_Data_Science/lib/python3.10/site-packages (from pandas>=0.25->statsmodels) (2022.1)\r\n",
      "Requirement already satisfied: six in /Users/tnathu-ai/.conda/envs/Advanced_Programming_for_Data_Science/lib/python3.10/site-packages (from patsy>=0.5.2->statsmodels) (1.16.0)\r\n"
     ]
    }
   ],
   "source": [
    "# Install a conda package in the current Jupyter kernel\n",
    "import sys\n",
    "!{sys.executable} -m pip install missingno\n",
    "!{sys.executable} -m pip install statsmodels\n",
    "\n",
    "# work with data in tabular representation\n",
    "from datetime import time\n",
    "import pandas as pd\n",
    "# round the data in the correlation matrix\n",
    "import numpy as np\n",
    "import os\n",
    "\n",
    "# Modules for data visualization\n",
    "import seaborn as sns\n",
    "import missingno as msno\n",
    "import matplotlib.pyplot as plt\n",
    "import matplotlib.patches as mpatches\n",
    "\n",
    "pd.set_option('display.max_rows', 200)\n",
    "pd.set_option('display.max_columns', 200)\n",
    "\n",
    "plt.rcParams['figure.figsize'] = [6, 6]\n",
    "\n",
    "# Ensure that our plots are shown and embedded within the Jupyter notebook itself. Without this command, sometimes plots may show up in pop-up windows\n",
    "%matplotlib inline\n",
    "\n",
    "# overwrite the style of all the matplotlib graphs\n",
    "sns.set()\n",
    "\n",
    "# ignore DeprecationWarning Error Messages\n",
    "import warnings\n",
    "warnings.filterwarnings('ignore')"
   ]
  },
  {
   "cell_type": "code",
   "execution_count": 32,
   "metadata": {
    "pycharm": {
     "name": "#%%\n"
    }
   },
   "outputs": [
    {
     "name": "stdout",
     "output_type": "stream",
     "text": [
      "Numpy version:  1.22.3\n",
      "Pandas version:  1.4.3\n",
      "Python 3.10.4\r\n"
     ]
    }
   ],
   "source": [
    "# check the version of the packages\n",
    "print(\"Numpy version: \", np.__version__)\n",
    "print(\"Pandas version: \",pd.__version__)\n",
    "! python --version"
   ]
  },
  {
   "cell_type": "markdown",
   "metadata": {
    "pycharm": {
     "name": "#%% md\n"
    }
   },
   "source": [
    "<a id=\"1.2\"></a>\n",
    "# Data Retrieving\n",
    "***\n",
    "In order to load data properly, the data in csv file have to be examined carefully. First of all, all the categories are seperated by the \",\" and strip the extra-whitespaces at the begin by setting \"skipinitialspace = True\"."
   ]
  },
  {
   "cell_type": "code",
   "execution_count": 33,
   "metadata": {
    "pycharm": {
     "name": "#%%\n"
    }
   },
   "outputs": [],
   "source": [
    "# set the general path of the external data\n",
    "external_data_path = os.path.join(os.path.pardir,'data','external')\n",
    "\n",
    "# set the path for specific dataset from external dataset\n",
    "athletes = os.path.join(external_data_path, 'athletes.csv')\n",
    "leaderboard_15 = os.path.join(external_data_path, 'leaderboard_15.csv')"
   ]
  },
  {
   "cell_type": "code",
   "execution_count": 34,
   "metadata": {
    "pycharm": {
     "name": "#%%\n"
    }
   },
   "outputs": [
    {
     "name": "stdout",
     "output_type": "stream",
     "text": [
      "<class 'pandas.core.frame.DataFrame'>\n",
      "RangeIndex: 423006 entries, 0 to 423005\n",
      "Data columns (total 28 columns):\n",
      " #   Column              Non-Null Count   Dtype  \n",
      "---  ------              --------------   -----  \n",
      " 0   athlete_id          423003 non-null  float64\n",
      " 1   name                331110 non-null  object \n",
      " 2   region              251262 non-null  object \n",
      " 3   team                155160 non-null  object \n",
      " 4   affiliate           241916 non-null  object \n",
      " 5   gender              331110 non-null  object \n",
      " 6   age                 331110 non-null  float64\n",
      " 7   height              159869 non-null  float64\n",
      " 8   weight              229890 non-null  float64\n",
      " 9   fran                55426 non-null   float64\n",
      " 10  helen               30279 non-null   float64\n",
      " 11  grace               40745 non-null   float64\n",
      " 12  filthy50            19359 non-null   float64\n",
      " 13  fgonebad            29738 non-null   float64\n",
      " 14  run400              22246 non-null   float64\n",
      " 15  run5k               36097 non-null   float64\n",
      " 16  candj               104435 non-null  float64\n",
      " 17  snatch              97280 non-null   float64\n",
      " 18  deadlift            115323 non-null  float64\n",
      " 19  backsq              110517 non-null  float64\n",
      " 20  pullups             50608 non-null   float64\n",
      " 21  eat                 93932 non-null   object \n",
      " 22  train               105831 non-null  object \n",
      " 23  background          98945 non-null   object \n",
      " 24  experience          104936 non-null  object \n",
      " 25  schedule            97875 non-null   object \n",
      " 26  howlong             109206 non-null  object \n",
      " 27  retrieved_datetime  308945 non-null  object \n",
      "dtypes: float64(16), object(12)\n",
      "memory usage: 90.4+ MB\n",
      "The shape and data type of the ORGINAL data: None\n"
     ]
    },
    {
     "data": {
      "text/plain": "   athlete_id           name               region          team  \\\n0      2554.0      Pj Ablang           South West   Double Edge   \n1      3517.0  Derek Abdella                  NaN           NaN   \n2      4691.0            NaN                  NaN           NaN   \n3      5164.0    Abo Brandon  Southern California  LAX CrossFit   \n4      5286.0    Bryce Abbey                  NaN           NaN   \n\n              affiliate gender   age  height  weight   fran  helen  grace  \\\n0  Double Edge CrossFit   Male  24.0    70.0   166.0    NaN    NaN    NaN   \n1                   NaN   Male  42.0    70.0   190.0    NaN    NaN    NaN   \n2                   NaN    NaN   NaN     NaN     NaN    NaN    NaN    NaN   \n3          LAX CrossFit   Male  40.0    67.0     NaN  211.0  645.0  300.0   \n4                   NaN   Male  32.0    65.0   149.0  206.0  465.0    NaN   \n\n   filthy50  fgonebad  run400   run5k  candj  snatch  deadlift  backsq  \\\n0       NaN       NaN     NaN     NaN  220.0     NaN     400.0   305.0   \n1       NaN       0.0     NaN     NaN    NaN     NaN       NaN     NaN   \n2       NaN       NaN     NaN     NaN    NaN     NaN       NaN     NaN   \n3       NaN     196.0     NaN     NaN  245.0   200.0     375.0   325.0   \n4    1053.0       NaN     NaN  1081.0  205.0   150.0       NaN   325.0   \n\n   pullups                                                eat  \\\n0      NaN                                                NaN   \n1      NaN                                                NaN   \n2      NaN                                                NaN   \n3     25.0               I eat 1-3 full cheat meals per week|   \n4     50.0  I eat quality foods but don't measure the amount|   \n\n                                               train  \\\n0  I workout mostly at a CrossFit Affiliate|I hav...   \n1  I have a coach who determines my programming|I...   \n2                                                NaN   \n3  I workout mostly at a CrossFit Affiliate|I hav...   \n4  I workout mostly at a CrossFit Affiliate|I inc...   \n\n                                          background  \\\n0  I played youth or high school level sports|I r...   \n1        I played youth or high school level sports|   \n2                                                NaN   \n3        I played youth or high school level sports|   \n4                           I played college sports|   \n\n                                          experience  \\\n0  I began CrossFit with a coach (e.g. at an affi...   \n1  I began CrossFit with a coach (e.g. at an affi...   \n2                                                NaN   \n3  I began CrossFit by trying it alone (without a...   \n4  I began CrossFit by trying it alone (without a...   \n\n                                            schedule     howlong  \\\n0         I do multiple workouts in a day 2x a week|   4+ years|   \n1         I do multiple workouts in a day 2x a week|   4+ years|   \n2                                                NaN         NaN   \n3                 I usually only do 1 workout a day|   4+ years|   \n4  I usually only do 1 workout a day|I strictly s...  1-2 years|   \n\n  retrieved_datetime  \n0                NaN  \n1                NaN  \n2                NaN  \n3                NaN  \n4                NaN  ",
      "text/html": "<div>\n<style scoped>\n    .dataframe tbody tr th:only-of-type {\n        vertical-align: middle;\n    }\n\n    .dataframe tbody tr th {\n        vertical-align: top;\n    }\n\n    .dataframe thead th {\n        text-align: right;\n    }\n</style>\n<table border=\"1\" class=\"dataframe\">\n  <thead>\n    <tr style=\"text-align: right;\">\n      <th></th>\n      <th>athlete_id</th>\n      <th>name</th>\n      <th>region</th>\n      <th>team</th>\n      <th>affiliate</th>\n      <th>gender</th>\n      <th>age</th>\n      <th>height</th>\n      <th>weight</th>\n      <th>fran</th>\n      <th>helen</th>\n      <th>grace</th>\n      <th>filthy50</th>\n      <th>fgonebad</th>\n      <th>run400</th>\n      <th>run5k</th>\n      <th>candj</th>\n      <th>snatch</th>\n      <th>deadlift</th>\n      <th>backsq</th>\n      <th>pullups</th>\n      <th>eat</th>\n      <th>train</th>\n      <th>background</th>\n      <th>experience</th>\n      <th>schedule</th>\n      <th>howlong</th>\n      <th>retrieved_datetime</th>\n    </tr>\n  </thead>\n  <tbody>\n    <tr>\n      <th>0</th>\n      <td>2554.0</td>\n      <td>Pj Ablang</td>\n      <td>South West</td>\n      <td>Double Edge</td>\n      <td>Double Edge CrossFit</td>\n      <td>Male</td>\n      <td>24.0</td>\n      <td>70.0</td>\n      <td>166.0</td>\n      <td>NaN</td>\n      <td>NaN</td>\n      <td>NaN</td>\n      <td>NaN</td>\n      <td>NaN</td>\n      <td>NaN</td>\n      <td>NaN</td>\n      <td>220.0</td>\n      <td>NaN</td>\n      <td>400.0</td>\n      <td>305.0</td>\n      <td>NaN</td>\n      <td>NaN</td>\n      <td>I workout mostly at a CrossFit Affiliate|I hav...</td>\n      <td>I played youth or high school level sports|I r...</td>\n      <td>I began CrossFit with a coach (e.g. at an affi...</td>\n      <td>I do multiple workouts in a day 2x a week|</td>\n      <td>4+ years|</td>\n      <td>NaN</td>\n    </tr>\n    <tr>\n      <th>1</th>\n      <td>3517.0</td>\n      <td>Derek Abdella</td>\n      <td>NaN</td>\n      <td>NaN</td>\n      <td>NaN</td>\n      <td>Male</td>\n      <td>42.0</td>\n      <td>70.0</td>\n      <td>190.0</td>\n      <td>NaN</td>\n      <td>NaN</td>\n      <td>NaN</td>\n      <td>NaN</td>\n      <td>0.0</td>\n      <td>NaN</td>\n      <td>NaN</td>\n      <td>NaN</td>\n      <td>NaN</td>\n      <td>NaN</td>\n      <td>NaN</td>\n      <td>NaN</td>\n      <td>NaN</td>\n      <td>I have a coach who determines my programming|I...</td>\n      <td>I played youth or high school level sports|</td>\n      <td>I began CrossFit with a coach (e.g. at an affi...</td>\n      <td>I do multiple workouts in a day 2x a week|</td>\n      <td>4+ years|</td>\n      <td>NaN</td>\n    </tr>\n    <tr>\n      <th>2</th>\n      <td>4691.0</td>\n      <td>NaN</td>\n      <td>NaN</td>\n      <td>NaN</td>\n      <td>NaN</td>\n      <td>NaN</td>\n      <td>NaN</td>\n      <td>NaN</td>\n      <td>NaN</td>\n      <td>NaN</td>\n      <td>NaN</td>\n      <td>NaN</td>\n      <td>NaN</td>\n      <td>NaN</td>\n      <td>NaN</td>\n      <td>NaN</td>\n      <td>NaN</td>\n      <td>NaN</td>\n      <td>NaN</td>\n      <td>NaN</td>\n      <td>NaN</td>\n      <td>NaN</td>\n      <td>NaN</td>\n      <td>NaN</td>\n      <td>NaN</td>\n      <td>NaN</td>\n      <td>NaN</td>\n      <td>NaN</td>\n    </tr>\n    <tr>\n      <th>3</th>\n      <td>5164.0</td>\n      <td>Abo Brandon</td>\n      <td>Southern California</td>\n      <td>LAX CrossFit</td>\n      <td>LAX CrossFit</td>\n      <td>Male</td>\n      <td>40.0</td>\n      <td>67.0</td>\n      <td>NaN</td>\n      <td>211.0</td>\n      <td>645.0</td>\n      <td>300.0</td>\n      <td>NaN</td>\n      <td>196.0</td>\n      <td>NaN</td>\n      <td>NaN</td>\n      <td>245.0</td>\n      <td>200.0</td>\n      <td>375.0</td>\n      <td>325.0</td>\n      <td>25.0</td>\n      <td>I eat 1-3 full cheat meals per week|</td>\n      <td>I workout mostly at a CrossFit Affiliate|I hav...</td>\n      <td>I played youth or high school level sports|</td>\n      <td>I began CrossFit by trying it alone (without a...</td>\n      <td>I usually only do 1 workout a day|</td>\n      <td>4+ years|</td>\n      <td>NaN</td>\n    </tr>\n    <tr>\n      <th>4</th>\n      <td>5286.0</td>\n      <td>Bryce Abbey</td>\n      <td>NaN</td>\n      <td>NaN</td>\n      <td>NaN</td>\n      <td>Male</td>\n      <td>32.0</td>\n      <td>65.0</td>\n      <td>149.0</td>\n      <td>206.0</td>\n      <td>465.0</td>\n      <td>NaN</td>\n      <td>1053.0</td>\n      <td>NaN</td>\n      <td>NaN</td>\n      <td>1081.0</td>\n      <td>205.0</td>\n      <td>150.0</td>\n      <td>NaN</td>\n      <td>325.0</td>\n      <td>50.0</td>\n      <td>I eat quality foods but don't measure the amount|</td>\n      <td>I workout mostly at a CrossFit Affiliate|I inc...</td>\n      <td>I played college sports|</td>\n      <td>I began CrossFit by trying it alone (without a...</td>\n      <td>I usually only do 1 workout a day|I strictly s...</td>\n      <td>1-2 years|</td>\n      <td>NaN</td>\n    </tr>\n  </tbody>\n</table>\n</div>"
     },
     "execution_count": 34,
     "metadata": {},
     "output_type": "execute_result"
    }
   ],
   "source": [
    "# import dataset\n",
    "athletes = pd.read_csv(athletes, delimiter=',', skipinitialspace = True)\n",
    "# print dataset info\n",
    "print(\"The shape and data type of the ORGINAL data:\", str(athletes.info()))\n",
    "# print first 5 rows\n",
    "athletes.head(5)"
   ]
  },
  {
   "cell_type": "code",
   "execution_count": 35,
   "metadata": {
    "pycharm": {
     "name": "#%%\n"
    }
   },
   "outputs": [
    {
     "name": "stdout",
     "output_type": "stream",
     "text": [
      "<class 'pandas.core.frame.DataFrame'>\n",
      "RangeIndex: 1572222 entries, 0 to 1572221\n",
      "Data columns (total 8 columns):\n",
      " #   Column              Non-Null Count    Dtype  \n",
      "---  ------              --------------    -----  \n",
      " 0   year                1572222 non-null  int64  \n",
      " 1   division            1572222 non-null  int64  \n",
      " 2   stage               1572222 non-null  float64\n",
      " 3   athlete_id          1572222 non-null  int64  \n",
      " 4   rank                1165028 non-null  float64\n",
      " 5   score               1247633 non-null  float64\n",
      " 6   retrieved_datetime  1572222 non-null  object \n",
      " 7   scaled              1572222 non-null  bool   \n",
      "dtypes: bool(1), float64(3), int64(3), object(1)\n",
      "memory usage: 85.5+ MB\n",
      "The shape and data type of the ORGINAL data: None\n"
     ]
    },
    {
     "data": {
      "text/plain": "   year  division  stage  athlete_id    rank  score   retrieved_datetime  \\\n0    15         1    5.0        1690   154.0  366.0  2015-03-31T21:44:44   \n1    15         1    5.0        1998  5950.0  497.0  2015-03-31T21:44:44   \n2    15         1    5.0        2206   768.0  404.0  2015-03-31T21:44:44   \n3    15         1    5.0        2559   294.0  379.0  2015-03-31T21:44:44   \n4    15         1    5.0        2811  1946.0  437.0  2015-03-31T21:44:44   \n\n   scaled  \n0   False  \n1   False  \n2   False  \n3   False  \n4   False  ",
      "text/html": "<div>\n<style scoped>\n    .dataframe tbody tr th:only-of-type {\n        vertical-align: middle;\n    }\n\n    .dataframe tbody tr th {\n        vertical-align: top;\n    }\n\n    .dataframe thead th {\n        text-align: right;\n    }\n</style>\n<table border=\"1\" class=\"dataframe\">\n  <thead>\n    <tr style=\"text-align: right;\">\n      <th></th>\n      <th>year</th>\n      <th>division</th>\n      <th>stage</th>\n      <th>athlete_id</th>\n      <th>rank</th>\n      <th>score</th>\n      <th>retrieved_datetime</th>\n      <th>scaled</th>\n    </tr>\n  </thead>\n  <tbody>\n    <tr>\n      <th>0</th>\n      <td>15</td>\n      <td>1</td>\n      <td>5.0</td>\n      <td>1690</td>\n      <td>154.0</td>\n      <td>366.0</td>\n      <td>2015-03-31T21:44:44</td>\n      <td>False</td>\n    </tr>\n    <tr>\n      <th>1</th>\n      <td>15</td>\n      <td>1</td>\n      <td>5.0</td>\n      <td>1998</td>\n      <td>5950.0</td>\n      <td>497.0</td>\n      <td>2015-03-31T21:44:44</td>\n      <td>False</td>\n    </tr>\n    <tr>\n      <th>2</th>\n      <td>15</td>\n      <td>1</td>\n      <td>5.0</td>\n      <td>2206</td>\n      <td>768.0</td>\n      <td>404.0</td>\n      <td>2015-03-31T21:44:44</td>\n      <td>False</td>\n    </tr>\n    <tr>\n      <th>3</th>\n      <td>15</td>\n      <td>1</td>\n      <td>5.0</td>\n      <td>2559</td>\n      <td>294.0</td>\n      <td>379.0</td>\n      <td>2015-03-31T21:44:44</td>\n      <td>False</td>\n    </tr>\n    <tr>\n      <th>4</th>\n      <td>15</td>\n      <td>1</td>\n      <td>5.0</td>\n      <td>2811</td>\n      <td>1946.0</td>\n      <td>437.0</td>\n      <td>2015-03-31T21:44:44</td>\n      <td>False</td>\n    </tr>\n  </tbody>\n</table>\n</div>"
     },
     "execution_count": 35,
     "metadata": {},
     "output_type": "execute_result"
    }
   ],
   "source": [
    "# import dataset\n",
    "leaderboard_15 = pd.read_csv(leaderboard_15, delimiter=',', skipinitialspace = True)\n",
    "# print dataset info\n",
    "print(\"The shape and data type of the ORGINAL data:\", str(leaderboard_15.info()))\n",
    "# print first 5 rows\n",
    "leaderboard_15.head(5)"
   ]
  },
  {
   "cell_type": "code",
   "execution_count": 36,
   "metadata": {
    "pycharm": {
     "name": "#%%\n"
    }
   },
   "outputs": [
    {
     "data": {
      "text/plain": "   athlete_id       name      region         team             affiliate  \\\n0      2554.0  Pj Ablang  South West  Double Edge  Double Edge CrossFit   \n1      2554.0  Pj Ablang  South West  Double Edge  Double Edge CrossFit   \n2      2554.0  Pj Ablang  South West  Double Edge  Double Edge CrossFit   \n\n  gender   age  height  weight  fran  helen  grace  filthy50  fgonebad  \\\n0   Male  24.0    70.0   166.0   NaN    NaN    NaN       NaN       NaN   \n1   Male  24.0    70.0   166.0   NaN    NaN    NaN       NaN       NaN   \n2   Male  24.0    70.0   166.0   NaN    NaN    NaN       NaN       NaN   \n\n   run400  run5k  candj  snatch  deadlift  backsq  pullups  eat  \\\n0     NaN    NaN  220.0     NaN     400.0   305.0      NaN  NaN   \n1     NaN    NaN  220.0     NaN     400.0   305.0      NaN  NaN   \n2     NaN    NaN  220.0     NaN     400.0   305.0      NaN  NaN   \n\n                                               train  \\\n0  I workout mostly at a CrossFit Affiliate|I hav...   \n1  I workout mostly at a CrossFit Affiliate|I hav...   \n2  I workout mostly at a CrossFit Affiliate|I hav...   \n\n                                          background  \\\n0  I played youth or high school level sports|I r...   \n1  I played youth or high school level sports|I r...   \n2  I played youth or high school level sports|I r...   \n\n                                          experience  \\\n0  I began CrossFit with a coach (e.g. at an affi...   \n1  I began CrossFit with a coach (e.g. at an affi...   \n2  I began CrossFit with a coach (e.g. at an affi...   \n\n                                     schedule    howlong retrieved_datetime_x  \\\n0  I do multiple workouts in a day 2x a week|  4+ years|                  NaN   \n1  I do multiple workouts in a day 2x a week|  4+ years|                  NaN   \n2  I do multiple workouts in a day 2x a week|  4+ years|                  NaN   \n\n   year  division  stage     rank  score retrieved_datetime_y  scaled  \n0    15         1    5.0  44119.0  771.0  2015-03-31T21:47:26   False  \n1    15         1    1.0  43966.0  130.0  2015-03-31T23:02:54   False  \n2    15         1    1.1  32461.0  225.0  2015-03-31T23:30:57   False  ",
      "text/html": "<div>\n<style scoped>\n    .dataframe tbody tr th:only-of-type {\n        vertical-align: middle;\n    }\n\n    .dataframe tbody tr th {\n        vertical-align: top;\n    }\n\n    .dataframe thead th {\n        text-align: right;\n    }\n</style>\n<table border=\"1\" class=\"dataframe\">\n  <thead>\n    <tr style=\"text-align: right;\">\n      <th></th>\n      <th>athlete_id</th>\n      <th>name</th>\n      <th>region</th>\n      <th>team</th>\n      <th>affiliate</th>\n      <th>gender</th>\n      <th>age</th>\n      <th>height</th>\n      <th>weight</th>\n      <th>fran</th>\n      <th>helen</th>\n      <th>grace</th>\n      <th>filthy50</th>\n      <th>fgonebad</th>\n      <th>run400</th>\n      <th>run5k</th>\n      <th>candj</th>\n      <th>snatch</th>\n      <th>deadlift</th>\n      <th>backsq</th>\n      <th>pullups</th>\n      <th>eat</th>\n      <th>train</th>\n      <th>background</th>\n      <th>experience</th>\n      <th>schedule</th>\n      <th>howlong</th>\n      <th>retrieved_datetime_x</th>\n      <th>year</th>\n      <th>division</th>\n      <th>stage</th>\n      <th>rank</th>\n      <th>score</th>\n      <th>retrieved_datetime_y</th>\n      <th>scaled</th>\n    </tr>\n  </thead>\n  <tbody>\n    <tr>\n      <th>0</th>\n      <td>2554.0</td>\n      <td>Pj Ablang</td>\n      <td>South West</td>\n      <td>Double Edge</td>\n      <td>Double Edge CrossFit</td>\n      <td>Male</td>\n      <td>24.0</td>\n      <td>70.0</td>\n      <td>166.0</td>\n      <td>NaN</td>\n      <td>NaN</td>\n      <td>NaN</td>\n      <td>NaN</td>\n      <td>NaN</td>\n      <td>NaN</td>\n      <td>NaN</td>\n      <td>220.0</td>\n      <td>NaN</td>\n      <td>400.0</td>\n      <td>305.0</td>\n      <td>NaN</td>\n      <td>NaN</td>\n      <td>I workout mostly at a CrossFit Affiliate|I hav...</td>\n      <td>I played youth or high school level sports|I r...</td>\n      <td>I began CrossFit with a coach (e.g. at an affi...</td>\n      <td>I do multiple workouts in a day 2x a week|</td>\n      <td>4+ years|</td>\n      <td>NaN</td>\n      <td>15</td>\n      <td>1</td>\n      <td>5.0</td>\n      <td>44119.0</td>\n      <td>771.0</td>\n      <td>2015-03-31T21:47:26</td>\n      <td>False</td>\n    </tr>\n    <tr>\n      <th>1</th>\n      <td>2554.0</td>\n      <td>Pj Ablang</td>\n      <td>South West</td>\n      <td>Double Edge</td>\n      <td>Double Edge CrossFit</td>\n      <td>Male</td>\n      <td>24.0</td>\n      <td>70.0</td>\n      <td>166.0</td>\n      <td>NaN</td>\n      <td>NaN</td>\n      <td>NaN</td>\n      <td>NaN</td>\n      <td>NaN</td>\n      <td>NaN</td>\n      <td>NaN</td>\n      <td>220.0</td>\n      <td>NaN</td>\n      <td>400.0</td>\n      <td>305.0</td>\n      <td>NaN</td>\n      <td>NaN</td>\n      <td>I workout mostly at a CrossFit Affiliate|I hav...</td>\n      <td>I played youth or high school level sports|I r...</td>\n      <td>I began CrossFit with a coach (e.g. at an affi...</td>\n      <td>I do multiple workouts in a day 2x a week|</td>\n      <td>4+ years|</td>\n      <td>NaN</td>\n      <td>15</td>\n      <td>1</td>\n      <td>1.0</td>\n      <td>43966.0</td>\n      <td>130.0</td>\n      <td>2015-03-31T23:02:54</td>\n      <td>False</td>\n    </tr>\n    <tr>\n      <th>2</th>\n      <td>2554.0</td>\n      <td>Pj Ablang</td>\n      <td>South West</td>\n      <td>Double Edge</td>\n      <td>Double Edge CrossFit</td>\n      <td>Male</td>\n      <td>24.0</td>\n      <td>70.0</td>\n      <td>166.0</td>\n      <td>NaN</td>\n      <td>NaN</td>\n      <td>NaN</td>\n      <td>NaN</td>\n      <td>NaN</td>\n      <td>NaN</td>\n      <td>NaN</td>\n      <td>220.0</td>\n      <td>NaN</td>\n      <td>400.0</td>\n      <td>305.0</td>\n      <td>NaN</td>\n      <td>NaN</td>\n      <td>I workout mostly at a CrossFit Affiliate|I hav...</td>\n      <td>I played youth or high school level sports|I r...</td>\n      <td>I began CrossFit with a coach (e.g. at an affi...</td>\n      <td>I do multiple workouts in a day 2x a week|</td>\n      <td>4+ years|</td>\n      <td>NaN</td>\n      <td>15</td>\n      <td>1</td>\n      <td>1.1</td>\n      <td>32461.0</td>\n      <td>225.0</td>\n      <td>2015-03-31T23:30:57</td>\n      <td>False</td>\n    </tr>\n  </tbody>\n</table>\n</div>"
     },
     "execution_count": 36,
     "metadata": {},
     "output_type": "execute_result"
    }
   ],
   "source": [
    "df = pd.merge(athletes,leaderboard_15,on='athlete_id')\n",
    "df.head(3)"
   ]
  },
  {
   "cell_type": "code",
   "execution_count": 37,
   "metadata": {
    "pycharm": {
     "name": "#%%\n"
    }
   },
   "outputs": [
    {
     "name": "stdout",
     "output_type": "stream",
     "text": [
      "<class 'pandas.core.frame.DataFrame'>\n",
      "Int64Index: 1504303 entries, 0 to 1504302\n",
      "Data columns (total 35 columns):\n",
      " #   Column                Non-Null Count    Dtype  \n",
      "---  ------                --------------    -----  \n",
      " 0   athlete_id            1504303 non-null  float64\n",
      " 1   name                  1503367 non-null  object \n",
      " 2   region                1500079 non-null  object \n",
      " 3   team                  925938 non-null   object \n",
      " 4   affiliate             1444363 non-null  object \n",
      " 5   gender                1503367 non-null  object \n",
      " 6   age                   1503367 non-null  float64\n",
      " 7   height                712209 non-null   float64\n",
      " 8   weight                1138316 non-null  float64\n",
      " 9   fran                  248879 non-null   float64\n",
      " 10  helen                 134089 non-null   float64\n",
      " 11  grace                 186348 non-null   float64\n",
      " 12  filthy50              85920 non-null    float64\n",
      " 13  fgonebad              130750 non-null   float64\n",
      " 14  run400                97338 non-null    float64\n",
      " 15  run5k                 161280 non-null   float64\n",
      " 16  candj                 477935 non-null   float64\n",
      " 17  snatch                437909 non-null   float64\n",
      " 18  deadlift              517901 non-null   float64\n",
      " 19  backsq                501119 non-null   float64\n",
      " 20  pullups               215309 non-null   float64\n",
      " 21  eat                   403664 non-null   object \n",
      " 22  train                 456002 non-null   object \n",
      " 23  background            426152 non-null   object \n",
      " 24  experience            452109 non-null   object \n",
      " 25  schedule              421706 non-null   object \n",
      " 26  howlong               471687 non-null   object \n",
      " 27  retrieved_datetime_x  1422092 non-null  object \n",
      " 28  year                  1504303 non-null  int64  \n",
      " 29  division              1504303 non-null  int64  \n",
      " 30  stage                 1504303 non-null  float64\n",
      " 31  rank                  1164998 non-null  float64\n",
      " 32  score                 1247477 non-null  float64\n",
      " 33  retrieved_datetime_y  1504303 non-null  object \n",
      " 34  scaled                1504303 non-null  bool   \n",
      "dtypes: bool(1), float64(19), int64(2), object(13)\n",
      "memory usage: 403.1+ MB\n",
      "None\n"
     ]
    },
    {
     "data": {
      "text/plain": "['athlete_id',\n 'name',\n 'region',\n 'team',\n 'affiliate',\n 'gender',\n 'age',\n 'height',\n 'weight',\n 'fran',\n 'helen',\n 'grace',\n 'filthy50',\n 'fgonebad',\n 'run400',\n 'run5k',\n 'candj',\n 'snatch',\n 'deadlift',\n 'backsq',\n 'pullups',\n 'eat',\n 'train',\n 'background',\n 'experience',\n 'schedule',\n 'howlong',\n 'retrieved_datetime_x',\n 'year',\n 'division',\n 'stage',\n 'rank',\n 'score',\n 'retrieved_datetime_y',\n 'scaled']"
     },
     "execution_count": 37,
     "metadata": {},
     "output_type": "execute_result"
    }
   ],
   "source": [
    "# list(data) or\n",
    "print(df.info())\n",
    "list(df.columns)"
   ]
  },
  {
   "cell_type": "code",
   "execution_count": 38,
   "metadata": {
    "pycharm": {
     "name": "#%%\n"
    }
   },
   "outputs": [
    {
     "name": "stdout",
     "output_type": "stream",
     "text": [
      "5\n",
      "0\n"
     ]
    }
   ],
   "source": [
    "print(df.duplicated().sum())\n",
    "df = df.drop_duplicates()\n",
    "print(df.duplicated().sum())"
   ]
  },
  {
   "cell_type": "code",
   "execution_count": 39,
   "metadata": {
    "pycharm": {
     "name": "#%%\n"
    }
   },
   "outputs": [
    {
     "name": "stdout",
     "output_type": "stream",
     "text": [
      "Number of duplicated athlete id: 1253581\n",
      "\n",
      "DataFrame after removing duplicates found in the Name column:\n",
      "<class 'pandas.core.frame.DataFrame'>\n",
      "Int64Index: 250717 entries, 0 to 1504297\n",
      "Data columns (total 35 columns):\n",
      " #   Column                Non-Null Count   Dtype  \n",
      "---  ------                --------------   -----  \n",
      " 0   athlete_id            250717 non-null  float64\n",
      " 1   name                  250561 non-null  object \n",
      " 2   region                250013 non-null  object \n",
      " 3   team                  154322 non-null  object \n",
      " 4   affiliate             240727 non-null  object \n",
      " 5   gender                250561 non-null  object \n",
      " 6   age                   250561 non-null  float64\n",
      " 7   height                118702 non-null  float64\n",
      " 8   weight                189719 non-null  float64\n",
      " 9   fran                  41480 non-null   float64\n",
      " 10  helen                 22348 non-null   float64\n",
      " 11  grace                 31058 non-null   float64\n",
      " 12  filthy50              14320 non-null   float64\n",
      " 13  fgonebad              21792 non-null   float64\n",
      " 14  run400                16223 non-null   float64\n",
      " 15  run5k                 26880 non-null   float64\n",
      " 16  candj                 79656 non-null   float64\n",
      " 17  snatch                72985 non-null   float64\n",
      " 18  deadlift              86317 non-null   float64\n",
      " 19  backsq                83520 non-null   float64\n",
      " 20  pullups               35885 non-null   float64\n",
      " 21  eat                   67278 non-null   object \n",
      " 22  train                 76001 non-null   object \n",
      " 23  background            71026 non-null   object \n",
      " 24  experience            75352 non-null   object \n",
      " 25  schedule              70285 non-null   object \n",
      " 26  howlong               78615 non-null   object \n",
      " 27  retrieved_datetime_x  237015 non-null  object \n",
      " 28  year                  250717 non-null  int64  \n",
      " 29  division              250717 non-null  int64  \n",
      " 30  stage                 250717 non-null  float64\n",
      " 31  rank                  143694 non-null  float64\n",
      " 32  score                 173833 non-null  float64\n",
      " 33  retrieved_datetime_y  250717 non-null  object \n",
      " 34  scaled                250717 non-null  bool   \n",
      "dtypes: bool(1), float64(19), int64(2), object(13)\n",
      "memory usage: 67.2+ MB\n"
     ]
    }
   ],
   "source": [
    "# find duplicated athletes id and only keep the last one\n",
    "# Use the keep parameter to consider only the first instance of a duplicate row to be unique\n",
    "print(f'Number of duplicated athlete id: {df.duplicated(subset=\"athlete_id\").sum()}\\n')\n",
    "\n",
    "bool_series = df.duplicated(subset='athlete_id')\n",
    "print('DataFrame after removing duplicates found in the Name column:')\n",
    "df = df[~bool_series]\n",
    "df.info()"
   ]
  },
  {
   "cell_type": "code",
   "execution_count": 40,
   "outputs": [
    {
     "name": "stdout",
     "output_type": "stream",
     "text": [
      "Number of duplicated athlete id: 0\n",
      "\n"
     ]
    }
   ],
   "source": [
    "print(f'Number of duplicated athlete id: {df.duplicated(subset=\"athlete_id\").sum()}\\n')"
   ],
   "metadata": {
    "collapsed": false,
    "pycharm": {
     "name": "#%%\n"
    }
   }
  },
  {
   "cell_type": "code",
   "execution_count": 41,
   "metadata": {
    "pycharm": {
     "name": "#%%\n"
    }
   },
   "outputs": [
    {
     "name": "stdout",
     "output_type": "stream",
     "text": [
      "NUMBER OF CATEGORIES: 1; \n",
      "\n",
      "UNIQUE NAMES OF THE CATEGORIES [15]\n",
      "\n",
      "\n",
      "\n"
     ]
    }
   ],
   "source": [
    "# print out list of types\n",
    "print(f'NUMBER OF CATEGORIES: {df.year.nunique()}; \\n\\nUNIQUE NAMES OF THE CATEGORIES {df.year.unique()}\\n\\n\\n')"
   ]
  },
  {
   "cell_type": "code",
   "execution_count": 42,
   "outputs": [
    {
     "name": "stdout",
     "output_type": "stream",
     "text": [
      "NUMBER OF CATEGORIES: 2; \n",
      "\n",
      "UNIQUE NAMES OF THE CATEGORIES [1 2]\n",
      "\n",
      "\n",
      "\n"
     ]
    }
   ],
   "source": [
    "# print out list of types\n",
    "print(f'NUMBER OF CATEGORIES: {df.division.nunique()}; \\n\\nUNIQUE NAMES OF THE CATEGORIES {df.division.unique()}\\n\\n\\n')"
   ],
   "metadata": {
    "collapsed": false,
    "pycharm": {
     "name": "#%%\n"
    }
   }
  },
  {
   "cell_type": "code",
   "execution_count": 43,
   "metadata": {
    "pycharm": {
     "name": "#%%\n"
    }
   },
   "outputs": [
    {
     "name": "stdout",
     "output_type": "stream",
     "text": [
      "NUMBER OF CATEGORIES: 28; \n",
      "\n",
      "UNIQUE NAMES OF THE CATEGORIES ['4+ years|' '2-4 years|' nan '1-2 years|' '6-12 months|'\n",
      " 'Less than 6 months|1-2 years|' 'Less than 6 months|'\n",
      " '1-2 years|2-4 years|' 'Less than 6 months|2-4 years|'\n",
      " 'Decline to answer|' '1-2 years|Decline to answer|' '2-4 years|4+ years|'\n",
      " 'Less than 6 months|6-12 months|' '6-12 months|2-4 years|'\n",
      " '6-12 months|1-2 years|' '1-2 years|4+ years|'\n",
      " '2-4 years|Decline to answer|' '6-12 months|4+ years|'\n",
      " 'Less than 6 months|6-12 months|1-2 years|2-4 years|4+ years|Decline to answer|'\n",
      " 'Less than 6 months|4+ years|' '1-2 years|2-4 years|4+ years|'\n",
      " '6-12 months|1-2 years|2-4 years|4+ years|'\n",
      " '6-12 months|1-2 years|2-4 years|'\n",
      " 'Less than 6 months|Decline to answer|'\n",
      " 'Less than 6 months|6-12 months|1-2 years|2-4 years|4+ years|'\n",
      " '6-12 months|1-2 years|Decline to answer|'\n",
      " 'Less than 6 months|6-12 months|1-2 years|'\n",
      " 'Less than 6 months|6-12 months|1-2 years|2-4 years|'\n",
      " '6-12 months|Decline to answer|']\n",
      "\n",
      "\n",
      "\n"
     ]
    }
   ],
   "source": [
    "# print out list of types\n",
    "print(f'NUMBER OF CATEGORIES: {df.howlong.nunique()}; \\n\\nUNIQUE NAMES OF THE CATEGORIES {df.howlong.unique()}\\n\\n\\n')"
   ]
  },
  {
   "cell_type": "code",
   "execution_count": 44,
   "metadata": {
    "pycharm": {
     "name": "#%%\n"
    }
   },
   "outputs": [],
   "source": [
    "df = df.drop(['retrieved_datetime_x', 'retrieved_datetime_y', 'year'], axis=1)"
   ]
  },
  {
   "cell_type": "code",
   "execution_count": 45,
   "metadata": {
    "pycharm": {
     "name": "#%%\n"
    }
   },
   "outputs": [],
   "source": [
    "# Convert \"division\" from int to string\n",
    "df = df.astype({'division':'string'})\n",
    "df['division'] = df['division'].str.replace(r'1', 'male').replace(r'2', 'female')\n",
    "## remove pipe?\n",
    "# df['howlong'] = df['howlong'].str.replace(r'\\|', '')"
   ]
  },
  {
   "cell_type": "code",
   "execution_count": 49,
   "outputs": [
    {
     "name": "stdout",
     "output_type": "stream",
     "text": [
      "NUMBER OF CATEGORIES: 2; \n",
      "\n",
      "UNIQUE NAMES OF THE CATEGORIES <StringArray>\n",
      "['male', 'female']\n",
      "Length: 2, dtype: string\n",
      "\n",
      "\n",
      "\n"
     ]
    }
   ],
   "source": [
    "# print out list of types\n",
    "print(f'NUMBER OF CATEGORIES: {df.division.nunique()}; \\n\\nUNIQUE NAMES OF THE CATEGORIES {df.division.unique()}\\n\\n\\n')"
   ],
   "metadata": {
    "collapsed": false,
    "pycharm": {
     "name": "#%%\n"
    }
   }
  },
  {
   "cell_type": "code",
   "execution_count": 46,
   "metadata": {
    "pycharm": {
     "name": "#%%\n"
    }
   },
   "outputs": [
    {
     "name": "stdout",
     "output_type": "stream",
     "text": [
      "Missing values in the dataframe in descending: \n",
      "              Total  Percent\n",
      "filthy50    236397    94.29\n",
      "run400      234494    93.53\n",
      "fgonebad    228925    91.31\n",
      "helen       228369    91.09\n",
      "run5k       223837    89.28\n",
      "grace       219659    87.61\n",
      "pullups     214832    85.69\n",
      "fran        209237    83.46\n",
      "eat         183439    73.17\n",
      "schedule    180432    71.97\n",
      "background  179691    71.67\n",
      "snatch      177732    70.89\n",
      "experience  175365    69.95\n",
      "train       174716    69.69\n",
      "howlong     172102    68.64\n",
      "candj       171061    68.23\n",
      "backsq      167197    66.69\n",
      "deadlift    164400    65.57\n",
      "height      132015    52.65\n",
      "rank        107023    42.69\n",
      "team         96395    38.45\n",
      "score        76884    30.67\n",
      "weight       60998    24.33\n",
      "affiliate     9990     3.98\n",
      "region         704     0.28\n",
      "name           156     0.06\n",
      "age            156     0.06\n",
      "gender         156     0.06\n"
     ]
    },
    {
     "data": {
      "text/plain": "<Figure size 1800x720 with 2 Axes>",
      "image/png": "[encoded data removed]"
     },
     "metadata": {},
     "output_type": "display_data"
    }
   ],
   "source": [
    "def missing_percentage(df):\n",
    "    \"\"\"This function takes a DataFrame(df) as input and returns two columns, total missing values and total missing values percentage\"\"\"\n",
    "    total = df.isnull().sum().sort_values(ascending=False)[df.isnull().sum().sort_values(ascending=False) != 0]\n",
    "    percent = round(df.isnull().sum().sort_values(ascending=False) / len(df) * 100, 2)[\n",
    "        round(df.isnull().sum().sort_values(ascending=False) / len(df) * 100, 2) != 0]\n",
    "    return pd.concat([total, percent], axis=1, keys=['Total', 'Percent'])\n",
    "\n",
    "# display missing values in descending\n",
    "print(\"Missing values in the dataframe in descending: \\n\", missing_percentage(df).sort_values(by='Total', ascending=False))\n",
    "\n",
    "# visualize where the missing values are located\n",
    "msno.matrix(df, color=(255 / 255, 192 / 255, 203 / 255))\n",
    "pink_patch = mpatches.Patch(color='pink', label='present value')\n",
    "white_patch = mpatches.Patch(color='white', label='absent value')\n",
    "plt.legend(handles=[pink_patch, white_patch])\n",
    "plt.show()"
   ]
  },
  {
   "cell_type": "code",
   "execution_count": 47,
   "outputs": [
    {
     "name": "stdout",
     "output_type": "stream",
     "text": [
      "<class 'pandas.core.frame.DataFrame'>\n",
      "Int64Index: 250717 entries, 0 to 1504297\n",
      "Data columns (total 32 columns):\n",
      " #   Column      Non-Null Count   Dtype  \n",
      "---  ------      --------------   -----  \n",
      " 0   athlete_id  250717 non-null  float64\n",
      " 1   name        250561 non-null  object \n",
      " 2   region      250013 non-null  object \n",
      " 3   team        154322 non-null  object \n",
      " 4   affiliate   240727 non-null  object \n",
      " 5   gender      250561 non-null  object \n",
      " 6   age         250561 non-null  float64\n",
      " 7   height      118702 non-null  float64\n",
      " 8   weight      189719 non-null  float64\n",
      " 9   fran        41480 non-null   float64\n",
      " 10  helen       22348 non-null   float64\n",
      " 11  grace       31058 non-null   float64\n",
      " 12  filthy50    14320 non-null   float64\n",
      " 13  fgonebad    21792 non-null   float64\n",
      " 14  run400      16223 non-null   float64\n",
      " 15  run5k       26880 non-null   float64\n",
      " 16  candj       79656 non-null   float64\n",
      " 17  snatch      72985 non-null   float64\n",
      " 18  deadlift    86317 non-null   float64\n",
      " 19  backsq      83520 non-null   float64\n",
      " 20  pullups     35885 non-null   float64\n",
      " 21  eat         67278 non-null   object \n",
      " 22  train       76001 non-null   object \n",
      " 23  background  71026 non-null   object \n",
      " 24  experience  75352 non-null   object \n",
      " 25  schedule    70285 non-null   object \n",
      " 26  howlong     78615 non-null   object \n",
      " 27  division    250717 non-null  string \n",
      " 28  stage       250717 non-null  float64\n",
      " 29  rank        143694 non-null  float64\n",
      " 30  score       173833 non-null  float64\n",
      " 31  scaled      250717 non-null  bool   \n",
      "dtypes: bool(1), float64(19), object(11), string(1)\n",
      "memory usage: 61.4+ MB\n"
     ]
    }
   ],
   "source": [
    "df.info()"
   ],
   "metadata": {
    "collapsed": false,
    "pycharm": {
     "name": "#%%\n"
    }
   }
  },
  {
   "cell_type": "markdown",
   "metadata": {
    "pycharm": {
     "name": "#%% md\n"
    }
   },
   "source": [
    "<a id=\"2.11\"></a>\n",
    "# Save the Intermediate data that has been transformed"
   ]
  },
  {
   "cell_type": "code",
   "execution_count": 48,
   "metadata": {
    "pycharm": {
     "name": "#%%\n"
    }
   },
   "outputs": [
    {
     "name": "stdout",
     "output_type": "stream",
     "text": [
      "Cleaned data was successfully saved!\n"
     ]
    }
   ],
   "source": [
    "# set the path of the cleaned data to data and dash\n",
    "interim_data_path = os.path.join(os.path.pardir,'data','interim')\n",
    "write_interim_path = os.path.join(interim_data_path, 'cleaned_data.csv')\n",
    "\n",
    "# To write the data from the data frame into a file, use the to_csv function.\n",
    "df.to_csv(write_interim_path, index=False)\n",
    "\n",
    "print(\"Cleaned data was successfully saved!\")"
   ]
  },
  {
   "cell_type": "markdown",
   "metadata": {
    "pycharm": {
     "name": "#%% md\n"
    }
   },
   "source": [
    "<a id=\"5\"></a>\n",
    "<h1 style=\"color:#ffc0cb;font-size:40px;font-family:Georgia;text-align:center;\"><strong>References</strong></h1>\n",
    "\n",
    "[1]\"CrossFit Data - dataset by bgadoci\", Data.world, 2022. [Online]. Available: https://data.world/bgadoci/crossfit-data. [Accessed: 29- Jul- 2022]."
   ]
  },
  {
   "cell_type": "code",
   "execution_count": 48,
   "metadata": {
    "pycharm": {
     "name": "#%%\n"
    }
   },
   "outputs": [],
   "source": []
  }
 ],
 "metadata": {
  "kernelspec": {
   "display_name": "Python 3 (ipykernel)",
   "language": "python",
   "name": "python3"
  },
  "language_info": {
   "codemirror_mode": {
    "name": "ipython",
    "version": 3
   },
   "file_extension": ".py",
   "mimetype": "text/x-python",
   "name": "python",
   "nbconvert_exporter": "python",
   "pygments_lexer": "ipython3",
   "version": "3.10.4"
  }
 },
 "nbformat": 4,
 "nbformat_minor": 1
}