{
 "cells": [
  {
   "cell_type": "markdown",
   "metadata": {},
   "source": [
    "# Linear Regression\n",
    "\n",
    "# Find n, Σy, Σx, Σxy, Σx^2 , Σy^2\n",
    "\n",
    "+ n: the number of data points\n",
    "+ Σy: the sum of the y values\n",
    "+ Σx: the sum of the x values\n",
    "+ Σxy: the sum of the products of the x and y values\n",
    "+ Σx^2: the sum of the squares of the x values\n",
    "+ Σy^2: the sum of the squares of the y values"
   ]
  },
  {
   "cell_type": "code",
   "execution_count": 35,
   "outputs": [
    {
     "name": "stdout",
     "output_type": "stream",
     "text": [
      "Python 3.10.4\r\n"
     ]
    }
   ],
   "source": [
    "# check the version of the python\n",
    "! python --version"
   ],
   "metadata": {
    "collapsed": false
   }
  },
  {
   "cell_type": "code",
   "execution_count": 19,
   "metadata": {},
   "outputs": [
    {
     "name": "stdout",
     "output_type": "stream",
     "text": [
      "The number of data n = 6\n",
      "Σx = 42, Σy = 7.799999999999999, Σxy = 48.599999999999994, Σx² = 364, Σy² = 10.680000000000001\n",
      "\n"
     ]
    },
    {
     "data": {
      "text/html": [
       "<div>\n",
       "<style scoped>\n",
       "    .dataframe tbody tr th:only-of-type {\n",
       "        vertical-align: middle;\n",
       "    }\n",
       "\n",
       "    .dataframe tbody tr th {\n",
       "        vertical-align: top;\n",
       "    }\n",
       "\n",
       "    .dataframe thead th {\n",
       "        text-align: right;\n",
       "    }\n",
       "</style>\n",
       "<table border=\"1\" class=\"dataframe\">\n",
       "  <thead>\n",
       "    <tr style=\"text-align: right;\">\n",
       "      <th></th>\n",
       "      <th>x</th>\n",
       "      <th>y</th>\n",
       "      <th>xy</th>\n",
       "      <th>x²</th>\n",
       "      <th>y²</th>\n",
       "    </tr>\n",
       "  </thead>\n",
       "  <tbody>\n",
       "    <tr>\n",
       "      <th>0</th>\n",
       "      <td>2</td>\n",
       "      <td>1.8</td>\n",
       "      <td>3.6</td>\n",
       "      <td>4</td>\n",
       "      <td>3.24</td>\n",
       "    </tr>\n",
       "    <tr>\n",
       "      <th>1</th>\n",
       "      <td>4</td>\n",
       "      <td>1.5</td>\n",
       "      <td>6.0</td>\n",
       "      <td>16</td>\n",
       "      <td>2.25</td>\n",
       "    </tr>\n",
       "    <tr>\n",
       "      <th>2</th>\n",
       "      <td>6</td>\n",
       "      <td>1.4</td>\n",
       "      <td>8.4</td>\n",
       "      <td>36</td>\n",
       "      <td>1.96</td>\n",
       "    </tr>\n",
       "    <tr>\n",
       "      <th>3</th>\n",
       "      <td>8</td>\n",
       "      <td>1.1</td>\n",
       "      <td>8.8</td>\n",
       "      <td>64</td>\n",
       "      <td>1.21</td>\n",
       "    </tr>\n",
       "    <tr>\n",
       "      <th>4</th>\n",
       "      <td>10</td>\n",
       "      <td>1.1</td>\n",
       "      <td>11.0</td>\n",
       "      <td>100</td>\n",
       "      <td>1.21</td>\n",
       "    </tr>\n",
       "    <tr>\n",
       "      <th>5</th>\n",
       "      <td>12</td>\n",
       "      <td>0.9</td>\n",
       "      <td>10.8</td>\n",
       "      <td>144</td>\n",
       "      <td>0.81</td>\n",
       "    </tr>\n",
       "  </tbody>\n",
       "</table>\n",
       "</div>"
      ],
      "text/plain": [
       "    x    y    xy   x²    y²\n",
       "0   2  1.8   3.6    4  3.24\n",
       "1   4  1.5   6.0   16  2.25\n",
       "2   6  1.4   8.4   36  1.96\n",
       "3   8  1.1   8.8   64  1.21\n",
       "4  10  1.1  11.0  100  1.21\n",
       "5  12  0.9  10.8  144  0.81"
      ]
     },
     "execution_count": 19,
     "metadata": {},
     "output_type": "execute_result"
    }
   ],
   "source": [
    "# Python program to demonstrate creating\n",
    "# pandas Datadaframe from lists using zip.\n",
    "\n",
    "import pandas as pd\n",
    "\n",
    "# List1\n",
    "x = [2, 4, 6, 8, 10, 12]\n",
    "\n",
    "# List2\n",
    "y = [1.8, 1.5, 1.4, 1.1, 1.1, 0.9]\n",
    "\n",
    "# List3\n",
    "# create xy by looping through x and y and multiplying them using list comprehension\n",
    "xy = [x * y for x, y in zip(x, y)]\n",
    "\n",
    "# List4\n",
    "# create x2 by looping through x and squaring them using list comprehension\n",
    "x2 = [x * x for x in x]\n",
    "\n",
    "# List5\n",
    "# create y2 by looping through y and squaring them using list comprehension\n",
    "y2 = [y * y for y in y]\n",
    "\n",
    "# List6\n",
    "# sum of Σx by looping through x and adding them using list comprehension\n",
    "sum_x = sum(x)\n",
    "\n",
    "# List7\n",
    "# sum of Σy by looping through y and adding them using list comprehension\n",
    "sum_y = sum(y)\n",
    "\n",
    "# List8\n",
    "# sum of Σxy by looping through xy and adding them using list comprehension\n",
    "sum_xy = sum(xy)\n",
    "\n",
    "# List9\n",
    "# sum of Σx^2 by looping through x2 and adding them using list comprehension\n",
    "sum_x2 = sum(x2)\n",
    "\n",
    "# List10\n",
    "# sum of Σy^2 by looping through y2 and adding them using list comprehension\n",
    "sum_y2 = sum(y2)\n",
    "\n",
    "\n",
    "# get the list of tuples from two lists.\n",
    "# and merge them by using zip().\n",
    "list_of_tuples = list(zip(x, y, xy, x2, y2))\n",
    "\n",
    "# Converting lists of tuples into\n",
    "# pandas Dataframe.\n",
    "df = pd.DataFrame(list_of_tuples,\n",
    "                  columns=['x', 'y', 'xy', 'x²', 'y²'])\n",
    "\n",
    "n = len(x)\n",
    "print(f'The number of data n = {n}\\nΣx = {sum_x}, Σy = {sum_y}, Σxy = {sum_xy}, Σx² = {sum_x2}, Σy² = {sum_y2}\\n')\n",
    "# Print data.\n",
    "df"
   ]
  },
  {
   "cell_type": "markdown",
   "metadata": {},
   "source": [
    "# Find Sxy, Sxx, Syy\n",
    "\n",
    "+ Sxy: the sample covariance of x and y\n",
    "+ Sxx: the sample variance of x\n",
    "+ Syy: the sample variance of y\n"
   ]
  },
  {
   "cell_type": "code",
   "execution_count": 21,
   "metadata": {},
   "outputs": [
    {
     "name": "stdout",
     "output_type": "stream",
     "text": [
      "Sxy = -6.0, Sxx = 70.0, and Syy = 0.5400000000000045\n",
      "\n"
     ]
    }
   ],
   "source": [
    "# Find Sxy, Sxx, and Syy\n",
    "Sxy = sum_xy - (sum_x * sum_y) / n\n",
    "Sxx = sum_x2 - (sum_x * sum_x) / n\n",
    "Syy = sum_y2 - (sum_y * sum_y) / n\n",
    "print(f'Sxy = {Sxy}, Sxx = {Sxx}, and Syy = {Syy}\\n')\n"
   ]
  },
  {
   "cell_type": "markdown",
   "metadata": {},
   "source": [
    "# General regression equation\n",
    "y = a + bx OR y = b0 + b1x1 + b2x2 + b3x3 + ... + bnxn"
   ]
  },
  {
   "cell_type": "code",
   "execution_count": 24,
   "metadata": {},
   "outputs": [
    {
     "name": "stdout",
     "output_type": "stream",
     "text": [
      "b1 = -0.08571428571428572, b0 = 1.9\n",
      "The regression equation is y = 1.9 + (-0.08571428571428572x)\n"
     ]
    }
   ],
   "source": [
    "# Find b1 and b0\n",
    "b1 = Sxy / Sxx\n",
    "b0 = (sum_y / n) - (b1 * (sum_x / n))\n",
    "print(f'b1 = {b1}, b0 = {b0}\\nThe regression equation is y = {b0} + ({b1}x)')"
   ]
  },
  {
   "cell_type": "markdown",
   "metadata": {},
   "source": [
    "# Find SSTO, SSR, SSE, R2, and R\n",
    "\n",
    "+ SSTO: Total Sum of Squares\n",
    "+ SSR: Regression Sum of Squares\n",
    "+ SSE: Error Sum of Squares\n",
    "+ R2: Coefficient of Determination\n",
    "+ R: Correlation Coefficient\n"
   ]
  },
  {
   "cell_type": "code",
   "execution_count": 32,
   "metadata": {},
   "outputs": [
    {
     "name": "stdout",
     "output_type": "stream",
     "text": [
      "95.23809523809444% of the variation in y is explained by the variation in x\n",
      "  SSTO = 0.5400000000000045\n",
      ", SSR = 0.5142857142857142\n",
      ", SSE = 0.02571428571429024\n",
      ", R^2 = 0.9523809523809444\n",
      ", and R = (0.9759000729485291+0j)\n",
      "\n"
     ]
    }
   ],
   "source": [
    "from cmath import sqrt\n",
    "\n",
    "# determine SSTO, SSR, SSE, R^2, and R\n",
    "# The sum squares of the total:\n",
    "# SSTO = SSR + SSE\n",
    "SSTO = Syy\n",
    "\n",
    "# The sum squares of the regression:\n",
    "# SSR = b1 * Sxy\n",
    "# SSR = (b1^2) * Sxx\n",
    "SSR = (Sxy*Sxy) / Sxx\n",
    "\n",
    "# The sum squares of the error:\n",
    "SSE = Syy - SSR\n",
    "# SSE = ((Sxx * SSyy) - (Sxy*Sxy))/Sxx\n",
    "\n",
    "# The coefficient of determination:\n",
    "R2 = SSR / SSTO\n",
    "# R2 = 1 - (SSE / SSTO)\n",
    "print(f'{R2*100}% of the variation in y is explained by the variation in x')\n",
    "\n",
    "# The correlation coefficient:\n",
    "R = sqrt(R2)\n",
    "\n",
    "print(f'  SSTO = {SSTO}\\n, SSR = {SSR}\\n, SSE = {SSE}\\n, R^2 = {R2}\\n, and R = {R}\\n')"
   ]
  },
  {
   "cell_type": "code",
   "execution_count": 33,
   "metadata": {},
   "outputs": [
    {
     "name": "stderr",
     "output_type": "stream",
     "text": [
      "[NbConvertApp] Converting notebook EDA.ipynb to python\n",
      "[NbConvertApp] Writing 33153 bytes to EDA.py\n",
      "[NbConvertApp] Converting notebook preprocessing.ipynb to python\n",
      "[NbConvertApp] Writing 10095 bytes to preprocessing.py\n",
      "[NbConvertApp] Converting notebook quiz_3.ipynb to python\n",
      "[NbConvertApp] Writing 18247 bytes to quiz_3.py\n",
      "[NbConvertApp] Converting notebook normality_test.ipynb to python\n",
      "[NbConvertApp] Writing 9797 bytes to normality_test.py\n",
      "[NbConvertApp] Converting notebook quiz_2.ipynb to python\n",
      "[NbConvertApp] ERROR | Notebook JSON is invalid: data.cells[{data__cells_x}] must be valid exactly by one definition (0 matches found)\n",
      "\n",
      "Failed validating <unset> in notebook['data']['cells']:\n",
      "\n",
      "On instance:\n",
      "<unset>\n",
      "[NbConvertApp] Writing 9235 bytes to quiz_2.py\n",
      "[NbConvertApp] Converting notebook regression.ipynb to python\n",
      "[NbConvertApp] Writing 2889 bytes to regression.py\n",
      "[NbConvertApp] Converting notebook statistical_methods.ipynb to python\n",
      "[NbConvertApp] Writing 3015 bytes to statistical_methods.py\n",
      "[NbConvertApp] Converting notebook demo_normality_test.ipynb to python\n",
      "[NbConvertApp] Writing 3950 bytes to demo_normality_test.py\n",
      "[NbConvertApp] Converting notebook model_drop_cols.ipynb to python\n",
      "[NbConvertApp] Writing 25511 bytes to model_drop_cols.py\n",
      "[NbConvertApp] Converting notebook model.ipynb to python\n",
      "[NbConvertApp] Writing 25334 bytes to model.py\n"
     ]
    }
   ],
   "source": [
    "import os\n",
    "\n",
    "# The .py format of the jupyter notebook\n",
    "for fname in os.listdir():\n",
    "    if fname.endswith('ipynb'):\n",
    "        os.system(f'jupyter nbconvert {fname} --to python')"
   ]
  },
  {
   "cell_type": "code",
   "execution_count": null,
   "metadata": {},
   "outputs": [],
   "source": []
  }
 ],
 "metadata": {
  "kernelspec": {
   "display_name": "Python 3 (ipykernel)",
   "language": "python",
   "name": "python3"
  },
  "language_info": {
   "codemirror_mode": {
    "name": "ipython",
    "version": 3
   },
   "file_extension": ".py",
   "mimetype": "text/x-python",
   "name": "python",
   "nbconvert_exporter": "python",
   "pygments_lexer": "ipython3",
   "version": "3.10.4"
  }
 },
 "nbformat": 4,
 "nbformat_minor": 1
}
