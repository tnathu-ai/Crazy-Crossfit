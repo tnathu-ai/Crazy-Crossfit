{
 "cells": [
  {
   "cell_type": "markdown",
   "metadata": {
    "pycharm": {
     "name": "#%% md\n"
    }
   },
   "source": [
    "<h1 style=\"color:#ffc0cb;font-size:70px;font-family:Georgia;text-align:center;\"><strong>Crazy Crossfit in 2015</strong></h1>\n",
    "\n",
    "### 1. Preprocessing\n",
    "+ Import python libraries and dataset\n",
    "+ Merge 2 data frames (athletes & leaderboard_15)\n",
    "+ Put change labels on the data.\n",
    "+ Check and drop duplicated rows\n",
    "+ Strip extra white-space and lowercase string content values\n",
    "+ Make athlete_id unique\n",
    "+ Drop meaningless columns or columns contains only a value: `retrieved_datetime_x`, `retrieved_datetime_y`, `year`, `stage`, `scaled`, `howlong`\n",
    "\n",
    "\n",
    "### 2. EDA\n",
    "created correlation maps to see the relationship between variables and Word Cloud to visualise text contents\n",
    "\n",
    "### 3. Basic Statistics\n",
    "+ Descriptive Statistics\n",
    "+ Probability Distributions\n",
    "+ Normality Test\n",
    "+ Confidence Intervals\n",
    "+ Normality Test\n",
    "\n",
    "### 4. Inferential Statistics\n",
    "+ Hypothesis Testing\n",
    "\n",
    "+ The Mann-Whitney U test for comparing independent data samples: the nonparametric version of the Student t-test.\n",
    "+ The Wilcoxon signed-rank test for comparing paired data samples: the nonparametric version of the paired Student t-test.\n",
    "+ The Kruskal-Wallis H and Friedman tests for comparing more than two data samples: the nonparametric version of the ANOVA and repeated measures ANOVA tests.\n",
    "\n",
    "\n",
    "<h1 style=\"color:#ffc0cb;font-size:70px;font-family:Georgia;text-align:center;\"><strong>2. EDA</strong></h1>"
   ]
  },
  {
   "cell_type": "code",
   "execution_count": 48,
   "metadata": {
    "pycharm": {
     "name": "#%%\n"
    }
   },
   "outputs": [
    {
     "name": "stdout",
     "output_type": "stream",
     "text": [
      "Requirement already satisfied: statsmodels in /Users/tnathu-ai/.conda/envs/Advanced_Programming_for_Data_Science/lib/python3.10/site-packages (0.13.2)\r\n",
      "Requirement already satisfied: numpy>=1.17 in /Users/tnathu-ai/.conda/envs/Advanced_Programming_for_Data_Science/lib/python3.10/site-packages (from statsmodels) (1.23.1)\r\n",
      "Requirement already satisfied: pandas>=0.25 in /Users/tnathu-ai/.conda/envs/Advanced_Programming_for_Data_Science/lib/python3.10/site-packages (from statsmodels) (1.4.3)\r\n",
      "Requirement already satisfied: patsy>=0.5.2 in /Users/tnathu-ai/.conda/envs/Advanced_Programming_for_Data_Science/lib/python3.10/site-packages (from statsmodels) (0.5.2)\r\n",
      "Requirement already satisfied: scipy>=1.3 in /Users/tnathu-ai/.conda/envs/Advanced_Programming_for_Data_Science/lib/python3.10/site-packages (from statsmodels) (1.9.0)\r\n",
      "Requirement already satisfied: packaging>=21.3 in /Users/tnathu-ai/.conda/envs/Advanced_Programming_for_Data_Science/lib/python3.10/site-packages (from statsmodels) (21.3)\r\n",
      "Requirement already satisfied: pyparsing!=3.0.5,>=2.0.2 in /Users/tnathu-ai/.conda/envs/Advanced_Programming_for_Data_Science/lib/python3.10/site-packages (from packaging>=21.3->statsmodels) (3.0.4)\r\n",
      "Requirement already satisfied: python-dateutil>=2.8.1 in /Users/tnathu-ai/.conda/envs/Advanced_Programming_for_Data_Science/lib/python3.10/site-packages (from pandas>=0.25->statsmodels) (2.8.2)\r\n",
      "Requirement already satisfied: pytz>=2020.1 in /Users/tnathu-ai/.conda/envs/Advanced_Programming_for_Data_Science/lib/python3.10/site-packages (from pandas>=0.25->statsmodels) (2022.1)\r\n",
      "Requirement already satisfied: six in /Users/tnathu-ai/.conda/envs/Advanced_Programming_for_Data_Science/lib/python3.10/site-packages (from patsy>=0.5.2->statsmodels) (1.16.0)\r\n",
      "Requirement already satisfied: wordcloud in /Users/tnathu-ai/.conda/envs/Advanced_Programming_for_Data_Science/lib/python3.10/site-packages (1.8.2.2)\r\n",
      "Requirement already satisfied: matplotlib in /Users/tnathu-ai/.conda/envs/Advanced_Programming_for_Data_Science/lib/python3.10/site-packages (from wordcloud) (3.5.1)\r\n",
      "Requirement already satisfied: pillow in /Users/tnathu-ai/.conda/envs/Advanced_Programming_for_Data_Science/lib/python3.10/site-packages (from wordcloud) (9.2.0)\r\n",
      "Requirement already satisfied: numpy>=1.6.1 in /Users/tnathu-ai/.conda/envs/Advanced_Programming_for_Data_Science/lib/python3.10/site-packages (from wordcloud) (1.23.1)\r\n",
      "Requirement already satisfied: packaging>=20.0 in /Users/tnathu-ai/.conda/envs/Advanced_Programming_for_Data_Science/lib/python3.10/site-packages (from matplotlib->wordcloud) (21.3)\r\n",
      "Requirement already satisfied: cycler>=0.10 in /Users/tnathu-ai/.conda/envs/Advanced_Programming_for_Data_Science/lib/python3.10/site-packages (from matplotlib->wordcloud) (0.11.0)\r\n",
      "Requirement already satisfied: pyparsing>=2.2.1 in /Users/tnathu-ai/.conda/envs/Advanced_Programming_for_Data_Science/lib/python3.10/site-packages (from matplotlib->wordcloud) (3.0.4)\r\n",
      "Requirement already satisfied: fonttools>=4.22.0 in /Users/tnathu-ai/.conda/envs/Advanced_Programming_for_Data_Science/lib/python3.10/site-packages (from matplotlib->wordcloud) (4.25.0)\r\n",
      "Requirement already satisfied: kiwisolver>=1.0.1 in /Users/tnathu-ai/.conda/envs/Advanced_Programming_for_Data_Science/lib/python3.10/site-packages (from matplotlib->wordcloud) (1.4.2)\r\n",
      "Requirement already satisfied: python-dateutil>=2.7 in /Users/tnathu-ai/.conda/envs/Advanced_Programming_for_Data_Science/lib/python3.10/site-packages (from matplotlib->wordcloud) (2.8.2)\r\n",
      "Requirement already satisfied: six>=1.5 in /Users/tnathu-ai/.conda/envs/Advanced_Programming_for_Data_Science/lib/python3.10/site-packages (from python-dateutil>=2.7->matplotlib->wordcloud) (1.16.0)\r\n"
     ]
    }
   ],
   "source": [
    "# Install a conda package in the current Jupyter kernel\n",
    "import sys\n",
    "!{sys.executable} -m pip install statsmodels\n",
    "!{sys.executable} -m pip install wordcloud\n",
    "\n",
    "\n",
    "# work with df in tabular representation\n",
    "from datetime import time\n",
    "import pandas as pd\n",
    "# round the df in the correlation matrix\n",
    "import numpy as np\n",
    "import os\n",
    "from scipy.stats import t\n",
    "from scipy import stats\n",
    "from statistics import *\n",
    "from scipy.stats import shapiro\n",
    "from numpy import mean\n",
    "from numpy import std\n",
    "\n",
    "# Modules for df visualization\n",
    "import seaborn as sns\n",
    "import matplotlib.pyplot as plt\n",
    "\n",
    "from wordcloud import WordCloud\n",
    "\n",
    "pd.set_option('display.max_rows', 200)\n",
    "pd.set_option('display.max_columns', 200)\n",
    "\n",
    "plt.rcParams['figure.figsize'] = [6, 6]\n",
    "\n",
    "# Ensure that our plots are shown and embedded within the Jupyter notebook itself. Without this command, sometimes plots may show up in pop-up windows\n",
    "%matplotlib inline\n",
    "\n",
    "# overwrite the style of all the matplotlib graphs\n",
    "sns.set()\n",
    "\n",
    "# ignore DeprecationWarning Error Messages\n",
    "import warnings\n",
    "warnings.filterwarnings('ignore')"
   ]
  },
  {
   "cell_type": "code",
   "execution_count": 49,
   "metadata": {
    "pycharm": {
     "name": "#%%\n"
    }
   },
   "outputs": [
    {
     "name": "stdout",
     "output_type": "stream",
     "text": [
      "Numpy version:  1.23.1\n",
      "Pandas version:  1.4.3\n",
      "Python 3.10.4\r\n"
     ]
    }
   ],
   "source": [
    "# check the version of the packages\n",
    "print(\"Numpy version: \", np.__version__)\n",
    "print(\"Pandas version: \",pd.__version__)\n",
    "! python --version"
   ]
  },
  {
   "cell_type": "code",
   "execution_count": 50,
   "metadata": {
    "pycharm": {
     "name": "#%%\n"
    }
   },
   "outputs": [],
   "source": [
    "# set the general path of the external df\n",
    "external_df_path = os.path.join(os.path.pardir,'data','interim')\n",
    "\n",
    "# set the path for specific dfset from external dfset\n",
    "df = os.path.join(external_df_path, 'cleaned_data.csv')"
   ]
  },
  {
   "cell_type": "code",
   "execution_count": 51,
   "metadata": {
    "pycharm": {
     "name": "#%%\n"
    }
   },
   "outputs": [
    {
     "name": "stdout",
     "output_type": "stream",
     "text": [
      "Numeric columns:  ['athlete_id', 'age', 'height', 'weight', 'fran', 'helen', 'grace', 'filthy50', 'fgonebad', 'run400', 'run5k', 'candj', 'snatch', 'deadlift', 'backsq', 'pullups', 'rank', 'score'] \n",
      "\n",
      "String columns:  ['name', 'region', 'team', 'affiliate', 'gender', 'eat', 'train', 'background', 'experience', 'schedule', 'division'] \n",
      "\n",
      "\n",
      "<class 'pandas.core.frame.DataFrame'>\n",
      "RangeIndex: 991 entries, 0 to 990\n",
      "Data columns (total 29 columns):\n",
      " #   Column      Non-Null Count  Dtype \n",
      "---  ------      --------------  ----- \n",
      " 0   athlete_id  991 non-null    Int64 \n",
      " 1   name        991 non-null    string\n",
      " 2   region      991 non-null    string\n",
      " 3   team        991 non-null    string\n",
      " 4   affiliate   991 non-null    string\n",
      " 5   gender      991 non-null    string\n",
      " 6   age         991 non-null    Int64 \n",
      " 7   height      991 non-null    Int64 \n",
      " 8   weight      991 non-null    Int64 \n",
      " 9   fran        991 non-null    Int64 \n",
      " 10  helen       991 non-null    Int64 \n",
      " 11  grace       991 non-null    Int64 \n",
      " 12  filthy50    991 non-null    Int64 \n",
      " 13  fgonebad    991 non-null    Int64 \n",
      " 14  run400      991 non-null    Int64 \n",
      " 15  run5k       991 non-null    Int64 \n",
      " 16  candj       991 non-null    Int64 \n",
      " 17  snatch      991 non-null    Int64 \n",
      " 18  deadlift    991 non-null    Int64 \n",
      " 19  backsq      991 non-null    Int64 \n",
      " 20  pullups     991 non-null    Int64 \n",
      " 21  eat         991 non-null    string\n",
      " 22  train       991 non-null    string\n",
      " 23  background  991 non-null    string\n",
      " 24  experience  991 non-null    string\n",
      " 25  schedule    991 non-null    string\n",
      " 26  division    991 non-null    string\n",
      " 27  rank        991 non-null    Int64 \n",
      " 28  score       991 non-null    Int64 \n",
      "dtypes: Int64(18), string(11)\n",
      "memory usage: 242.1 KB\n",
      "The shape and df type of the ORGINAL df: None\n"
     ]
    },
    {
     "data": {
      "text/plain": "   athlete_id              name         region                team  \\\n0        2720      justin adams  south central   woodward crossfit   \n1        6922    daniel adamson     south west  crossfit the point   \n2       12563  steven lee adams   mid atlantic      crossfit kaiju   \n\n            affiliate gender  age  height  weight  fran  helen  grace  \\\n0   woodward crossfit   male   24      68     180   126    449     86   \n1  crossfit the point   male   31      67     150   244    486    294   \n2      crossfit kaiju   male   37      72     210   162    482    143   \n\n   filthy50  fgonebad  run400  run5k  candj  snatch  deadlift  backsq  \\\n0       988       425      58   1302    315     240       475     405   \n1      1217       330      63   1268    230     175       410     330   \n2      1243       366      66   1320    285     205       525     425   \n\n   pullups                                                eat  \\\n0       80  i eat quality foods but don't measure the amount|   \n1       42  i eat quality foods but don't measure the amount|   \n2       49  i eat quality foods but don't measure the amou...   \n\n                                               train  \\\n0  i workout mostly at a crossfit affiliate|i hav...   \n1  i workout mostly at a crossfit affiliate|i inc...   \n2  i workout mostly at a crossfit affiliate|i inc...   \n\n                                          background  \\\n0        i played youth or high school level sports|   \n1                           i played college sports|   \n2  i played youth or high school level sports|i p...   \n\n                                          experience  \\\n0  i began crossfit with a coach (e.g. at an affi...   \n1  i began crossfit by trying it alone (without a...   \n2  i began crossfit with a coach (e.g. at an affi...   \n\n                                            schedule division   rank  score  \n0  i do multiple workouts in a day 3+ times a wee...     male   3448    464  \n1  i usually only do 1 workout a day|i do multipl...     male  35748    712  \n2  i do multiple workouts in a day 2x a week|i ty...     male   5073    485  ",
      "text/html": "<div>\n<style scoped>\n    .dataframe tbody tr th:only-of-type {\n        vertical-align: middle;\n    }\n\n    .dataframe tbody tr th {\n        vertical-align: top;\n    }\n\n    .dataframe thead th {\n        text-align: right;\n    }\n</style>\n<table border=\"1\" class=\"dataframe\">\n  <thead>\n    <tr style=\"text-align: right;\">\n      <th></th>\n      <th>athlete_id</th>\n      <th>name</th>\n      <th>region</th>\n      <th>team</th>\n      <th>affiliate</th>\n      <th>gender</th>\n      <th>age</th>\n      <th>height</th>\n      <th>weight</th>\n      <th>fran</th>\n      <th>helen</th>\n      <th>grace</th>\n      <th>filthy50</th>\n      <th>fgonebad</th>\n      <th>run400</th>\n      <th>run5k</th>\n      <th>candj</th>\n      <th>snatch</th>\n      <th>deadlift</th>\n      <th>backsq</th>\n      <th>pullups</th>\n      <th>eat</th>\n      <th>train</th>\n      <th>background</th>\n      <th>experience</th>\n      <th>schedule</th>\n      <th>division</th>\n      <th>rank</th>\n      <th>score</th>\n    </tr>\n  </thead>\n  <tbody>\n    <tr>\n      <th>0</th>\n      <td>2720</td>\n      <td>justin adams</td>\n      <td>south central</td>\n      <td>woodward crossfit</td>\n      <td>woodward crossfit</td>\n      <td>male</td>\n      <td>24</td>\n      <td>68</td>\n      <td>180</td>\n      <td>126</td>\n      <td>449</td>\n      <td>86</td>\n      <td>988</td>\n      <td>425</td>\n      <td>58</td>\n      <td>1302</td>\n      <td>315</td>\n      <td>240</td>\n      <td>475</td>\n      <td>405</td>\n      <td>80</td>\n      <td>i eat quality foods but don't measure the amount|</td>\n      <td>i workout mostly at a crossfit affiliate|i hav...</td>\n      <td>i played youth or high school level sports|</td>\n      <td>i began crossfit with a coach (e.g. at an affi...</td>\n      <td>i do multiple workouts in a day 3+ times a wee...</td>\n      <td>male</td>\n      <td>3448</td>\n      <td>464</td>\n    </tr>\n    <tr>\n      <th>1</th>\n      <td>6922</td>\n      <td>daniel adamson</td>\n      <td>south west</td>\n      <td>crossfit the point</td>\n      <td>crossfit the point</td>\n      <td>male</td>\n      <td>31</td>\n      <td>67</td>\n      <td>150</td>\n      <td>244</td>\n      <td>486</td>\n      <td>294</td>\n      <td>1217</td>\n      <td>330</td>\n      <td>63</td>\n      <td>1268</td>\n      <td>230</td>\n      <td>175</td>\n      <td>410</td>\n      <td>330</td>\n      <td>42</td>\n      <td>i eat quality foods but don't measure the amount|</td>\n      <td>i workout mostly at a crossfit affiliate|i inc...</td>\n      <td>i played college sports|</td>\n      <td>i began crossfit by trying it alone (without a...</td>\n      <td>i usually only do 1 workout a day|i do multipl...</td>\n      <td>male</td>\n      <td>35748</td>\n      <td>712</td>\n    </tr>\n    <tr>\n      <th>2</th>\n      <td>12563</td>\n      <td>steven lee adams</td>\n      <td>mid atlantic</td>\n      <td>crossfit kaiju</td>\n      <td>crossfit kaiju</td>\n      <td>male</td>\n      <td>37</td>\n      <td>72</td>\n      <td>210</td>\n      <td>162</td>\n      <td>482</td>\n      <td>143</td>\n      <td>1243</td>\n      <td>366</td>\n      <td>66</td>\n      <td>1320</td>\n      <td>285</td>\n      <td>205</td>\n      <td>525</td>\n      <td>425</td>\n      <td>49</td>\n      <td>i eat quality foods but don't measure the amou...</td>\n      <td>i workout mostly at a crossfit affiliate|i inc...</td>\n      <td>i played youth or high school level sports|i p...</td>\n      <td>i began crossfit with a coach (e.g. at an affi...</td>\n      <td>i do multiple workouts in a day 2x a week|i ty...</td>\n      <td>male</td>\n      <td>5073</td>\n      <td>485</td>\n    </tr>\n  </tbody>\n</table>\n</div>"
     },
     "execution_count": 51,
     "metadata": {},
     "output_type": "execute_result"
    }
   ],
   "source": [
    "# import dfset\n",
    "df = pd.read_csv(df, delimiter=',', skipinitialspace = True)\n",
    "\n",
    "# convert columns to the best possible dtypes, object->string\n",
    "df = df.convert_dtypes()\n",
    "\n",
    "# select numeric columns\n",
    "df_numeric = df.select_dtypes(include=[np.number]).columns.to_list()\n",
    "\n",
    "# select non-numeric columns\n",
    "df_string = df.select_dtypes(include='string').columns.tolist()\n",
    "\n",
    "\n",
    "print(\"Numeric columns: \", df_numeric, \"\\n\")\n",
    "print(\"String columns: \", df_string, \"\\n\\n\")\n",
    "\n",
    "# print dfset info\n",
    "print(\"The shape and df type of the ORGINAL df:\", str(df.info()))\n",
    "\n",
    "# print first 5 rows\n",
    "df.head(3)"
   ]
  },
  {
   "cell_type": "code",
   "execution_count": 52,
   "metadata": {
    "pycharm": {
     "name": "#%%\n"
    }
   },
   "outputs": [
    {
     "data": {
      "text/plain": "            count          mean            std    min      25%      50%  \\\nathlete_id  991.0  77301.827447   94565.819796   88.0  10446.0  33166.0   \nage         991.0     33.147326       6.681385   17.0     28.0     32.0   \nheight      991.0   8534.258325  266470.674449   39.0     67.0     70.0   \nweight      991.0    180.637740      27.973706   88.0    163.5    183.0   \nfran        991.0    276.001009     374.220295   60.0    168.5    217.0   \nhelen       991.0    582.930373     351.778297   60.0    480.0    530.0   \ngrace       991.0    217.392533     375.440786   30.0    121.0    159.0   \nfilthy50    991.0   1458.544904     532.004458   50.0   1165.0   1359.0   \nfgonebad    991.0    436.349142    3167.322549    0.0    298.5    338.0   \nrun400      991.0    109.273461     353.075236    4.0     60.0     67.0   \nrun5k       991.0   1380.341070     431.310822   60.0   1200.0   1320.0   \ncandj       991.0    238.267407      66.794545    0.0    205.0    243.0   \nsnatch      991.0    185.657921      58.674234    0.0    154.5    185.0   \ndeadlift    991.0    407.144299     101.731933    0.0    355.0    415.0   \nbacksq      991.0    333.676085      96.486326    2.0    275.0    340.0   \npullups     991.0     39.438951      27.780381    0.0     28.0     38.0   \nrank        991.0  18972.808274   18142.181666   33.0   4065.0  12982.0   \nscore       991.0    610.549950     156.304557  349.0    489.5    587.0   \n\n                 75%        max  \nathlete_id  112518.0   568157.0  \nage             37.0       54.0  \nheight          72.0  8388607.0  \nweight         199.5      298.0  \nfran           290.0     5940.0  \nhelen          602.0     5940.0  \ngrace          214.0     5940.0  \nfilthy50      1614.0     5940.0  \nfgonebad       392.0   100000.0  \nrun400          77.0     5940.0  \nrun5k         1451.0     5953.0  \ncandj          276.0     1111.0  \nsnatch         218.0     1111.0  \ndeadlift       475.0     1225.0  \nbacksq         390.5     1550.0  \npullups         50.0      742.0  \nrank         29061.0    80327.0  \nscore          698.0     1262.0  ",
      "text/html": "<div>\n<style scoped>\n    .dataframe tbody tr th:only-of-type {\n        vertical-align: middle;\n    }\n\n    .dataframe tbody tr th {\n        vertical-align: top;\n    }\n\n    .dataframe thead th {\n        text-align: right;\n    }\n</style>\n<table border=\"1\" class=\"dataframe\">\n  <thead>\n    <tr style=\"text-align: right;\">\n      <th></th>\n      <th>count</th>\n      <th>mean</th>\n      <th>std</th>\n      <th>min</th>\n      <th>25%</th>\n      <th>50%</th>\n      <th>75%</th>\n      <th>max</th>\n    </tr>\n  </thead>\n  <tbody>\n    <tr>\n      <th>athlete_id</th>\n      <td>991.0</td>\n      <td>77301.827447</td>\n      <td>94565.819796</td>\n      <td>88.0</td>\n      <td>10446.0</td>\n      <td>33166.0</td>\n      <td>112518.0</td>\n      <td>568157.0</td>\n    </tr>\n    <tr>\n      <th>age</th>\n      <td>991.0</td>\n      <td>33.147326</td>\n      <td>6.681385</td>\n      <td>17.0</td>\n      <td>28.0</td>\n      <td>32.0</td>\n      <td>37.0</td>\n      <td>54.0</td>\n    </tr>\n    <tr>\n      <th>height</th>\n      <td>991.0</td>\n      <td>8534.258325</td>\n      <td>266470.674449</td>\n      <td>39.0</td>\n      <td>67.0</td>\n      <td>70.0</td>\n      <td>72.0</td>\n      <td>8388607.0</td>\n    </tr>\n    <tr>\n      <th>weight</th>\n      <td>991.0</td>\n      <td>180.637740</td>\n      <td>27.973706</td>\n      <td>88.0</td>\n      <td>163.5</td>\n      <td>183.0</td>\n      <td>199.5</td>\n      <td>298.0</td>\n    </tr>\n    <tr>\n      <th>fran</th>\n      <td>991.0</td>\n      <td>276.001009</td>\n      <td>374.220295</td>\n      <td>60.0</td>\n      <td>168.5</td>\n      <td>217.0</td>\n      <td>290.0</td>\n      <td>5940.0</td>\n    </tr>\n    <tr>\n      <th>helen</th>\n      <td>991.0</td>\n      <td>582.930373</td>\n      <td>351.778297</td>\n      <td>60.0</td>\n      <td>480.0</td>\n      <td>530.0</td>\n      <td>602.0</td>\n      <td>5940.0</td>\n    </tr>\n    <tr>\n      <th>grace</th>\n      <td>991.0</td>\n      <td>217.392533</td>\n      <td>375.440786</td>\n      <td>30.0</td>\n      <td>121.0</td>\n      <td>159.0</td>\n      <td>214.0</td>\n      <td>5940.0</td>\n    </tr>\n    <tr>\n      <th>filthy50</th>\n      <td>991.0</td>\n      <td>1458.544904</td>\n      <td>532.004458</td>\n      <td>50.0</td>\n      <td>1165.0</td>\n      <td>1359.0</td>\n      <td>1614.0</td>\n      <td>5940.0</td>\n    </tr>\n    <tr>\n      <th>fgonebad</th>\n      <td>991.0</td>\n      <td>436.349142</td>\n      <td>3167.322549</td>\n      <td>0.0</td>\n      <td>298.5</td>\n      <td>338.0</td>\n      <td>392.0</td>\n      <td>100000.0</td>\n    </tr>\n    <tr>\n      <th>run400</th>\n      <td>991.0</td>\n      <td>109.273461</td>\n      <td>353.075236</td>\n      <td>4.0</td>\n      <td>60.0</td>\n      <td>67.0</td>\n      <td>77.0</td>\n      <td>5940.0</td>\n    </tr>\n    <tr>\n      <th>run5k</th>\n      <td>991.0</td>\n      <td>1380.341070</td>\n      <td>431.310822</td>\n      <td>60.0</td>\n      <td>1200.0</td>\n      <td>1320.0</td>\n      <td>1451.0</td>\n      <td>5953.0</td>\n    </tr>\n    <tr>\n      <th>candj</th>\n      <td>991.0</td>\n      <td>238.267407</td>\n      <td>66.794545</td>\n      <td>0.0</td>\n      <td>205.0</td>\n      <td>243.0</td>\n      <td>276.0</td>\n      <td>1111.0</td>\n    </tr>\n    <tr>\n      <th>snatch</th>\n      <td>991.0</td>\n      <td>185.657921</td>\n      <td>58.674234</td>\n      <td>0.0</td>\n      <td>154.5</td>\n      <td>185.0</td>\n      <td>218.0</td>\n      <td>1111.0</td>\n    </tr>\n    <tr>\n      <th>deadlift</th>\n      <td>991.0</td>\n      <td>407.144299</td>\n      <td>101.731933</td>\n      <td>0.0</td>\n      <td>355.0</td>\n      <td>415.0</td>\n      <td>475.0</td>\n      <td>1225.0</td>\n    </tr>\n    <tr>\n      <th>backsq</th>\n      <td>991.0</td>\n      <td>333.676085</td>\n      <td>96.486326</td>\n      <td>2.0</td>\n      <td>275.0</td>\n      <td>340.0</td>\n      <td>390.5</td>\n      <td>1550.0</td>\n    </tr>\n    <tr>\n      <th>pullups</th>\n      <td>991.0</td>\n      <td>39.438951</td>\n      <td>27.780381</td>\n      <td>0.0</td>\n      <td>28.0</td>\n      <td>38.0</td>\n      <td>50.0</td>\n      <td>742.0</td>\n    </tr>\n    <tr>\n      <th>rank</th>\n      <td>991.0</td>\n      <td>18972.808274</td>\n      <td>18142.181666</td>\n      <td>33.0</td>\n      <td>4065.0</td>\n      <td>12982.0</td>\n      <td>29061.0</td>\n      <td>80327.0</td>\n    </tr>\n    <tr>\n      <th>score</th>\n      <td>991.0</td>\n      <td>610.549950</td>\n      <td>156.304557</td>\n      <td>349.0</td>\n      <td>489.5</td>\n      <td>587.0</td>\n      <td>698.0</td>\n      <td>1262.0</td>\n    </tr>\n  </tbody>\n</table>\n</div>"
     },
     "execution_count": 52,
     "metadata": {},
     "output_type": "execute_result"
    }
   ],
   "source": [
    "# see the static of all numerical column\n",
    "df.describe().T"
   ]
  },
  {
   "cell_type": "code",
   "execution_count": 53,
   "metadata": {
    "pycharm": {
     "name": "#%%\n"
    }
   },
   "outputs": [
    {
     "data": {
      "text/plain": "<IntegerArray>\n[1302, 1268, 1320, 1454, 1365, 1260, 1337, 1660, 1200, 1935,\n ...\n 1701, 1477, 1883, 2565, 1852, 1743, 1901, 2186, 2100, 2069]\nLength: 472, dtype: Int64"
     },
     "execution_count": 53,
     "metadata": {},
     "output_type": "execute_result"
    }
   ],
   "source": [
    "df.run5k.unique()"
   ]
  },
  {
   "cell_type": "code",
   "execution_count": 54,
   "metadata": {
    "pycharm": {
     "name": "#%%\n"
    }
   },
   "outputs": [
    {
     "name": "stdout",
     "output_type": "stream",
     "text": [
      "True\n"
     ]
    },
    {
     "data": {
      "text/plain": "        count       mean        std   min     1%     5%    10%    20%    50%  \\\nweight  991.0  180.63774  27.973706  88.0  117.9  133.0  140.0  156.0  183.0   \n\n          80%    90%    95%    99%    max  \nweight  204.0  215.0  220.0  250.0  298.0  ",
      "text/html": "<div>\n<style scoped>\n    .dataframe tbody tr th:only-of-type {\n        vertical-align: middle;\n    }\n\n    .dataframe tbody tr th {\n        vertical-align: top;\n    }\n\n    .dataframe thead th {\n        text-align: right;\n    }\n</style>\n<table border=\"1\" class=\"dataframe\">\n  <thead>\n    <tr style=\"text-align: right;\">\n      <th></th>\n      <th>count</th>\n      <th>mean</th>\n      <th>std</th>\n      <th>min</th>\n      <th>1%</th>\n      <th>5%</th>\n      <th>10%</th>\n      <th>20%</th>\n      <th>50%</th>\n      <th>80%</th>\n      <th>90%</th>\n      <th>95%</th>\n      <th>99%</th>\n      <th>max</th>\n    </tr>\n  </thead>\n  <tbody>\n    <tr>\n      <th>weight</th>\n      <td>991.0</td>\n      <td>180.63774</td>\n      <td>27.973706</td>\n      <td>88.0</td>\n      <td>117.9</td>\n      <td>133.0</td>\n      <td>140.0</td>\n      <td>156.0</td>\n      <td>183.0</td>\n      <td>204.0</td>\n      <td>215.0</td>\n      <td>220.0</td>\n      <td>250.0</td>\n      <td>298.0</td>\n    </tr>\n  </tbody>\n</table>\n</div>"
     },
     "execution_count": 54,
     "metadata": {},
     "output_type": "execute_result"
    }
   ],
   "source": [
    "# Number of Unique Athlete\n",
    "print(df.athlete_id.nunique() == df.shape[0])\n",
    "# Summary Stats: weight\n",
    "df.describe([0.01, 0.05, 0.10, 0.20, 0.80, 0.90, 0.95, 0.99])[[\"weight\"]].T"
   ]
  },
  {
   "cell_type": "code",
   "execution_count": 55,
   "metadata": {
    "pycharm": {
     "name": "#%%\n"
    }
   },
   "outputs": [
    {
     "data": {
      "text/plain": "        count  median        mean        std  max\ngender                                           \nfemale    178   140.0  140.533708  13.775090  188\nmale      813   188.0  189.418204  21.976079  298",
      "text/html": "<div>\n<style scoped>\n    .dataframe tbody tr th:only-of-type {\n        vertical-align: middle;\n    }\n\n    .dataframe tbody tr th {\n        vertical-align: top;\n    }\n\n    .dataframe thead th {\n        text-align: right;\n    }\n</style>\n<table border=\"1\" class=\"dataframe\">\n  <thead>\n    <tr style=\"text-align: right;\">\n      <th></th>\n      <th>count</th>\n      <th>median</th>\n      <th>mean</th>\n      <th>std</th>\n      <th>max</th>\n    </tr>\n    <tr>\n      <th>gender</th>\n      <th></th>\n      <th></th>\n      <th></th>\n      <th></th>\n      <th></th>\n    </tr>\n  </thead>\n  <tbody>\n    <tr>\n      <th>female</th>\n      <td>178</td>\n      <td>140.0</td>\n      <td>140.533708</td>\n      <td>13.775090</td>\n      <td>188</td>\n    </tr>\n    <tr>\n      <th>male</th>\n      <td>813</td>\n      <td>188.0</td>\n      <td>189.418204</td>\n      <td>21.976079</td>\n      <td>298</td>\n    </tr>\n  </tbody>\n</table>\n</div>"
     },
     "execution_count": 55,
     "metadata": {},
     "output_type": "execute_result"
    }
   ],
   "source": [
    "# Groups & Target Summary Stats\n",
    "df.groupby(\"gender\").weight.agg([\"count\", \"median\", \"mean\", \"std\", \"max\"])"
   ]
  },
  {
   "cell_type": "code",
   "execution_count": 56,
   "metadata": {
    "pycharm": {
     "name": "#%%\n"
    }
   },
   "outputs": [],
   "source": [
    "def visualize_word(col_name):\n",
    "    text = df[col_name].values\n",
    "    wordcloud = WordCloud().generate(str(text))\n",
    "    plt.imshow(wordcloud)\n",
    "    plt.axis(\"off\")\n",
    "    plt.savefig('visualize_word.png')\n",
    "    plt.show()"
   ]
  },
  {
   "cell_type": "code",
   "execution_count": 57,
   "metadata": {
    "pycharm": {
     "name": "#%%\n"
    }
   },
   "outputs": [
    {
     "data": {
      "text/plain": "<Figure size 432x288 with 1 Axes>",
      "image/png": "[encoded data removed]"
     },
     "metadata": {},
     "output_type": "display_data"
    }
   ],
   "source": [
    "visualize_word('eat')"
   ]
  },
  {
   "cell_type": "markdown",
   "source": [
    "### The Central Limit Theorem\n",
    "If n>30, the Central Limit Theorem can be used.\n",
    "\n",
    "Unlike the normal case, these histograms all differ in shape. In particular, they become progressively less skewed as the sample size n increases.\n",
    "\n",
    "provide convincing evidence that a sample size of n=30 is sufficient to overcome the skewness of the population distribution and give an approximately normal X sampling distribution."
   ],
   "metadata": {
    "collapsed": false,
    "pycharm": {
     "name": "#%% md\n"
    }
   }
  },
  {
   "cell_type": "code",
   "execution_count": 58,
   "outputs": [
    {
     "data": {
      "application/vnd.plotly.v1+json": {
       "data": [
        {
         "alignmentgroup": "True",
         "bingroup": "x",
         "histfunc": "avg",
         "hovertemplate": "gender=%{x}<br>avg of weight=%{y}<extra></extra>",
         "legendgroup": "",
         "marker": {
          "color": "#636efa",
          "pattern": {
           "shape": ""
          }
         },
         "name": "",
         "offsetgroup": "",
         "orientation": "v",
         "showlegend": false,
         "x": [
          "male",
          "male",
          "male",
          "male",
          "male",
          "male",
          "male",
          "male",
          "male",
          "male",
          "male",
          "male",
          "male",
          "male",
          "male",
          "male",
          "male",
          "male",
          "male",
          "male",
          "male",
          "male",
          "male",
          "male",
          "male",
          "male",
          "male",
          "male",
          "male",
          "male",
          "male",
          "male",
          "male",
          "male",
          "male",
          "male",
          "male",
          "male",
          "male",
          "male",
          "male",
          "male",
          "male",
          "male",
          "male",
          "male",
          "male",
          "male",
          "male",
          "male",
          "male",
          "male",
          "male",
          "male",
          "male",
          "male",
          "male",
          "male",
          "male",
          "male",
          "male",
          "male",
          "male",
          "male",
          "male",
          "male",
          "male",
          "male",
          "male",
          "male",
          "male",
          "male",
          "male",
          "male",
          "male",
          "male",
          "male",
          "male",
          "male",
          "male",
          "male",
          "male",
          "male",
          "male",
          "male",
          "male",
          "male",
          "male",
          "male",
          "male",
          "male",
          "male",
          "male",
          "male",
          "male",
          "male",
          "male",
          "male",
          "male",
          "male",
          "male",
          "male",
          "male",
          "male",
          "male",
          "male",
          "male",
          "male",
          "male",
          "male",
          "male",
          "male",
          "male",
          "male",
          "male",
          "male",
          "male",
          "male",
          "male",
          "male",
          "male",
          "male",
          "male",
          "male",
          "male",
          "male",
          "male",
          "male",
          "male",
          "male",
          "male",
          "male",
          "male",
          "male",
          "male",
          "male",
          "male",
          "male",
          "male",
          "male",
          "male",
          "male",
          "male",
          "male",
          "male",
          "male",
          "male",
          "male",
          "male",
          "male",
          "male",
          "male",
          "male",
          "male",
          "male",
          "male",
          "male",
          "male",
          "male",
          "male",
          "male",
          "male",
          "male",
          "male",
          "male",
          "male",
          "male",
          "male",
          "male",
          "male",
          "male",
          "male",
          "male",
          "male",
          "male",
          "male",
          "male",
          "male",
          "male",
          "male",
          "male",
          "male",
          "male",
          "male",
          "male",
          "male",
          "male",
          "male",
          "male",
          "male",
          "male",
          "male",
          "male",
          "male",
          "male",
          "male",
          "male",
          "male",
          "male",
          "male",
          "male",
          "male",
          "male",
          "male",
          "male",
          "male",
          "male",
          "male",
          "male",
          "male",
          "male",
          "male",
          "male",
          "male",
          "male",
          "male",
          "male",
          "male",
          "male",
          "male",
          "male",
          "male",
          "male",
          "male",
          "male",
          "male",
          "male",
          "male",
          "male",
          "male",
          "male",
          "male",
          "male",
          "male",
          "male",
          "male",
          "male",
          "male",
          "male",
          "male",
          "male",
          "male",
          "male",
          "male",
          "male",
          "male",
          "male",
          "male",
          "male",
          "male",
          "male",
          "male",
          "male",
          "male",
          "male",
          "male",
          "male",
          "male",
          "male",
          "male",
          "male",
          "male",
          "male",
          "male",
          "male",
          "male",
          "male",
          "male",
          "male",
          "male",
          "male",
          "male",
          "male",
          "male",
          "male",
          "male",
          "male",
          "male",
          "male",
          "male",
          "male",
          "male",
          "male",
          "male",
          "male",
          "male",
          "male",
          "male",
          "male",
          "male",
          "male",
          "male",
          "male",
          "male",
          "male",
          "male",
          "male",
          "male",
          "male",
          "male",
          "male",
          "male",
          "male",
          "male",
          "male",
          "male",
          "male",
          "male",
          "male",
          "male",
          "male",
          "male",
          "male",
          "male",
          "male",
          "male",
          "male",
          "male",
          "male",
          "male",
          "male",
          "male",
          "male",
          "male",
          "male",
          "male",
          "male",
          "male",
          "male",
          "male",
          "male",
          "male",
          "male",
          "male",
          "male",
          "male",
          "male",
          "male",
          "male",
          "male",
          "male",
          "male",
          "male",
          "male",
          "male",
          "male",
          "male",
          "male",
          "male",
          "male",
          "male",
          "male",
          "male",
          "male",
          "male",
          "male",
          "male",
          "male",
          "male",
          "male",
          "male",
          "male",
          "male",
          "male",
          "male",
          "male",
          "male",
          "male",
          "male",
          "male",
          "male",
          "male",
          "male",
          "male",
          "male",
          "male",
          "male",
          "male",
          "male",
          "male",
          "male",
          "male",
          "male",
          "male",
          "male",
          "male",
          "male",
          "male",
          "male",
          "male",
          "male",
          "male",
          "male",
          "male",
          "male",
          "male",
          "male",
          "male",
          "male",
          "male",
          "male",
          "male",
          "male",
          "male",
          "male",
          "male",
          "male",
          "male",
          "male",
          "male",
          "male",
          "male",
          "male",
          "male",
          "male",
          "male",
          "male",
          "male",
          "male",
          "male",
          "male",
          "male",
          "male",
          "male",
          "male",
          "male",
          "male",
          "male",
          "male",
          "male",
          "male",
          "male",
          "male",
          "male",
          "male",
          "male",
          "male",
          "male",
          "male",
          "male",
          "male",
          "male",
          "male",
          "male",
          "male",
          "male",
          "male",
          "male",
          "male",
          "male",
          "male",
          "male",
          "male",
          "male",
          "male",
          "male",
          "male",
          "male",
          "male",
          "male",
          "male",
          "male",
          "male",
          "male",
          "male",
          "male",
          "male",
          "male",
          "male",
          "male",
          "male",
          "male",
          "male",
          "male",
          "male",
          "male",
          "male",
          "male",
          "male",
          "male",
          "male",
          "male",
          "male",
          "male",
          "male",
          "male",
          "male",
          "male",
          "male",
          "male",
          "male",
          "male",
          "male",
          "male",
          "male",
          "male",
          "male",
          "male",
          "male",
          "male",
          "male",
          "male",
          "male",
          "male",
          "male",
          "male",
          "male",
          "male",
          "male",
          "male",
          "male",
          "male",
          "male",
          "male",
          "male",
          "male",
          "male",
          "male",
          "male",
          "male",
          "male",
          "male",
          "male",
          "male",
          "male",
          "male",
          "male",
          "male",
          "male",
          "male",
          "male",
          "male",
          "male",
          "male",
          "male",
          "male",
          "male",
          "male",
          "male",
          "male",
          "male",
          "male",
          "male",
          "male",
          "male",
          "male",
          "male",
          "male",
          "male",
          "male",
          "male",
          "male",
          "male",
          "male",
          "male",
          "male",
          "male",
          "male",
          "male",
          "male",
          "male",
          "male",
          "male",
          "male",
          "male",
          "male",
          "male",
          "male",
          "male",
          "male",
          "male",
          "male",
          "male",
          "male",
          "male",
          "female",
          "male",
          "male",
          "male",
          "male",
          "male",
          "male",
          "male",
          "male",
          "male",
          "male",
          "male",
          "male",
          "male",
          "male",
          "male",
          "male",
          "male",
          "male",
          "male",
          "male",
          "male",
          "male",
          "male",
          "male",
          "male",
          "male",
          "male",
          "male",
          "male",
          "male",
          "male",
          "male",
          "male",
          "male",
          "male",
          "male",
          "male",
          "male",
          "male",
          "male",
          "male",
          "male",
          "male",
          "male",
          "male",
          "male",
          "male",
          "male",
          "male",
          "male",
          "male",
          "male",
          "male",
          "male",
          "male",
          "male",
          "male",
          "male",
          "male",
          "male",
          "male",
          "male",
          "male",
          "male",
          "male",
          "male",
          "male",
          "male",
          "male",
          "male",
          "male",
          "male",
          "male",
          "male",
          "male",
          "male",
          "male",
          "male",
          "male",
          "male",
          "male",
          "male",
          "male",
          "male",
          "male",
          "male",
          "male",
          "male",
          "male",
          "male",
          "male",
          "male",
          "male",
          "male",
          "male",
          "male",
          "male",
          "male",
          "male",
          "male",
          "male",
          "male",
          "male",
          "male",
          "male",
          "male",
          "male",
          "male",
          "male",
          "male",
          "male",
          "male",
          "male",
          "male",
          "male",
          "male",
          "male",
          "male",
          "male",
          "male",
          "male",
          "male",
          "male",
          "male",
          "male",
          "male",
          "male",
          "male",
          "male",
          "male",
          "male",
          "male",
          "male",
          "male",
          "male",
          "male",
          "male",
          "male",
          "male",
          "male",
          "male",
          "male",
          "male",
          "male",
          "male",
          "male",
          "male",
          "male",
          "male",
          "male",
          "male",
          "male",
          "male",
          "male",
          "male",
          "male",
          "male",
          "male",
          "male",
          "male",
          "male",
          "male",
          "male",
          "male",
          "male",
          "male",
          "male",
          "male",
          "male",
          "male",
          "male",
          "male",
          "male",
          "male",
          "male",
          "male",
          "male",
          "male",
          "male",
          "male",
          "male",
          "male",
          "male",
          "male",
          "male",
          "male",
          "male",
          "male",
          "male",
          "male",
          "male",
          "male",
          "male",
          "male",
          "male",
          "male",
          "male",
          "male",
          "male",
          "male",
          "male",
          "male",
          "male",
          "male",
          "male",
          "male",
          "male",
          "male",
          "male",
          "male",
          "male",
          "male",
          "male",
          "male",
          "male",
          "male",
          "male",
          "male",
          "male",
          "male",
          "male",
          "male",
          "male",
          "male",
          "male",
          "male",
          "male",
          "male",
          "male",
          "male",
          "male",
          "male",
          "male",
          "male",
          "male",
          "male",
          "male",
          "male",
          "female",
          "female",
          "female",
          "female",
          "female",
          "female",
          "female",
          "female",
          "female",
          "female",
          "female",
          "female",
          "female",
          "female",
          "female",
          "female",
          "female",
          "female",
          "female",
          "female",
          "female",
          "female",
          "female",
          "female",
          "female",
          "female",
          "female",
          "female",
          "female",
          "female",
          "female",
          "female",
          "female",
          "female",
          "female",
          "female",
          "female",
          "female",
          "female",
          "female",
          "female",
          "female",
          "female",
          "female",
          "female",
          "female",
          "female",
          "female",
          "female",
          "female",
          "female",
          "female",
          "female",
          "female",
          "female",
          "female",
          "female",
          "female",
          "female",
          "female",
          "female",
          "female",
          "female",
          "female",
          "female",
          "female",
          "female",
          "female",
          "female",
          "female",
          "female",
          "female",
          "female",
          "female",
          "female",
          "female",
          "female",
          "female",
          "female",
          "female",
          "female",
          "female",
          "female",
          "female",
          "female",
          "female",
          "female",
          "female",
          "female",
          "female",
          "female",
          "female",
          "female",
          "female",
          "female",
          "female",
          "female",
          "female",
          "female",
          "female",
          "female",
          "female",
          "female",
          "female",
          "female",
          "female",
          "female",
          "female",
          "female",
          "female",
          "female",
          "female",
          "female",
          "female",
          "female",
          "female",
          "female",
          "female",
          "female",
          "female",
          "female",
          "female",
          "female",
          "female",
          "female",
          "female",
          "female",
          "female",
          "female",
          "female",
          "female",
          "female",
          "female",
          "female",
          "female",
          "female",
          "female",
          "female",
          "female",
          "female",
          "female",
          "female",
          "female",
          "female",
          "female",
          "female",
          "female",
          "female",
          "female",
          "female",
          "female",
          "female",
          "female",
          "female",
          "female",
          "female",
          "female",
          "female",
          "female",
          "female",
          "female",
          "female",
          "female",
          "female",
          "female",
          "female",
          "female",
          "female",
          "female",
          "female",
          "female",
          "female",
          "female",
          "female",
          "female",
          "female",
          "female"
         ],
         "xaxis": "x",
         "y": [
          180,
          150,
          210,
          184,
          215,
          167,
          205,
          159,
          183,
          215,
          195,
          201,
          205,
          175,
          170,
          203,
          195,
          192,
          190,
          179,
          165,
          190,
          165,
          212,
          204,
          180,
          195,
          205,
          175,
          285,
          154,
          216,
          163,
          150,
          202,
          215,
          205,
          178,
          195,
          187,
          170,
          204,
          187,
          190,
          239,
          225,
          205,
          198,
          267,
          205,
          218,
          160,
          181,
          207,
          152,
          182,
          216,
          170,
          215,
          180,
          145,
          165,
          177,
          182,
          180,
          207,
          215,
          159,
          175,
          169,
          200,
          195,
          215,
          208,
          188,
          200,
          175,
          189,
          175,
          198,
          156,
          183,
          185,
          230,
          180,
          189,
          163,
          192,
          195,
          229,
          185,
          217,
          196,
          175,
          190,
          175,
          205,
          194,
          165,
          223,
          185,
          225,
          169,
          193,
          185,
          207,
          184,
          193,
          174,
          197,
          188,
          185,
          195,
          195,
          178,
          205,
          172,
          200,
          183,
          200,
          180,
          168,
          194,
          175,
          225,
          188,
          205,
          195,
          188,
          219,
          175,
          184,
          184,
          193,
          185,
          195,
          165,
          205,
          176,
          158,
          155,
          201,
          190,
          140,
          165,
          190,
          175,
          159,
          200,
          180,
          180,
          180,
          174,
          170,
          185,
          209,
          177,
          188,
          200,
          183,
          200,
          210,
          180,
          215,
          190,
          193,
          191,
          215,
          159,
          200,
          175,
          185,
          168,
          175,
          175,
          190,
          175,
          135,
          250,
          203,
          205,
          196,
          165,
          179,
          225,
          198,
          176,
          215,
          190,
          182,
          170,
          191,
          165,
          165,
          158,
          180,
          182,
          195,
          155,
          195,
          155,
          184,
          199,
          220,
          200,
          214,
          168,
          170,
          190,
          179,
          225,
          210,
          227,
          165,
          200,
          298,
          195,
          173,
          170,
          177,
          215,
          207,
          189,
          210,
          164,
          195,
          198,
          198,
          180,
          215,
          160,
          162,
          190,
          164,
          188,
          185,
          220,
          200,
          215,
          185,
          175,
          163,
          160,
          182,
          205,
          215,
          185,
          181,
          212,
          205,
          185,
          225,
          173,
          198,
          180,
          219,
          200,
          173,
          184,
          203,
          193,
          180,
          170,
          172,
          213,
          215,
          204,
          210,
          192,
          175,
          190,
          170,
          155,
          150,
          185,
          130,
          190,
          170,
          170,
          210,
          175,
          205,
          180,
          195,
          185,
          195,
          165,
          190,
          205,
          169,
          203,
          88,
          228,
          190,
          183,
          199,
          205,
          175,
          183,
          175,
          160,
          209,
          245,
          200,
          222,
          190,
          170,
          195,
          209,
          205,
          168,
          220,
          162,
          208,
          187,
          212,
          173,
          160,
          215,
          210,
          200,
          205,
          185,
          211,
          185,
          202,
          183,
          182,
          185,
          185,
          170,
          189,
          217,
          184,
          208,
          185,
          195,
          219,
          160,
          170,
          145,
          207,
          170,
          190,
          207,
          179,
          209,
          188,
          225,
          159,
          185,
          168,
          193,
          190,
          182,
          185,
          160,
          200,
          170,
          165,
          250,
          225,
          210,
          218,
          197,
          165,
          159,
          165,
          196,
          185,
          165,
          169,
          187,
          218,
          185,
          195,
          184,
          195,
          174,
          198,
          220,
          190,
          183,
          160,
          185,
          170,
          165,
          178,
          188,
          193,
          199,
          195,
          174,
          205,
          177,
          180,
          190,
          156,
          185,
          197,
          179,
          145,
          187,
          173,
          207,
          145,
          220,
          170,
          199,
          180,
          157,
          148,
          183,
          189,
          215,
          184,
          180,
          185,
          185,
          183,
          179,
          187,
          165,
          219,
          189,
          200,
          160,
          183,
          204,
          216,
          191,
          182,
          185,
          160,
          174,
          201,
          185,
          186,
          185,
          192,
          187,
          175,
          163,
          200,
          195,
          229,
          210,
          180,
          185,
          200,
          195,
          160,
          209,
          199,
          188,
          197,
          200,
          175,
          188,
          198,
          176,
          205,
          196,
          200,
          180,
          178,
          177,
          170,
          165,
          215,
          175,
          160,
          140,
          196,
          187,
          170,
          189,
          210,
          208,
          176,
          180,
          178,
          207,
          187,
          208,
          186,
          177,
          168,
          190,
          142,
          165,
          171,
          215,
          168,
          145,
          138,
          155,
          162,
          215,
          198,
          181,
          205,
          165,
          216,
          185,
          202,
          165,
          185,
          195,
          198,
          238,
          197,
          189,
          210,
          184,
          175,
          219,
          198,
          168,
          231,
          162,
          205,
          175,
          159,
          160,
          182,
          163,
          178,
          156,
          200,
          190,
          230,
          178,
          179,
          222,
          225,
          198,
          190,
          240,
          237,
          180,
          180,
          258,
          215,
          204,
          180,
          210,
          255,
          225,
          175,
          155,
          209,
          194,
          175,
          215,
          218,
          205,
          172,
          185,
          178,
          230,
          175,
          175,
          183,
          195,
          226,
          205,
          219,
          176,
          190,
          205,
          169,
          270,
          151,
          199,
          135,
          169,
          213,
          187,
          200,
          235,
          185,
          215,
          175,
          216,
          210,
          207,
          157,
          186,
          152,
          180,
          200,
          146,
          183,
          180,
          185,
          200,
          215,
          190,
          205,
          225,
          168,
          185,
          197,
          170,
          182,
          185,
          170,
          200,
          198,
          210,
          218,
          212,
          185,
          220,
          210,
          141,
          179,
          219,
          152,
          174,
          194,
          170,
          200,
          205,
          178,
          179,
          185,
          224,
          154,
          182,
          191,
          205,
          210,
          185,
          149,
          205,
          187,
          146,
          165,
          165,
          189,
          165,
          190,
          180,
          190,
          195,
          205,
          190,
          176,
          186,
          198,
          195,
          194,
          205,
          197,
          195,
          195,
          175,
          220,
          167,
          149,
          197,
          157,
          196,
          195,
          181,
          194,
          180,
          180,
          191,
          190,
          195,
          187,
          220,
          195,
          187,
          155,
          235,
          213,
          165,
          187,
          219,
          197,
          170,
          187,
          176,
          220,
          199,
          194,
          200,
          177,
          205,
          180,
          175,
          185,
          230,
          181,
          179,
          210,
          200,
          143,
          180,
          158,
          205,
          211,
          185,
          190,
          215,
          195,
          189,
          210,
          207,
          183,
          179,
          180,
          192,
          195,
          177,
          194,
          190,
          175,
          184,
          202,
          178,
          169,
          240,
          164,
          165,
          149,
          176,
          220,
          185,
          156,
          191,
          195,
          175,
          203,
          200,
          181,
          165,
          170,
          210,
          183,
          170,
          200,
          175,
          170,
          195,
          177,
          189,
          157,
          183,
          205,
          178,
          165,
          204,
          187,
          192,
          215,
          195,
          220,
          168,
          220,
          168,
          160,
          195,
          190,
          217,
          188,
          188,
          210,
          160,
          182,
          208,
          165,
          176,
          187,
          190,
          215,
          224,
          181,
          185,
          208,
          180,
          177,
          221,
          179,
          161,
          181,
          185,
          220,
          165,
          185,
          195,
          180,
          201,
          221,
          154,
          188,
          270,
          235,
          187,
          185,
          274,
          200,
          235,
          211,
          255,
          201,
          175,
          150,
          195,
          199,
          137,
          135,
          130,
          130,
          153,
          130,
          145,
          134,
          138,
          145,
          134,
          136,
          148,
          130,
          135,
          128,
          145,
          119,
          130,
          135,
          137,
          155,
          123,
          148,
          127,
          117,
          150,
          139,
          142,
          128,
          159,
          149,
          139,
          138,
          138,
          136,
          127,
          136,
          142,
          125,
          150,
          159,
          138,
          148,
          121,
          135,
          154,
          134,
          150,
          135,
          135,
          125,
          148,
          129,
          150,
          140,
          171,
          150,
          137,
          151,
          145,
          140,
          114,
          148,
          150,
          150,
          132,
          141,
          115,
          147,
          130,
          141,
          115,
          168,
          115,
          145,
          133,
          120,
          168,
          151,
          138,
          129,
          138,
          141,
          133,
          143,
          135,
          160,
          129,
          112,
          156,
          155,
          134,
          125,
          140,
          136,
          145,
          145,
          135,
          125,
          168,
          145,
          156,
          135,
          165,
          163,
          148,
          122,
          143,
          140,
          126,
          135,
          138,
          125,
          156,
          140,
          124,
          123,
          151,
          160,
          130,
          152,
          124,
          142,
          150,
          137,
          135,
          145,
          140,
          165,
          117,
          140,
          137,
          135,
          120,
          112,
          145,
          156,
          140,
          132,
          145,
          132,
          151,
          133,
          142,
          135,
          142,
          164,
          130,
          154,
          165,
          150,
          161,
          155,
          143,
          140,
          128,
          118,
          140,
          159,
          114,
          118,
          175,
          159,
          160,
          132,
          145,
          133,
          152,
          188,
          160,
          150,
          132,
          139,
          142,
          173,
          150
         ],
         "yaxis": "y",
         "type": "histogram"
        }
       ],
       "layout": {
        "template": {
         "data": {
          "histogram2dcontour": [
           {
            "type": "histogram2dcontour",
            "colorbar": {
             "outlinewidth": 0,
             "ticks": ""
            },
            "colorscale": [
             [
              0.0,
              "#0d0887"
             ],
             [
              0.1111111111111111,
              "#46039f"
             ],
             [
              0.2222222222222222,
              "#7201a8"
             ],
             [
              0.3333333333333333,
              "#9c179e"
             ],
             [
              0.4444444444444444,
              "#bd3786"
             ],
             [
              0.5555555555555556,
              "#d8576b"
             ],
             [
              0.6666666666666666,
              "#ed7953"
             ],
             [
              0.7777777777777778,
              "#fb9f3a"
             ],
             [
              0.8888888888888888,
              "#fdca26"
             ],
             [
              1.0,
              "#f0f921"
             ]
            ]
           }
          ],
          "choropleth": [
           {
            "type": "choropleth",
            "colorbar": {
             "outlinewidth": 0,
             "ticks": ""
            }
           }
          ],
          "histogram2d": [
           {
            "type": "histogram2d",
            "colorbar": {
             "outlinewidth": 0,
             "ticks": ""
            },
            "colorscale": [
             [
              0.0,
              "#0d0887"
             ],
             [
              0.1111111111111111,
              "#46039f"
             ],
             [
              0.2222222222222222,
              "#7201a8"
             ],
             [
              0.3333333333333333,
              "#9c179e"
             ],
             [
              0.4444444444444444,
              "#bd3786"
             ],
             [
              0.5555555555555556,
              "#d8576b"
             ],
             [
              0.6666666666666666,
              "#ed7953"
             ],
             [
              0.7777777777777778,
              "#fb9f3a"
             ],
             [
              0.8888888888888888,
              "#fdca26"
             ],
             [
              1.0,
              "#f0f921"
             ]
            ]
           }
          ],
          "heatmap": [
           {
            "type": "heatmap",
            "colorbar": {
             "outlinewidth": 0,
             "ticks": ""
            },
            "colorscale": [
             [
              0.0,
              "#0d0887"
             ],
             [
              0.1111111111111111,
              "#46039f"
             ],
             [
              0.2222222222222222,
              "#7201a8"
             ],
             [
              0.3333333333333333,
              "#9c179e"
             ],
             [
              0.4444444444444444,
              "#bd3786"
             ],
             [
              0.5555555555555556,
              "#d8576b"
             ],
             [
              0.6666666666666666,
              "#ed7953"
             ],
             [
              0.7777777777777778,
              "#fb9f3a"
             ],
             [
              0.8888888888888888,
              "#fdca26"
             ],
             [
              1.0,
              "#f0f921"
             ]
            ]
           }
          ],
          "heatmapgl": [
           {
            "type": "heatmapgl",
            "colorbar": {
             "outlinewidth": 0,
             "ticks": ""
            },
            "colorscale": [
             [
              0.0,
              "#0d0887"
             ],
             [
              0.1111111111111111,
              "#46039f"
             ],
             [
              0.2222222222222222,
              "#7201a8"
             ],
             [
              0.3333333333333333,
              "#9c179e"
             ],
             [
              0.4444444444444444,
              "#bd3786"
             ],
             [
              0.5555555555555556,
              "#d8576b"
             ],
             [
              0.6666666666666666,
              "#ed7953"
             ],
             [
              0.7777777777777778,
              "#fb9f3a"
             ],
             [
              0.8888888888888888,
              "#fdca26"
             ],
             [
              1.0,
              "#f0f921"
             ]
            ]
           }
          ],
          "contourcarpet": [
           {
            "type": "contourcarpet",
            "colorbar": {
             "outlinewidth": 0,
             "ticks": ""
            }
           }
          ],
          "contour": [
           {
            "type": "contour",
            "colorbar": {
             "outlinewidth": 0,
             "ticks": ""
            },
            "colorscale": [
             [
              0.0,
              "#0d0887"
             ],
             [
              0.1111111111111111,
              "#46039f"
             ],
             [
              0.2222222222222222,
              "#7201a8"
             ],
             [
              0.3333333333333333,
              "#9c179e"
             ],
             [
              0.4444444444444444,
              "#bd3786"
             ],
             [
              0.5555555555555556,
              "#d8576b"
             ],
             [
              0.6666666666666666,
              "#ed7953"
             ],
             [
              0.7777777777777778,
              "#fb9f3a"
             ],
             [
              0.8888888888888888,
              "#fdca26"
             ],
             [
              1.0,
              "#f0f921"
             ]
            ]
           }
          ],
          "surface": [
           {
            "type": "surface",
            "colorbar": {
             "outlinewidth": 0,
             "ticks": ""
            },
            "colorscale": [
             [
              0.0,
              "#0d0887"
             ],
             [
              0.1111111111111111,
              "#46039f"
             ],
             [
              0.2222222222222222,
              "#7201a8"
             ],
             [
              0.3333333333333333,
              "#9c179e"
             ],
             [
              0.4444444444444444,
              "#bd3786"
             ],
             [
              0.5555555555555556,
              "#d8576b"
             ],
             [
              0.6666666666666666,
              "#ed7953"
             ],
             [
              0.7777777777777778,
              "#fb9f3a"
             ],
             [
              0.8888888888888888,
              "#fdca26"
             ],
             [
              1.0,
              "#f0f921"
             ]
            ]
           }
          ],
          "mesh3d": [
           {
            "type": "mesh3d",
            "colorbar": {
             "outlinewidth": 0,
             "ticks": ""
            }
           }
          ],
          "scatter": [
           {
            "marker": {
             "line": {
              "color": "#283442"
             }
            },
            "type": "scatter"
           }
          ],
          "parcoords": [
           {
            "type": "parcoords",
            "line": {
             "colorbar": {
              "outlinewidth": 0,
              "ticks": ""
             }
            }
           }
          ],
          "scatterpolargl": [
           {
            "type": "scatterpolargl",
            "marker": {
             "colorbar": {
              "outlinewidth": 0,
              "ticks": ""
             }
            }
           }
          ],
          "bar": [
           {
            "error_x": {
             "color": "#f2f5fa"
            },
            "error_y": {
             "color": "#f2f5fa"
            },
            "marker": {
             "line": {
              "color": "rgb(17,17,17)",
              "width": 0.5
             },
             "pattern": {
              "fillmode": "overlay",
              "size": 10,
              "solidity": 0.2
             }
            },
            "type": "bar"
           }
          ],
          "scattergeo": [
           {
            "type": "scattergeo",
            "marker": {
             "colorbar": {
              "outlinewidth": 0,
              "ticks": ""
             }
            }
           }
          ],
          "scatterpolar": [
           {
            "type": "scatterpolar",
            "marker": {
             "colorbar": {
              "outlinewidth": 0,
              "ticks": ""
             }
            }
           }
          ],
          "histogram": [
           {
            "marker": {
             "pattern": {
              "fillmode": "overlay",
              "size": 10,
              "solidity": 0.2
             }
            },
            "type": "histogram"
           }
          ],
          "scattergl": [
           {
            "marker": {
             "line": {
              "color": "#283442"
             }
            },
            "type": "scattergl"
           }
          ],
          "scatter3d": [
           {
            "type": "scatter3d",
            "line": {
             "colorbar": {
              "outlinewidth": 0,
              "ticks": ""
             }
            },
            "marker": {
             "colorbar": {
              "outlinewidth": 0,
              "ticks": ""
             }
            }
           }
          ],
          "scattermapbox": [
           {
            "type": "scattermapbox",
            "marker": {
             "colorbar": {
              "outlinewidth": 0,
              "ticks": ""
             }
            }
           }
          ],
          "scatterternary": [
           {
            "type": "scatterternary",
            "marker": {
             "colorbar": {
              "outlinewidth": 0,
              "ticks": ""
             }
            }
           }
          ],
          "scattercarpet": [
           {
            "type": "scattercarpet",
            "marker": {
             "colorbar": {
              "outlinewidth": 0,
              "ticks": ""
             }
            }
           }
          ],
          "carpet": [
           {
            "aaxis": {
             "endlinecolor": "#A2B1C6",
             "gridcolor": "#506784",
             "linecolor": "#506784",
             "minorgridcolor": "#506784",
             "startlinecolor": "#A2B1C6"
            },
            "baxis": {
             "endlinecolor": "#A2B1C6",
             "gridcolor": "#506784",
             "linecolor": "#506784",
             "minorgridcolor": "#506784",
             "startlinecolor": "#A2B1C6"
            },
            "type": "carpet"
           }
          ],
          "table": [
           {
            "cells": {
             "fill": {
              "color": "#506784"
             },
             "line": {
              "color": "rgb(17,17,17)"
             }
            },
            "header": {
             "fill": {
              "color": "#2a3f5f"
             },
             "line": {
              "color": "rgb(17,17,17)"
             }
            },
            "type": "table"
           }
          ],
          "barpolar": [
           {
            "marker": {
             "line": {
              "color": "rgb(17,17,17)",
              "width": 0.5
             },
             "pattern": {
              "fillmode": "overlay",
              "size": 10,
              "solidity": 0.2
             }
            },
            "type": "barpolar"
           }
          ],
          "pie": [
           {
            "automargin": true,
            "type": "pie"
           }
          ]
         },
         "layout": {
          "autotypenumbers": "strict",
          "colorway": [
           "#636efa",
           "#EF553B",
           "#00cc96",
           "#ab63fa",
           "#FFA15A",
           "#19d3f3",
           "#FF6692",
           "#B6E880",
           "#FF97FF",
           "#FECB52"
          ],
          "font": {
           "color": "#f2f5fa"
          },
          "hovermode": "closest",
          "hoverlabel": {
           "align": "left"
          },
          "paper_bgcolor": "rgb(17,17,17)",
          "plot_bgcolor": "rgb(17,17,17)",
          "polar": {
           "bgcolor": "rgb(17,17,17)",
           "angularaxis": {
            "gridcolor": "#506784",
            "linecolor": "#506784",
            "ticks": ""
           },
           "radialaxis": {
            "gridcolor": "#506784",
            "linecolor": "#506784",
            "ticks": ""
           }
          },
          "ternary": {
           "bgcolor": "rgb(17,17,17)",
           "aaxis": {
            "gridcolor": "#506784",
            "linecolor": "#506784",
            "ticks": ""
           },
           "baxis": {
            "gridcolor": "#506784",
            "linecolor": "#506784",
            "ticks": ""
           },
           "caxis": {
            "gridcolor": "#506784",
            "linecolor": "#506784",
            "ticks": ""
           }
          },
          "coloraxis": {
           "colorbar": {
            "outlinewidth": 0,
            "ticks": ""
           }
          },
          "colorscale": {
           "sequential": [
            [
             0.0,
             "#0d0887"
            ],
            [
             0.1111111111111111,
             "#46039f"
            ],
            [
             0.2222222222222222,
             "#7201a8"
            ],
            [
             0.3333333333333333,
             "#9c179e"
            ],
            [
             0.4444444444444444,
             "#bd3786"
            ],
            [
             0.5555555555555556,
             "#d8576b"
            ],
            [
             0.6666666666666666,
             "#ed7953"
            ],
            [
             0.7777777777777778,
             "#fb9f3a"
            ],
            [
             0.8888888888888888,
             "#fdca26"
            ],
            [
             1.0,
             "#f0f921"
            ]
           ],
           "sequentialminus": [
            [
             0.0,
             "#0d0887"
            ],
            [
             0.1111111111111111,
             "#46039f"
            ],
            [
             0.2222222222222222,
             "#7201a8"
            ],
            [
             0.3333333333333333,
             "#9c179e"
            ],
            [
             0.4444444444444444,
             "#bd3786"
            ],
            [
             0.5555555555555556,
             "#d8576b"
            ],
            [
             0.6666666666666666,
             "#ed7953"
            ],
            [
             0.7777777777777778,
             "#fb9f3a"
            ],
            [
             0.8888888888888888,
             "#fdca26"
            ],
            [
             1.0,
             "#f0f921"
            ]
           ],
           "diverging": [
            [
             0,
             "#8e0152"
            ],
            [
             0.1,
             "#c51b7d"
            ],
            [
             0.2,
             "#de77ae"
            ],
            [
             0.3,
             "#f1b6da"
            ],
            [
             0.4,
             "#fde0ef"
            ],
            [
             0.5,
             "#f7f7f7"
            ],
            [
             0.6,
             "#e6f5d0"
            ],
            [
             0.7,
             "#b8e186"
            ],
            [
             0.8,
             "#7fbc41"
            ],
            [
             0.9,
             "#4d9221"
            ],
            [
             1,
             "#276419"
            ]
           ]
          },
          "xaxis": {
           "gridcolor": "#283442",
           "linecolor": "#506784",
           "ticks": "",
           "title": {
            "standoff": 15
           },
           "zerolinecolor": "#283442",
           "automargin": true,
           "zerolinewidth": 2
          },
          "yaxis": {
           "gridcolor": "#283442",
           "linecolor": "#506784",
           "ticks": "",
           "title": {
            "standoff": 15
           },
           "zerolinecolor": "#283442",
           "automargin": true,
           "zerolinewidth": 2
          },
          "scene": {
           "xaxis": {
            "backgroundcolor": "rgb(17,17,17)",
            "gridcolor": "#506784",
            "linecolor": "#506784",
            "showbackground": true,
            "ticks": "",
            "zerolinecolor": "#C8D4E3",
            "gridwidth": 2
           },
           "yaxis": {
            "backgroundcolor": "rgb(17,17,17)",
            "gridcolor": "#506784",
            "linecolor": "#506784",
            "showbackground": true,
            "ticks": "",
            "zerolinecolor": "#C8D4E3",
            "gridwidth": 2
           },
           "zaxis": {
            "backgroundcolor": "rgb(17,17,17)",
            "gridcolor": "#506784",
            "linecolor": "#506784",
            "showbackground": true,
            "ticks": "",
            "zerolinecolor": "#C8D4E3",
            "gridwidth": 2
           }
          },
          "shapedefaults": {
           "line": {
            "color": "#f2f5fa"
           }
          },
          "annotationdefaults": {
           "arrowcolor": "#f2f5fa",
           "arrowhead": 0,
           "arrowwidth": 1
          },
          "geo": {
           "bgcolor": "rgb(17,17,17)",
           "landcolor": "rgb(17,17,17)",
           "subunitcolor": "#506784",
           "showland": true,
           "showlakes": true,
           "lakecolor": "rgb(17,17,17)"
          },
          "title": {
           "x": 0.05
          },
          "updatemenudefaults": {
           "bgcolor": "#506784",
           "borderwidth": 0
          },
          "sliderdefaults": {
           "bgcolor": "#C8D4E3",
           "borderwidth": 1,
           "bordercolor": "rgb(17,17,17)",
           "tickwidth": 0
          },
          "mapbox": {
           "style": "dark"
          }
         }
        },
        "xaxis": {
         "anchor": "y",
         "domain": [
          0.0,
          1.0
         ],
         "title": {
          "text": "gender"
         }
        },
        "yaxis": {
         "anchor": "x",
         "domain": [
          0.0,
          1.0
         ],
         "title": {
          "text": "avg of weight"
         }
        },
        "legend": {
         "tracegroupgap": 0
        },
        "margin": {
         "t": 60
        },
        "barmode": "relative"
       },
       "config": {
        "plotlyServerURL": "https://plot.ly"
       }
      },
      "text/html": "<div>                            <div id=\"bcd94f7f-8e6e-49e6-98c1-6fcbe7956ecc\" class=\"plotly-graph-div\" style=\"height:525px; width:100%;\"></div>            <script type=\"text/javascript\">                require([\"plotly\"], function(Plotly) {                    window.PLOTLYENV=window.PLOTLYENV || {};                                    if (document.getElementById(\"bcd94f7f-8e6e-49e6-98c1-6fcbe7956ecc\")) {                    Plotly.newPlot(                        \"bcd94f7f-8e6e-49e6-98c1-6fcbe7956ecc\",                        [{\"alignmentgroup\":\"True\",\"bingroup\":\"x\",\"histfunc\":\"avg\",\"hovertemplate\":\"gender=%{x}<br>avg of weight=%{y}<extra></extra>\",\"legendgroup\":\"\",\"marker\":{\"color\":\"#636efa\",\"pattern\":{\"shape\":\"\"}},\"name\":\"\",\"offsetgroup\":\"\",\"orientation\":\"v\",\"showlegend\":false,\"x\":[\"male\",\"male\",\"male\",\"male\",\"male\",\"male\",\"male\",\"male\",\"male\",\"male\",\"male\",\"male\",\"male\",\"male\",\"male\",\"male\",\"male\",\"male\",\"male\",\"male\",\"male\",\"male\",\"male\",\"male\",\"male\",\"male\",\"male\",\"male\",\"male\",\"male\",\"male\",\"male\",\"male\",\"male\",\"male\",\"male\",\"male\",\"male\",\"male\",\"male\",\"male\",\"male\",\"male\",\"male\",\"male\",\"male\",\"male\",\"male\",\"male\",\"male\",\"male\",\"male\",\"male\",\"male\",\"male\",\"male\",\"male\",\"male\",\"male\",\"male\",\"male\",\"male\",\"male\",\"male\",\"male\",\"male\",\"male\",\"male\",\"male\",\"male\",\"male\",\"male\",\"male\",\"male\",\"male\",\"male\",\"male\",\"male\",\"male\",\"male\",\"male\",\"male\",\"male\",\"male\",\"male\",\"male\",\"male\",\"male\",\"male\",\"male\",\"male\",\"male\",\"male\",\"male\",\"male\",\"male\",\"male\",\"male\",\"male\",\"male\",\"male\",\"male\",\"male\",\"male\",\"male\",\"male\",\"male\",\"male\",\"male\",\"male\",\"male\",\"male\",\"male\",\"male\",\"male\",\"male\",\"male\",\"male\",\"male\",\"male\",\"male\",\"male\",\"male\",\"male\",\"male\",\"male\",\"male\",\"male\",\"male\",\"male\",\"male\",\"male\",\"male\",\"male\",\"male\",\"male\",\"male\",\"male\",\"male\",\"male\",\"male\",\"male\",\"male\",\"male\",\"male\",\"male\",\"male\",\"male\",\"male\",\"male\",\"male\",\"male\",\"male\",\"male\",\"male\",\"male\",\"male\",\"male\",\"male\",\"male\",\"male\",\"male\",\"male\",\"male\",\"male\",\"male\",\"male\",\"male\",\"male\",\"male\",\"male\",\"male\",\"male\",\"male\",\"male\",\"male\",\"male\",\"male\",\"male\",\"male\",\"male\",\"male\",\"male\",\"male\",\"male\",\"male\",\"male\",\"male\",\"male\",\"male\",\"male\",\"male\",\"male\",\"male\",\"male\",\"male\",\"male\",\"male\",\"male\",\"male\",\"male\",\"male\",\"male\",\"male\",\"male\",\"male\",\"male\",\"male\",\"male\",\"male\",\"male\",\"male\",\"male\",\"male\",\"male\",\"male\",\"male\",\"male\",\"male\",\"male\",\"male\",\"male\",\"male\",\"male\",\"male\",\"male\",\"male\",\"male\",\"male\",\"male\",\"male\",\"male\",\"male\",\"male\",\"male\",\"male\",\"male\",\"male\",\"male\",\"male\",\"male\",\"male\",\"male\",\"male\",\"male\",\"male\",\"male\",\"male\",\"male\",\"male\",\"male\",\"male\",\"male\",\"male\",\"male\",\"male\",\"male\",\"male\",\"male\",\"male\",\"male\",\"male\",\"male\",\"male\",\"male\",\"male\",\"male\",\"male\",\"male\",\"male\",\"male\",\"male\",\"male\",\"male\",\"male\",\"male\",\"male\",\"male\",\"male\",\"male\",\"male\",\"male\",\"male\",\"male\",\"male\",\"male\",\"male\",\"male\",\"male\",\"male\",\"male\",\"male\",\"male\",\"male\",\"male\",\"male\",\"male\",\"male\",\"male\",\"male\",\"male\",\"male\",\"male\",\"male\",\"male\",\"male\",\"male\",\"male\",\"male\",\"male\",\"male\",\"male\",\"male\",\"male\",\"male\",\"male\",\"male\",\"male\",\"male\",\"male\",\"male\",\"male\",\"male\",\"male\",\"male\",\"male\",\"male\",\"male\",\"male\",\"male\",\"male\",\"male\",\"male\",\"male\",\"male\",\"male\",\"male\",\"male\",\"male\",\"male\",\"male\",\"male\",\"male\",\"male\",\"male\",\"male\",\"male\",\"male\",\"male\",\"male\",\"male\",\"male\",\"male\",\"male\",\"male\",\"male\",\"male\",\"male\",\"male\",\"male\",\"male\",\"male\",\"male\",\"male\",\"male\",\"male\",\"male\",\"male\",\"male\",\"male\",\"male\",\"male\",\"male\",\"male\",\"male\",\"male\",\"male\",\"male\",\"male\",\"male\",\"male\",\"male\",\"male\",\"male\",\"male\",\"male\",\"male\",\"male\",\"male\",\"male\",\"male\",\"male\",\"male\",\"male\",\"male\",\"male\",\"male\",\"male\",\"male\",\"male\",\"male\",\"male\",\"male\",\"male\",\"male\",\"male\",\"male\",\"male\",\"male\",\"male\",\"male\",\"male\",\"male\",\"male\",\"male\",\"male\",\"male\",\"male\",\"male\",\"male\",\"male\",\"male\",\"male\",\"male\",\"male\",\"male\",\"male\",\"male\",\"male\",\"male\",\"male\",\"male\",\"male\",\"male\",\"male\",\"male\",\"male\",\"male\",\"male\",\"male\",\"male\",\"male\",\"male\",\"male\",\"male\",\"male\",\"male\",\"male\",\"male\",\"male\",\"male\",\"male\",\"male\",\"male\",\"male\",\"male\",\"male\",\"male\",\"male\",\"male\",\"male\",\"male\",\"male\",\"male\",\"male\",\"male\",\"male\",\"male\",\"male\",\"male\",\"male\",\"male\",\"male\",\"male\",\"male\",\"male\",\"male\",\"male\",\"male\",\"male\",\"male\",\"male\",\"male\",\"male\",\"male\",\"male\",\"male\",\"male\",\"male\",\"male\",\"male\",\"male\",\"male\",\"male\",\"male\",\"male\",\"male\",\"male\",\"male\",\"male\",\"male\",\"male\",\"male\",\"male\",\"male\",\"male\",\"male\",\"male\",\"male\",\"male\",\"male\",\"male\",\"male\",\"male\",\"male\",\"male\",\"male\",\"male\",\"male\",\"male\",\"male\",\"male\",\"male\",\"male\",\"male\",\"male\",\"male\",\"male\",\"male\",\"male\",\"male\",\"male\",\"male\",\"male\",\"male\",\"male\",\"male\",\"male\",\"male\",\"male\",\"male\",\"male\",\"male\",\"male\",\"male\",\"male\",\"male\",\"male\",\"male\",\"male\",\"male\",\"male\",\"male\",\"male\",\"male\",\"male\",\"male\",\"male\",\"male\",\"male\",\"male\",\"male\",\"male\",\"male\",\"male\",\"male\",\"male\",\"male\",\"male\",\"male\",\"male\",\"male\",\"male\",\"male\",\"male\",\"female\",\"male\",\"male\",\"male\",\"male\",\"male\",\"male\",\"male\",\"male\",\"male\",\"male\",\"male\",\"male\",\"male\",\"male\",\"male\",\"male\",\"male\",\"male\",\"male\",\"male\",\"male\",\"male\",\"male\",\"male\",\"male\",\"male\",\"male\",\"male\",\"male\",\"male\",\"male\",\"male\",\"male\",\"male\",\"male\",\"male\",\"male\",\"male\",\"male\",\"male\",\"male\",\"male\",\"male\",\"male\",\"male\",\"male\",\"male\",\"male\",\"male\",\"male\",\"male\",\"male\",\"male\",\"male\",\"male\",\"male\",\"male\",\"male\",\"male\",\"male\",\"male\",\"male\",\"male\",\"male\",\"male\",\"male\",\"male\",\"male\",\"male\",\"male\",\"male\",\"male\",\"male\",\"male\",\"male\",\"male\",\"male\",\"male\",\"male\",\"male\",\"male\",\"male\",\"male\",\"male\",\"male\",\"male\",\"male\",\"male\",\"male\",\"male\",\"male\",\"male\",\"male\",\"male\",\"male\",\"male\",\"male\",\"male\",\"male\",\"male\",\"male\",\"male\",\"male\",\"male\",\"male\",\"male\",\"male\",\"male\",\"male\",\"male\",\"male\",\"male\",\"male\",\"male\",\"male\",\"male\",\"male\",\"male\",\"male\",\"male\",\"male\",\"male\",\"male\",\"male\",\"male\",\"male\",\"male\",\"male\",\"male\",\"male\",\"male\",\"male\",\"male\",\"male\",\"male\",\"male\",\"male\",\"male\",\"male\",\"male\",\"male\",\"male\",\"male\",\"male\",\"male\",\"male\",\"male\",\"male\",\"male\",\"male\",\"male\",\"male\",\"male\",\"male\",\"male\",\"male\",\"male\",\"male\",\"male\",\"male\",\"male\",\"male\",\"male\",\"male\",\"male\",\"male\",\"male\",\"male\",\"male\",\"male\",\"male\",\"male\",\"male\",\"male\",\"male\",\"male\",\"male\",\"male\",\"male\",\"male\",\"male\",\"male\",\"male\",\"male\",\"male\",\"male\",\"male\",\"male\",\"male\",\"male\",\"male\",\"male\",\"male\",\"male\",\"male\",\"male\",\"male\",\"male\",\"male\",\"male\",\"male\",\"male\",\"male\",\"male\",\"male\",\"male\",\"male\",\"male\",\"male\",\"male\",\"male\",\"male\",\"male\",\"male\",\"male\",\"male\",\"male\",\"male\",\"male\",\"male\",\"male\",\"male\",\"male\",\"male\",\"male\",\"male\",\"male\",\"male\",\"male\",\"male\",\"male\",\"male\",\"male\",\"male\",\"male\",\"male\",\"male\",\"male\",\"female\",\"female\",\"female\",\"female\",\"female\",\"female\",\"female\",\"female\",\"female\",\"female\",\"female\",\"female\",\"female\",\"female\",\"female\",\"female\",\"female\",\"female\",\"female\",\"female\",\"female\",\"female\",\"female\",\"female\",\"female\",\"female\",\"female\",\"female\",\"female\",\"female\",\"female\",\"female\",\"female\",\"female\",\"female\",\"female\",\"female\",\"female\",\"female\",\"female\",\"female\",\"female\",\"female\",\"female\",\"female\",\"female\",\"female\",\"female\",\"female\",\"female\",\"female\",\"female\",\"female\",\"female\",\"female\",\"female\",\"female\",\"female\",\"female\",\"female\",\"female\",\"female\",\"female\",\"female\",\"female\",\"female\",\"female\",\"female\",\"female\",\"female\",\"female\",\"female\",\"female\",\"female\",\"female\",\"female\",\"female\",\"female\",\"female\",\"female\",\"female\",\"female\",\"female\",\"female\",\"female\",\"female\",\"female\",\"female\",\"female\",\"female\",\"female\",\"female\",\"female\",\"female\",\"female\",\"female\",\"female\",\"female\",\"female\",\"female\",\"female\",\"female\",\"female\",\"female\",\"female\",\"female\",\"female\",\"female\",\"female\",\"female\",\"female\",\"female\",\"female\",\"female\",\"female\",\"female\",\"female\",\"female\",\"female\",\"female\",\"female\",\"female\",\"female\",\"female\",\"female\",\"female\",\"female\",\"female\",\"female\",\"female\",\"female\",\"female\",\"female\",\"female\",\"female\",\"female\",\"female\",\"female\",\"female\",\"female\",\"female\",\"female\",\"female\",\"female\",\"female\",\"female\",\"female\",\"female\",\"female\",\"female\",\"female\",\"female\",\"female\",\"female\",\"female\",\"female\",\"female\",\"female\",\"female\",\"female\",\"female\",\"female\",\"female\",\"female\",\"female\",\"female\",\"female\",\"female\",\"female\",\"female\",\"female\",\"female\",\"female\",\"female\",\"female\",\"female\",\"female\"],\"xaxis\":\"x\",\"y\":[180,150,210,184,215,167,205,159,183,215,195,201,205,175,170,203,195,192,190,179,165,190,165,212,204,180,195,205,175,285,154,216,163,150,202,215,205,178,195,187,170,204,187,190,239,225,205,198,267,205,218,160,181,207,152,182,216,170,215,180,145,165,177,182,180,207,215,159,175,169,200,195,215,208,188,200,175,189,175,198,156,183,185,230,180,189,163,192,195,229,185,217,196,175,190,175,205,194,165,223,185,225,169,193,185,207,184,193,174,197,188,185,195,195,178,205,172,200,183,200,180,168,194,175,225,188,205,195,188,219,175,184,184,193,185,195,165,205,176,158,155,201,190,140,165,190,175,159,200,180,180,180,174,170,185,209,177,188,200,183,200,210,180,215,190,193,191,215,159,200,175,185,168,175,175,190,175,135,250,203,205,196,165,179,225,198,176,215,190,182,170,191,165,165,158,180,182,195,155,195,155,184,199,220,200,214,168,170,190,179,225,210,227,165,200,298,195,173,170,177,215,207,189,210,164,195,198,198,180,215,160,162,190,164,188,185,220,200,215,185,175,163,160,182,205,215,185,181,212,205,185,225,173,198,180,219,200,173,184,203,193,180,170,172,213,215,204,210,192,175,190,170,155,150,185,130,190,170,170,210,175,205,180,195,185,195,165,190,205,169,203,88,228,190,183,199,205,175,183,175,160,209,245,200,222,190,170,195,209,205,168,220,162,208,187,212,173,160,215,210,200,205,185,211,185,202,183,182,185,185,170,189,217,184,208,185,195,219,160,170,145,207,170,190,207,179,209,188,225,159,185,168,193,190,182,185,160,200,170,165,250,225,210,218,197,165,159,165,196,185,165,169,187,218,185,195,184,195,174,198,220,190,183,160,185,170,165,178,188,193,199,195,174,205,177,180,190,156,185,197,179,145,187,173,207,145,220,170,199,180,157,148,183,189,215,184,180,185,185,183,179,187,165,219,189,200,160,183,204,216,191,182,185,160,174,201,185,186,185,192,187,175,163,200,195,229,210,180,185,200,195,160,209,199,188,197,200,175,188,198,176,205,196,200,180,178,177,170,165,215,175,160,140,196,187,170,189,210,208,176,180,178,207,187,208,186,177,168,190,142,165,171,215,168,145,138,155,162,215,198,181,205,165,216,185,202,165,185,195,198,238,197,189,210,184,175,219,198,168,231,162,205,175,159,160,182,163,178,156,200,190,230,178,179,222,225,198,190,240,237,180,180,258,215,204,180,210,255,225,175,155,209,194,175,215,218,205,172,185,178,230,175,175,183,195,226,205,219,176,190,205,169,270,151,199,135,169,213,187,200,235,185,215,175,216,210,207,157,186,152,180,200,146,183,180,185,200,215,190,205,225,168,185,197,170,182,185,170,200,198,210,218,212,185,220,210,141,179,219,152,174,194,170,200,205,178,179,185,224,154,182,191,205,210,185,149,205,187,146,165,165,189,165,190,180,190,195,205,190,176,186,198,195,194,205,197,195,195,175,220,167,149,197,157,196,195,181,194,180,180,191,190,195,187,220,195,187,155,235,213,165,187,219,197,170,187,176,220,199,194,200,177,205,180,175,185,230,181,179,210,200,143,180,158,205,211,185,190,215,195,189,210,207,183,179,180,192,195,177,194,190,175,184,202,178,169,240,164,165,149,176,220,185,156,191,195,175,203,200,181,165,170,210,183,170,200,175,170,195,177,189,157,183,205,178,165,204,187,192,215,195,220,168,220,168,160,195,190,217,188,188,210,160,182,208,165,176,187,190,215,224,181,185,208,180,177,221,179,161,181,185,220,165,185,195,180,201,221,154,188,270,235,187,185,274,200,235,211,255,201,175,150,195,199,137,135,130,130,153,130,145,134,138,145,134,136,148,130,135,128,145,119,130,135,137,155,123,148,127,117,150,139,142,128,159,149,139,138,138,136,127,136,142,125,150,159,138,148,121,135,154,134,150,135,135,125,148,129,150,140,171,150,137,151,145,140,114,148,150,150,132,141,115,147,130,141,115,168,115,145,133,120,168,151,138,129,138,141,133,143,135,160,129,112,156,155,134,125,140,136,145,145,135,125,168,145,156,135,165,163,148,122,143,140,126,135,138,125,156,140,124,123,151,160,130,152,124,142,150,137,135,145,140,165,117,140,137,135,120,112,145,156,140,132,145,132,151,133,142,135,142,164,130,154,165,150,161,155,143,140,128,118,140,159,114,118,175,159,160,132,145,133,152,188,160,150,132,139,142,173,150],\"yaxis\":\"y\",\"type\":\"histogram\"}],                        {\"template\":{\"data\":{\"histogram2dcontour\":[{\"type\":\"histogram2dcontour\",\"colorbar\":{\"outlinewidth\":0,\"ticks\":\"\"},\"colorscale\":[[0.0,\"#0d0887\"],[0.1111111111111111,\"#46039f\"],[0.2222222222222222,\"#7201a8\"],[0.3333333333333333,\"#9c179e\"],[0.4444444444444444,\"#bd3786\"],[0.5555555555555556,\"#d8576b\"],[0.6666666666666666,\"#ed7953\"],[0.7777777777777778,\"#fb9f3a\"],[0.8888888888888888,\"#fdca26\"],[1.0,\"#f0f921\"]]}],\"choropleth\":[{\"type\":\"choropleth\",\"colorbar\":{\"outlinewidth\":0,\"ticks\":\"\"}}],\"histogram2d\":[{\"type\":\"histogram2d\",\"colorbar\":{\"outlinewidth\":0,\"ticks\":\"\"},\"colorscale\":[[0.0,\"#0d0887\"],[0.1111111111111111,\"#46039f\"],[0.2222222222222222,\"#7201a8\"],[0.3333333333333333,\"#9c179e\"],[0.4444444444444444,\"#bd3786\"],[0.5555555555555556,\"#d8576b\"],[0.6666666666666666,\"#ed7953\"],[0.7777777777777778,\"#fb9f3a\"],[0.8888888888888888,\"#fdca26\"],[1.0,\"#f0f921\"]]}],\"heatmap\":[{\"type\":\"heatmap\",\"colorbar\":{\"outlinewidth\":0,\"ticks\":\"\"},\"colorscale\":[[0.0,\"#0d0887\"],[0.1111111111111111,\"#46039f\"],[0.2222222222222222,\"#7201a8\"],[0.3333333333333333,\"#9c179e\"],[0.4444444444444444,\"#bd3786\"],[0.5555555555555556,\"#d8576b\"],[0.6666666666666666,\"#ed7953\"],[0.7777777777777778,\"#fb9f3a\"],[0.8888888888888888,\"#fdca26\"],[1.0,\"#f0f921\"]]}],\"heatmapgl\":[{\"type\":\"heatmapgl\",\"colorbar\":{\"outlinewidth\":0,\"ticks\":\"\"},\"colorscale\":[[0.0,\"#0d0887\"],[0.1111111111111111,\"#46039f\"],[0.2222222222222222,\"#7201a8\"],[0.3333333333333333,\"#9c179e\"],[0.4444444444444444,\"#bd3786\"],[0.5555555555555556,\"#d8576b\"],[0.6666666666666666,\"#ed7953\"],[0.7777777777777778,\"#fb9f3a\"],[0.8888888888888888,\"#fdca26\"],[1.0,\"#f0f921\"]]}],\"contourcarpet\":[{\"type\":\"contourcarpet\",\"colorbar\":{\"outlinewidth\":0,\"ticks\":\"\"}}],\"contour\":[{\"type\":\"contour\",\"colorbar\":{\"outlinewidth\":0,\"ticks\":\"\"},\"colorscale\":[[0.0,\"#0d0887\"],[0.1111111111111111,\"#46039f\"],[0.2222222222222222,\"#7201a8\"],[0.3333333333333333,\"#9c179e\"],[0.4444444444444444,\"#bd3786\"],[0.5555555555555556,\"#d8576b\"],[0.6666666666666666,\"#ed7953\"],[0.7777777777777778,\"#fb9f3a\"],[0.8888888888888888,\"#fdca26\"],[1.0,\"#f0f921\"]]}],\"surface\":[{\"type\":\"surface\",\"colorbar\":{\"outlinewidth\":0,\"ticks\":\"\"},\"colorscale\":[[0.0,\"#0d0887\"],[0.1111111111111111,\"#46039f\"],[0.2222222222222222,\"#7201a8\"],[0.3333333333333333,\"#9c179e\"],[0.4444444444444444,\"#bd3786\"],[0.5555555555555556,\"#d8576b\"],[0.6666666666666666,\"#ed7953\"],[0.7777777777777778,\"#fb9f3a\"],[0.8888888888888888,\"#fdca26\"],[1.0,\"#f0f921\"]]}],\"mesh3d\":[{\"type\":\"mesh3d\",\"colorbar\":{\"outlinewidth\":0,\"ticks\":\"\"}}],\"scatter\":[{\"marker\":{\"line\":{\"color\":\"#283442\"}},\"type\":\"scatter\"}],\"parcoords\":[{\"type\":\"parcoords\",\"line\":{\"colorbar\":{\"outlinewidth\":0,\"ticks\":\"\"}}}],\"scatterpolargl\":[{\"type\":\"scatterpolargl\",\"marker\":{\"colorbar\":{\"outlinewidth\":0,\"ticks\":\"\"}}}],\"bar\":[{\"error_x\":{\"color\":\"#f2f5fa\"},\"error_y\":{\"color\":\"#f2f5fa\"},\"marker\":{\"line\":{\"color\":\"rgb(17,17,17)\",\"width\":0.5},\"pattern\":{\"fillmode\":\"overlay\",\"size\":10,\"solidity\":0.2}},\"type\":\"bar\"}],\"scattergeo\":[{\"type\":\"scattergeo\",\"marker\":{\"colorbar\":{\"outlinewidth\":0,\"ticks\":\"\"}}}],\"scatterpolar\":[{\"type\":\"scatterpolar\",\"marker\":{\"colorbar\":{\"outlinewidth\":0,\"ticks\":\"\"}}}],\"histogram\":[{\"marker\":{\"pattern\":{\"fillmode\":\"overlay\",\"size\":10,\"solidity\":0.2}},\"type\":\"histogram\"}],\"scattergl\":[{\"marker\":{\"line\":{\"color\":\"#283442\"}},\"type\":\"scattergl\"}],\"scatter3d\":[{\"type\":\"scatter3d\",\"line\":{\"colorbar\":{\"outlinewidth\":0,\"ticks\":\"\"}},\"marker\":{\"colorbar\":{\"outlinewidth\":0,\"ticks\":\"\"}}}],\"scattermapbox\":[{\"type\":\"scattermapbox\",\"marker\":{\"colorbar\":{\"outlinewidth\":0,\"ticks\":\"\"}}}],\"scatterternary\":[{\"type\":\"scatterternary\",\"marker\":{\"colorbar\":{\"outlinewidth\":0,\"ticks\":\"\"}}}],\"scattercarpet\":[{\"type\":\"scattercarpet\",\"marker\":{\"colorbar\":{\"outlinewidth\":0,\"ticks\":\"\"}}}],\"carpet\":[{\"aaxis\":{\"endlinecolor\":\"#A2B1C6\",\"gridcolor\":\"#506784\",\"linecolor\":\"#506784\",\"minorgridcolor\":\"#506784\",\"startlinecolor\":\"#A2B1C6\"},\"baxis\":{\"endlinecolor\":\"#A2B1C6\",\"gridcolor\":\"#506784\",\"linecolor\":\"#506784\",\"minorgridcolor\":\"#506784\",\"startlinecolor\":\"#A2B1C6\"},\"type\":\"carpet\"}],\"table\":[{\"cells\":{\"fill\":{\"color\":\"#506784\"},\"line\":{\"color\":\"rgb(17,17,17)\"}},\"header\":{\"fill\":{\"color\":\"#2a3f5f\"},\"line\":{\"color\":\"rgb(17,17,17)\"}},\"type\":\"table\"}],\"barpolar\":[{\"marker\":{\"line\":{\"color\":\"rgb(17,17,17)\",\"width\":0.5},\"pattern\":{\"fillmode\":\"overlay\",\"size\":10,\"solidity\":0.2}},\"type\":\"barpolar\"}],\"pie\":[{\"automargin\":true,\"type\":\"pie\"}]},\"layout\":{\"autotypenumbers\":\"strict\",\"colorway\":[\"#636efa\",\"#EF553B\",\"#00cc96\",\"#ab63fa\",\"#FFA15A\",\"#19d3f3\",\"#FF6692\",\"#B6E880\",\"#FF97FF\",\"#FECB52\"],\"font\":{\"color\":\"#f2f5fa\"},\"hovermode\":\"closest\",\"hoverlabel\":{\"align\":\"left\"},\"paper_bgcolor\":\"rgb(17,17,17)\",\"plot_bgcolor\":\"rgb(17,17,17)\",\"polar\":{\"bgcolor\":\"rgb(17,17,17)\",\"angularaxis\":{\"gridcolor\":\"#506784\",\"linecolor\":\"#506784\",\"ticks\":\"\"},\"radialaxis\":{\"gridcolor\":\"#506784\",\"linecolor\":\"#506784\",\"ticks\":\"\"}},\"ternary\":{\"bgcolor\":\"rgb(17,17,17)\",\"aaxis\":{\"gridcolor\":\"#506784\",\"linecolor\":\"#506784\",\"ticks\":\"\"},\"baxis\":{\"gridcolor\":\"#506784\",\"linecolor\":\"#506784\",\"ticks\":\"\"},\"caxis\":{\"gridcolor\":\"#506784\",\"linecolor\":\"#506784\",\"ticks\":\"\"}},\"coloraxis\":{\"colorbar\":{\"outlinewidth\":0,\"ticks\":\"\"}},\"colorscale\":{\"sequential\":[[0.0,\"#0d0887\"],[0.1111111111111111,\"#46039f\"],[0.2222222222222222,\"#7201a8\"],[0.3333333333333333,\"#9c179e\"],[0.4444444444444444,\"#bd3786\"],[0.5555555555555556,\"#d8576b\"],[0.6666666666666666,\"#ed7953\"],[0.7777777777777778,\"#fb9f3a\"],[0.8888888888888888,\"#fdca26\"],[1.0,\"#f0f921\"]],\"sequentialminus\":[[0.0,\"#0d0887\"],[0.1111111111111111,\"#46039f\"],[0.2222222222222222,\"#7201a8\"],[0.3333333333333333,\"#9c179e\"],[0.4444444444444444,\"#bd3786\"],[0.5555555555555556,\"#d8576b\"],[0.6666666666666666,\"#ed7953\"],[0.7777777777777778,\"#fb9f3a\"],[0.8888888888888888,\"#fdca26\"],[1.0,\"#f0f921\"]],\"diverging\":[[0,\"#8e0152\"],[0.1,\"#c51b7d\"],[0.2,\"#de77ae\"],[0.3,\"#f1b6da\"],[0.4,\"#fde0ef\"],[0.5,\"#f7f7f7\"],[0.6,\"#e6f5d0\"],[0.7,\"#b8e186\"],[0.8,\"#7fbc41\"],[0.9,\"#4d9221\"],[1,\"#276419\"]]},\"xaxis\":{\"gridcolor\":\"#283442\",\"linecolor\":\"#506784\",\"ticks\":\"\",\"title\":{\"standoff\":15},\"zerolinecolor\":\"#283442\",\"automargin\":true,\"zerolinewidth\":2},\"yaxis\":{\"gridcolor\":\"#283442\",\"linecolor\":\"#506784\",\"ticks\":\"\",\"title\":{\"standoff\":15},\"zerolinecolor\":\"#283442\",\"automargin\":true,\"zerolinewidth\":2},\"scene\":{\"xaxis\":{\"backgroundcolor\":\"rgb(17,17,17)\",\"gridcolor\":\"#506784\",\"linecolor\":\"#506784\",\"showbackground\":true,\"ticks\":\"\",\"zerolinecolor\":\"#C8D4E3\",\"gridwidth\":2},\"yaxis\":{\"backgroundcolor\":\"rgb(17,17,17)\",\"gridcolor\":\"#506784\",\"linecolor\":\"#506784\",\"showbackground\":true,\"ticks\":\"\",\"zerolinecolor\":\"#C8D4E3\",\"gridwidth\":2},\"zaxis\":{\"backgroundcolor\":\"rgb(17,17,17)\",\"gridcolor\":\"#506784\",\"linecolor\":\"#506784\",\"showbackground\":true,\"ticks\":\"\",\"zerolinecolor\":\"#C8D4E3\",\"gridwidth\":2}},\"shapedefaults\":{\"line\":{\"color\":\"#f2f5fa\"}},\"annotationdefaults\":{\"arrowcolor\":\"#f2f5fa\",\"arrowhead\":0,\"arrowwidth\":1},\"geo\":{\"bgcolor\":\"rgb(17,17,17)\",\"landcolor\":\"rgb(17,17,17)\",\"subunitcolor\":\"#506784\",\"showland\":true,\"showlakes\":true,\"lakecolor\":\"rgb(17,17,17)\"},\"title\":{\"x\":0.05},\"updatemenudefaults\":{\"bgcolor\":\"#506784\",\"borderwidth\":0},\"sliderdefaults\":{\"bgcolor\":\"#C8D4E3\",\"borderwidth\":1,\"bordercolor\":\"rgb(17,17,17)\",\"tickwidth\":0},\"mapbox\":{\"style\":\"dark\"}}},\"xaxis\":{\"anchor\":\"y\",\"domain\":[0.0,1.0],\"title\":{\"text\":\"gender\"}},\"yaxis\":{\"anchor\":\"x\",\"domain\":[0.0,1.0],\"title\":{\"text\":\"avg of weight\"}},\"legend\":{\"tracegroupgap\":0},\"margin\":{\"t\":60},\"barmode\":\"relative\"},                        {\"responsive\": true}                    ).then(function(){\n                            \nvar gd = document.getElementById('bcd94f7f-8e6e-49e6-98c1-6fcbe7956ecc');\nvar x = new MutationObserver(function (mutations, observer) {{\n        var display = window.getComputedStyle(gd).display;\n        if (!display || display === 'none') {{\n            console.log([gd, 'removed!']);\n            Plotly.purge(gd);\n            observer.disconnect();\n        }}\n}});\n\n// Listen for the removal of the full notebook cells\nvar notebookContainer = gd.closest('#notebook-container');\nif (notebookContainer) {{\n    x.observe(notebookContainer, {childList: true});\n}}\n\n// Listen for the clearing of the current output cell\nvar outputEl = gd.closest('.output');\nif (outputEl) {{\n    x.observe(outputEl, {childList: true});\n}}\n\n                        })                };                });            </script>        </div>"
     },
     "metadata": {},
     "output_type": "display_data"
    }
   ],
   "source": [
    "# histogram average weight between athele male and female\n",
    "import plotly.express as px\n",
    "\n",
    "df1 = df[['weight','gender']]\n",
    "fig = px.histogram(df1, x=\"gender\",y=\"weight\",  histfunc='avg')\n",
    "fig.show()"
   ],
   "metadata": {
    "collapsed": false,
    "pycharm": {
     "name": "#%%\n"
    }
   }
  },
  {
   "cell_type": "markdown",
   "source": [
    "<a id=\"7\"></a> <br>\n",
    "# Relationship Between Variables"
   ],
   "metadata": {
    "collapsed": false,
    "pycharm": {
     "name": "#%% md\n"
    }
   }
  },
  {
   "cell_type": "markdown",
   "source": [
    "<a id=\"8\"></a> <br>\n",
    "## Correlation\n",
    "* Strength of the relationship between two variables\n",
    "* Lets look at correlation between all features."
   ],
   "metadata": {
    "collapsed": false,
    "pycharm": {
     "name": "#%% md\n"
    }
   }
  },
  {
   "cell_type": "code",
   "execution_count": 59,
   "outputs": [
    {
     "data": {
      "text/plain": "<Figure size 1440x1440 with 2 Axes>",
      "image/png": "[encoded data removed]"
     },
     "metadata": {},
     "output_type": "display_data"
    }
   ],
   "source": [
    "f,ax=plt.subplots(figsize = (20,20))\n",
    "sns.heatmap(df.corr(),annot= True,linewidths=0.5,fmt = \".1f\",ax=ax)\n",
    "plt.xticks(rotation=90)\n",
    "plt.yticks(rotation=0)\n",
    "plt.title('Correlation Map')\n",
    "plt.savefig('heatmap to indicates correlation between variables.png')\n",
    "plt.show()"
   ],
   "metadata": {
    "collapsed": false,
    "pycharm": {
     "name": "#%%\n"
    }
   }
  },
  {
   "cell_type": "markdown",
   "source": [
    "### ----------> OBSERVATION\n",
    "\n",
    "+ There is a strong positive correlation between `helen` & `fran`, `helen` & `run5k`, `candj` & `backsq`, `backsq` & `deadlift`, `rank` & `score`, `backsq` & `snatch`.\n",
    "\n",
    "+ There is **multicollinearity** (Mulitple independent variables are highly correlated) between attributes. If I want to feed these feature into my multiple regression model, I would need to drop 1 of the column that is strongly correlated with each other to prevent statistical insignificant problem"
   ],
   "metadata": {
    "collapsed": false,
    "pycharm": {
     "name": "#%% md\n"
    }
   }
  },
  {
   "cell_type": "code",
   "execution_count": 60,
   "outputs": [
    {
     "data": {
      "text/plain": "        count  median        mean        std  max\ngender                                           \nfemale    178   140.0  140.533708  13.775090  188\nmale      813   188.0  189.418204  21.976079  298",
      "text/html": "<div>\n<style scoped>\n    .dataframe tbody tr th:only-of-type {\n        vertical-align: middle;\n    }\n\n    .dataframe tbody tr th {\n        vertical-align: top;\n    }\n\n    .dataframe thead th {\n        text-align: right;\n    }\n</style>\n<table border=\"1\" class=\"dataframe\">\n  <thead>\n    <tr style=\"text-align: right;\">\n      <th></th>\n      <th>count</th>\n      <th>median</th>\n      <th>mean</th>\n      <th>std</th>\n      <th>max</th>\n    </tr>\n    <tr>\n      <th>gender</th>\n      <th></th>\n      <th></th>\n      <th></th>\n      <th></th>\n      <th></th>\n    </tr>\n  </thead>\n  <tbody>\n    <tr>\n      <th>female</th>\n      <td>178</td>\n      <td>140.0</td>\n      <td>140.533708</td>\n      <td>13.775090</td>\n      <td>188</td>\n    </tr>\n    <tr>\n      <th>male</th>\n      <td>813</td>\n      <td>188.0</td>\n      <td>189.418204</td>\n      <td>21.976079</td>\n      <td>298</td>\n    </tr>\n  </tbody>\n</table>\n</div>"
     },
     "execution_count": 60,
     "metadata": {},
     "output_type": "execute_result"
    }
   ],
   "source": [
    "#  Groups & Target Summary Stats\n",
    "df.groupby(\"gender\").weight.agg([\"count\", \"median\", \"mean\", \"std\", \"max\"])"
   ],
   "metadata": {
    "collapsed": false,
    "pycharm": {
     "name": "#%%\n"
    }
   }
  },
  {
   "cell_type": "markdown",
   "source": [
    "<a id=\"1\"></a> <br>\n",
    "# Histogram\n",
    "* How many times each value appears in dfset. This description is called the distribution of variable\n",
    "* Most common way to represent distribution of varible is histogram that is graph which shows frequency of each value.\n",
    "* Frequency = number of times each value appears"
   ],
   "metadata": {
    "collapsed": false,
    "pycharm": {
     "name": "#%% md\n"
    }
   }
  },
  {
   "cell_type": "code",
   "execution_count": 61,
   "outputs": [
    {
     "data": {
      "text/plain": "<Figure size 432x288 with 1 Axes>",
      "image/png": "[encoded data removed]"
     },
     "metadata": {},
     "output_type": "display_data"
    },
    {
     "name": "stdout",
     "output_type": "stream",
     "text": [
      "Most frequent female weight mean is:  134.8\n"
     ]
    }
   ],
   "source": [
    "female = plt.hist(df[df[\"gender\"] == \"female\"].weight,bins=30,label = \"female\", color=\"pink\")\n",
    "male = plt.hist(df[df[\"gender\"] == \"male\"].weight,bins=30,label = \"male\", color=\"lightblue\")\n",
    "plt.legend()\n",
    "plt.xlabel(\" Mean Values\")\n",
    "plt.ylabel(\"Frequency\")\n",
    "plt.title(\"Histogram of  Mean for male and female Weight\")\n",
    "plt.savefig('female_male_weight_hist.png')\n",
    "plt.show()\n",
    "frequent_weight_mean = female[0].max()\n",
    "index_frequent_weight_mean = list(female[0]).index(frequent_weight_mean)\n",
    "most_frequent_weight_mean = female[1][index_frequent_weight_mean]\n",
    "print(\"Most frequent female weight mean is: \",most_frequent_weight_mean)"
   ],
   "metadata": {
    "collapsed": false,
    "pycharm": {
     "name": "#%%\n"
    }
   }
  },
  {
   "cell_type": "markdown",
   "source": [
    "# ---------\n",
    "# Randomly select a 10 number of rows from a dataframe\n"
   ],
   "metadata": {
    "collapsed": false,
    "pycharm": {
     "name": "#%% md\n"
    }
   }
  },
  {
   "cell_type": "code",
   "execution_count": 62,
   "outputs": [
    {
     "data": {
      "text/plain": "     athlete_id                   name        region                team  \\\n213       11444        dan juchniewicz  mid atlantic       crossfit rage   \n331       19144  alexander pogrebinsky    north east    crossfit southie   \n501      144032        sheldon johnson    north west  crossfit intensify   \n\n              affiliate gender  age  height  weight  fran  helen  grace  \\\n213       crossfit rage   male   26      69     165   268    473    224   \n331    crossfit southie   male   31      70     189   354    625    209   \n501  crossfit intensify   male   45      72     205   231    212    229   \n\n     filthy50  fgonebad  run400  run5k  candj  snatch  deadlift  backsq  \\\n213      1201       315      54   1160    255     216       407     345   \n331      1504       238      90   1500    235     185       455     315   \n501      1996       289      63   1459    195     145       325     275   \n\n     pullups                                                eat  \\\n213        0  i eat quality foods but don't measure the amou...   \n331       37               i eat 1-3 full cheat meals per week|   \n501       19  i eat quality foods but don't measure the amou...   \n\n                                                 train  \\\n213          i workout mostly at a crossfit affiliate|   \n331  i workout mostly at a crossfit affiliate|i rec...   \n501  i workout mostly at a crossfit affiliate|i rec...   \n\n                                            background  \\\n213  i played youth or high school level sports|i p...   \n331    i have no athletic background besides crossfit|   \n501        i played youth or high school level sports|   \n\n                                            experience  \\\n213  i began crossfit by trying it alone (without a...   \n331  i began crossfit with a coach (e.g. at an affi...   \n501  i began crossfit with a coach (e.g. at an affi...   \n\n                                              schedule division   rank  score  \n213  i do multiple workouts in a day 3+ times a wee...     male  14739    573  \n331  i usually only do 1 workout a day|i typically ...     male  43445    766  \n501                                 decline to answer|     male  43445    766  ",
      "text/html": "<div>\n<style scoped>\n    .dataframe tbody tr th:only-of-type {\n        vertical-align: middle;\n    }\n\n    .dataframe tbody tr th {\n        vertical-align: top;\n    }\n\n    .dataframe thead th {\n        text-align: right;\n    }\n</style>\n<table border=\"1\" class=\"dataframe\">\n  <thead>\n    <tr style=\"text-align: right;\">\n      <th></th>\n      <th>athlete_id</th>\n      <th>name</th>\n      <th>region</th>\n      <th>team</th>\n      <th>affiliate</th>\n      <th>gender</th>\n      <th>age</th>\n      <th>height</th>\n      <th>weight</th>\n      <th>fran</th>\n      <th>helen</th>\n      <th>grace</th>\n      <th>filthy50</th>\n      <th>fgonebad</th>\n      <th>run400</th>\n      <th>run5k</th>\n      <th>candj</th>\n      <th>snatch</th>\n      <th>deadlift</th>\n      <th>backsq</th>\n      <th>pullups</th>\n      <th>eat</th>\n      <th>train</th>\n      <th>background</th>\n      <th>experience</th>\n      <th>schedule</th>\n      <th>division</th>\n      <th>rank</th>\n      <th>score</th>\n    </tr>\n  </thead>\n  <tbody>\n    <tr>\n      <th>213</th>\n      <td>11444</td>\n      <td>dan juchniewicz</td>\n      <td>mid atlantic</td>\n      <td>crossfit rage</td>\n      <td>crossfit rage</td>\n      <td>male</td>\n      <td>26</td>\n      <td>69</td>\n      <td>165</td>\n      <td>268</td>\n      <td>473</td>\n      <td>224</td>\n      <td>1201</td>\n      <td>315</td>\n      <td>54</td>\n      <td>1160</td>\n      <td>255</td>\n      <td>216</td>\n      <td>407</td>\n      <td>345</td>\n      <td>0</td>\n      <td>i eat quality foods but don't measure the amou...</td>\n      <td>i workout mostly at a crossfit affiliate|</td>\n      <td>i played youth or high school level sports|i p...</td>\n      <td>i began crossfit by trying it alone (without a...</td>\n      <td>i do multiple workouts in a day 3+ times a wee...</td>\n      <td>male</td>\n      <td>14739</td>\n      <td>573</td>\n    </tr>\n    <tr>\n      <th>331</th>\n      <td>19144</td>\n      <td>alexander pogrebinsky</td>\n      <td>north east</td>\n      <td>crossfit southie</td>\n      <td>crossfit southie</td>\n      <td>male</td>\n      <td>31</td>\n      <td>70</td>\n      <td>189</td>\n      <td>354</td>\n      <td>625</td>\n      <td>209</td>\n      <td>1504</td>\n      <td>238</td>\n      <td>90</td>\n      <td>1500</td>\n      <td>235</td>\n      <td>185</td>\n      <td>455</td>\n      <td>315</td>\n      <td>37</td>\n      <td>i eat 1-3 full cheat meals per week|</td>\n      <td>i workout mostly at a crossfit affiliate|i rec...</td>\n      <td>i have no athletic background besides crossfit|</td>\n      <td>i began crossfit with a coach (e.g. at an affi...</td>\n      <td>i usually only do 1 workout a day|i typically ...</td>\n      <td>male</td>\n      <td>43445</td>\n      <td>766</td>\n    </tr>\n    <tr>\n      <th>501</th>\n      <td>144032</td>\n      <td>sheldon johnson</td>\n      <td>north west</td>\n      <td>crossfit intensify</td>\n      <td>crossfit intensify</td>\n      <td>male</td>\n      <td>45</td>\n      <td>72</td>\n      <td>205</td>\n      <td>231</td>\n      <td>212</td>\n      <td>229</td>\n      <td>1996</td>\n      <td>289</td>\n      <td>63</td>\n      <td>1459</td>\n      <td>195</td>\n      <td>145</td>\n      <td>325</td>\n      <td>275</td>\n      <td>19</td>\n      <td>i eat quality foods but don't measure the amou...</td>\n      <td>i workout mostly at a crossfit affiliate|i rec...</td>\n      <td>i played youth or high school level sports|</td>\n      <td>i began crossfit with a coach (e.g. at an affi...</td>\n      <td>decline to answer|</td>\n      <td>male</td>\n      <td>43445</td>\n      <td>766</td>\n    </tr>\n  </tbody>\n</table>\n</div>"
     },
     "execution_count": 62,
     "metadata": {},
     "output_type": "execute_result"
    }
   ],
   "source": [
    "df2 = df.sample(n=10, random_state=42)\n",
    "df2.head(3)"
   ],
   "metadata": {
    "collapsed": false,
    "pycharm": {
     "name": "#%%\n"
    }
   }
  },
  {
   "cell_type": "code",
   "execution_count": 63,
   "outputs": [
    {
     "name": "stdout",
     "output_type": "stream",
     "text": [
      "Poppulation mean=180.638 stdv=27.960\n",
      "Sample mean=189.700 stdv=18.122\n"
     ]
    }
   ],
   "source": [
    "# convert specified column in the dataframe into series\n",
    "from numpy import mean\n",
    "from numpy import std\n",
    "\n",
    "population_weight = df['weight'].squeeze()\n",
    "print('Poppulation mean=%.3f stdv=%.3f' % (mean(population_weight), std(population_weight)))\n",
    "sample_weight = df2['weight'].squeeze()\n",
    "print('Sample mean=%.3f stdv=%.3f' % (mean(sample_weight), std(sample_weight)))"
   ],
   "metadata": {
    "collapsed": false,
    "pycharm": {
     "name": "#%%\n"
    }
   }
  },
  {
   "cell_type": "code",
   "execution_count": 64,
   "outputs": [
    {
     "data": {
      "text/plain": "<Figure size 1440x720 with 1 Axes>",
      "image/png": "[encoded data removed]"
     },
     "metadata": {},
     "output_type": "display_data"
    }
   ],
   "source": [
    "# Distribution of population weight\n",
    "plt.figure(figsize = (20,10))\n",
    "sns.distplot(population_weight,color = 'pink')\n",
    "plt.savefig('pop_distplot.png')"
   ],
   "metadata": {
    "collapsed": false,
    "pycharm": {
     "name": "#%%\n"
    }
   }
  },
  {
   "cell_type": "code",
   "execution_count": 65,
   "outputs": [
    {
     "data": {
      "text/plain": "<Figure size 1440x720 with 1 Axes>",
      "image/png": "[encoded data removed]"
     },
     "metadata": {},
     "output_type": "display_data"
    }
   ],
   "source": [
    "# Distribution of sample weight\n",
    "plt.figure(figsize = (20,10))\n",
    "sns.distplot(sample_weight,color = 'pink')\n",
    "plt.savefig('sample_distplot.png')"
   ],
   "metadata": {
    "collapsed": false,
    "pycharm": {
     "name": "#%%\n"
    }
   }
  },
  {
   "cell_type": "markdown",
   "source": [
    "<h1 style=\"color:#ffc0cb;font-size:70px;font-family:Georgia;text-align:center;\"><strong>2. Normality Test</strong></h1>\n",
    "\n",
    "I need to decide whether to use parametric or nonparametric statistical methods.\n",
    "\n",
    "+ H₀: The data is normally distributed.\n",
    "+ H₁: The data is not normally distributed.\n",
    "+ H₀: The variances of the samples are the same. \n",
    "+ H₁: The variances of the samples are different.\n",
    "At α=0.05. If the p-value is >0.05, it can be said that the mean weight is normally distributed.\n"
   ],
   "metadata": {
    "collapsed": false,
    "pycharm": {
     "name": "#%% md\n"
    }
   }
  },
  {
   "cell_type": "markdown",
   "source": [
    "# Shapiro-Wilk Test"
   ],
   "metadata": {
    "collapsed": false,
    "pycharm": {
     "name": "#%% md\n"
    }
   }
  },
  {
   "cell_type": "code",
   "execution_count": 66,
   "outputs": [],
   "source": [
    "def check_normality_shapiro(data):\n",
    "    test_stat_normality, p_value_normality=stats.shapiro(data)\n",
    "    print(\"p value:%.3f\" % p_value_normality)\n",
    "    stat, p = shapiro(df.weight)\n",
    "    print('Statistics=%.3f, p=%.3f' % (stat, p))\n",
    "    if p_value_normality <0.05:\n",
    "        print(\"Reject null hypothesis: The data is not normally distributed\")\n",
    "    else:\n",
    "        print(\"Fail to reject null hypothesis: The data is normally distributed\")"
   ],
   "metadata": {
    "collapsed": false,
    "pycharm": {
     "name": "#%%\n"
    }
   }
  },
  {
   "cell_type": "code",
   "execution_count": 67,
   "outputs": [
    {
     "name": "stdout",
     "output_type": "stream",
     "text": [
      "p value:0.000\n",
      "Statistics=0.989, p=0.000\n",
      "Reject null hypothesis: The data is not normally distributed\n"
     ]
    }
   ],
   "source": [
    "check_normality_shapiro(population_weight)"
   ],
   "metadata": {
    "collapsed": false,
    "pycharm": {
     "name": "#%%\n"
    }
   }
  },
  {
   "cell_type": "code",
   "execution_count": 68,
   "outputs": [
    {
     "name": "stdout",
     "output_type": "stream",
     "text": [
      "p value:0.732\n",
      "Statistics=0.989, p=0.000\n",
      "Fail to reject null hypothesis: The data is normally distributed\n"
     ]
    }
   ],
   "source": [
    "check_normality_shapiro(sample_weight)"
   ],
   "metadata": {
    "collapsed": false,
    "pycharm": {
     "name": "#%%\n"
    }
   }
  },
  {
   "cell_type": "markdown",
   "source": [
    "# Check homogeneity of variance using Levene’s test"
   ],
   "metadata": {
    "collapsed": false,
    "pycharm": {
     "name": "#%% md\n"
    }
   }
  },
  {
   "cell_type": "code",
   "execution_count": 69,
   "outputs": [],
   "source": [
    "def check_variance_homogeneity(group1, group2):\n",
    "    test_stat_var, p_value_var= stats.levene(group1,group2)\n",
    "    print(\"p value:%.3f\" % p_value_var)\n",
    "    if p_value_var <0.05:\n",
    "        print(\"Reject null hypothesis: The variances of the samples are different.\")\n",
    "    else:\n",
    "        print(\"Fail to reject null hypothesis: The variances of the samples are same.\")"
   ],
   "metadata": {
    "collapsed": false,
    "pycharm": {
     "name": "#%%\n"
    }
   }
  },
  {
   "cell_type": "code",
   "execution_count": 70,
   "outputs": [
    {
     "name": "stdout",
     "output_type": "stream",
     "text": [
      "p value:0.215\n",
      "Fail to reject null hypothesis: The variances of the samples are same.\n"
     ]
    }
   ],
   "source": [
    "check_variance_homogeneity(population_weight, sample_weight)"
   ],
   "metadata": {
    "collapsed": false,
    "pycharm": {
     "name": "#%%\n"
    }
   }
  },
  {
   "cell_type": "markdown",
   "source": [
    "<h1 style=\"color:#ffc0cb;font-size:70px;font-family:Georgia;text-align:center;\"><strong>3. Parametric Statistical Significance Tests</strong></h1>\n",
    "\n",
    "+ Ho: Athlete population mean weight is the same as athlete sample mean weight in the CrossFit Game 2015: μ₁=μ₂\n",
    "+ Ha: The population and sample weights are different μ₁# μ₂\n",
    "\n",
    "\n",
    "# T-Sample Test"
   ],
   "metadata": {
    "collapsed": false,
    "pycharm": {
     "name": "#%% md\n"
    }
   }
  },
  {
   "cell_type": "code",
   "execution_count": 71,
   "outputs": [
    {
     "name": "stdout",
     "output_type": "stream",
     "text": [
      "p value:0.307\n",
      "Fail to reject null hypothesis\n"
     ]
    }
   ],
   "source": [
    "ttest,p_value = stats.ttest_ind(np.array(population_weight).astype(int), np.array(sample_weight).astype(int))\n",
    "print(\"p value:%.3f\" % p_value)\n",
    "if p_value <0.05:\n",
    "    print(\"Reject null hypothesis\")\n",
    "else:\n",
    "    print(\"Fail to reject null hypothesis\")"
   ],
   "metadata": {
    "collapsed": false,
    "pycharm": {
     "name": "#%%\n"
    }
   }
  },
  {
   "cell_type": "markdown",
   "source": [
    "# 1 Small Sample Hypothesis Test\n",
    "A test on 10 athletes who competed in the crossfit, the weight of each athlete is inspected, using alpha = 0.05."
   ],
   "metadata": {
    "collapsed": false,
    "pycharm": {
     "name": "#%% md\n"
    }
   }
  },
  {
   "cell_type": "markdown",
   "source": [
    "A one-sample t-test checks whether a sample mean differs from the population mean.\n"
   ],
   "metadata": {
    "collapsed": false,
    "pycharm": {
     "name": "#%% md\n"
    }
   }
  },
  {
   "cell_type": "code",
   "execution_count": 72,
   "outputs": [],
   "source": [
    "import scipy.stats as stats\n",
    "import math"
   ],
   "metadata": {
    "collapsed": false,
    "pycharm": {
     "name": "#%%\n"
    }
   }
  },
  {
   "cell_type": "code",
   "execution_count": 73,
   "outputs": [
    {
     "name": "stdout",
     "output_type": "stream",
     "text": [
      "180.6377396569122\n",
      "189.7\n"
     ]
    }
   ],
   "source": [
    "print( population_weight.mean() )\n",
    "print( sample_weight.mean() )"
   ],
   "metadata": {
    "collapsed": false,
    "pycharm": {
     "name": "#%%\n"
    }
   }
  },
  {
   "cell_type": "code",
   "execution_count": 74,
   "outputs": [],
   "source": [
    "# cast population_weight and sample_weight as numeric values\n",
    "population_weight = population_weight.astype(float)\n",
    "sample_weight = sample_weight.astype(float)"
   ],
   "metadata": {
    "collapsed": false,
    "pycharm": {
     "name": "#%%\n"
    }
   }
  },
  {
   "cell_type": "code",
   "execution_count": 75,
   "outputs": [
    {
     "data": {
      "text/plain": "Ttest_1sampResult(statistic=1.5002015259335348, pvalue=0.16779941438154244)"
     },
     "execution_count": 75,
     "metadata": {},
     "output_type": "execute_result"
    }
   ],
   "source": [
    "stats.ttest_1samp(a = sample_weight,               # Sample data\n",
    "                 popmean = population_weight.mean())  # Pop mean"
   ],
   "metadata": {
    "collapsed": false,
    "pycharm": {
     "name": "#%%\n"
    }
   }
  },
  {
   "cell_type": "markdown",
   "source": [
    "> t critical is: [-2.262,2.262]"
   ],
   "metadata": {
    "collapsed": false,
    "pycharm": {
     "name": "#%% md\n"
    }
   }
  },
  {
   "cell_type": "code",
   "execution_count": 76,
   "outputs": [
    {
     "data": {
      "text/plain": "-2.262157162740992"
     },
     "execution_count": 76,
     "metadata": {},
     "output_type": "execute_result"
    }
   ],
   "source": [
    "stats.t.ppf(q=0.025,  # Quantile to check\n",
    "            df=9)  # Degrees of freedom"
   ],
   "metadata": {
    "collapsed": false,
    "pycharm": {
     "name": "#%%\n"
    }
   }
  },
  {
   "cell_type": "code",
   "execution_count": 77,
   "outputs": [
    {
     "data": {
      "text/plain": "2.2621571627409915"
     },
     "execution_count": 77,
     "metadata": {},
     "output_type": "execute_result"
    }
   ],
   "source": [
    "stats.t.ppf(q=0.975,  # Quantile to check\n",
    "            df=9)  # Degrees of freedom"
   ],
   "metadata": {
    "collapsed": false,
    "pycharm": {
     "name": "#%%\n"
    }
   }
  },
  {
   "cell_type": "markdown",
   "source": [
    "In this case, the p-value is higher than our significance level α (0.05), so we should reject the null hypothesis. If we were to construct a 95% confidence interval for the sample, it captures a population mean of 180.638"
   ],
   "metadata": {
    "collapsed": false,
    "pycharm": {
     "name": "#%% md\n"
    }
   }
  },
  {
   "cell_type": "code",
   "execution_count": 78,
   "outputs": [
    {
     "data": {
      "text/plain": "(176.0349978043897, 203.3650021956103)"
     },
     "execution_count": 78,
     "metadata": {},
     "output_type": "execute_result"
    }
   ],
   "source": [
    "sigma = sample_weight.std()/math.sqrt(10)  # Sample stdev/sample size\n",
    "\n",
    "stats.t.interval(0.95,                        # Confidence level\n",
    "                 df = 9,                     # Degrees of freedom\n",
    "                 loc = sample_weight.mean(), # Sample mean\n",
    "                 scale= sigma)                # Standard dev estimate"
   ],
   "metadata": {
    "collapsed": false,
    "pycharm": {
     "name": "#%%\n"
    }
   }
  },
  {
   "cell_type": "markdown",
   "source": [
    "On the other hand, it is not significant at the 80% confidence level. This means if we were to construct a 80% confidence interval, it even would not capture the population mean:"
   ],
   "metadata": {
    "collapsed": false,
    "pycharm": {
     "name": "#%% md\n"
    }
   }
  },
  {
   "cell_type": "code",
   "execution_count": 79,
   "outputs": [
    {
     "data": {
      "text/plain": "(181.34554476671252, 198.05445523328746)"
     },
     "execution_count": 79,
     "metadata": {},
     "output_type": "execute_result"
    }
   ],
   "source": [
    "stats.t.interval(alpha = 0.8,                # Confidence level\n",
    "                 df = 9,                     # Degrees of freedom\n",
    "                 loc = sample_weight.mean(), # Sample mean\n",
    "                 scale= sigma)                # Standard dev estimate"
   ],
   "metadata": {
    "collapsed": false,
    "pycharm": {
     "name": "#%%\n"
    }
   }
  },
  {
   "cell_type": "markdown",
   "source": [
    "# Calculate Z score for mean weight of different gender"
   ],
   "metadata": {
    "collapsed": false,
    "pycharm": {
     "name": "#%% md\n"
    }
   }
  },
  {
   "cell_type": "code",
   "execution_count": 90,
   "outputs": [
    {
     "data": {
      "text/plain": "<StringArray>\n['male', 'female']\nLength: 2, dtype: string"
     },
     "execution_count": 90,
     "metadata": {},
     "output_type": "execute_result"
    }
   ],
   "source": [
    "# selecting rows based on condition\n",
    "male_weight = df[df['gender'] == 'male']\n",
    "female_weight = df[df['gender'] == 'female']\n",
    "df.gender.unique()"
   ],
   "metadata": {
    "collapsed": false,
    "pycharm": {
     "name": "#%%\n"
    }
   }
  },
  {
   "cell_type": "code",
   "execution_count": 81,
   "outputs": [
    {
     "name": "stdout",
     "output_type": "stream",
     "text": [
      "Population Male Mean: 189.41820418204182\n",
      "Sample Male Mean: 187.65432098765433\n",
      "Sample Male Standard Deviation: 23.53720459187964\n"
     ]
    }
   ],
   "source": [
    "# Import statistics Library\n",
    "import statistics\n",
    "\n",
    "print(\"Population Male Mean: \"+str(male_weight['weight'].mean()))\n",
    "male_weight_sample = male_weight.sample(frac=0.10)\n",
    "sample_mean_male = male_weight_sample['weight'].mean()\n",
    "print(\"Sample Male Mean: \"+str(sample_mean_male))\n",
    "sample_std_male = statistics.stdev(male_weight_sample.weight)\n",
    "print(\"Sample Male Standard Deviation: \"+str(sample_std_male))"
   ],
   "metadata": {
    "collapsed": false,
    "pycharm": {
     "name": "#%%\n"
    }
   }
  },
  {
   "cell_type": "code",
   "execution_count": 82,
   "outputs": [
    {
     "name": "stdout",
     "output_type": "stream",
     "text": [
      "Population female Mean: 140.53370786516854\n",
      "Sample female Mean: 144.05555555555554\n",
      "Sample female Standard Deviation: 16.522711641858304\n"
     ]
    }
   ],
   "source": [
    "print(\"Population female Mean: \"+str(female_weight['weight'].mean()))\n",
    "female_weight_sample = female_weight.sample(frac=0.10)\n",
    "sample_mean_female = female_weight_sample['weight'].mean()\n",
    "print(\"Sample female Mean: \"+str(sample_mean_female))\n",
    "sample_std_female = statistics.stdev(female_weight_sample.weight)\n",
    "print(\"Sample female Standard Deviation: \"+str(sample_std_female))"
   ],
   "metadata": {
    "collapsed": false,
    "pycharm": {
     "name": "#%%\n"
    }
   }
  },
  {
   "cell_type": "code",
   "execution_count": 83,
   "outputs": [
    {
     "name": "stdout",
     "output_type": "stream",
     "text": [
      "249.15975668316847\n"
     ]
    }
   ],
   "source": [
    "import math\n",
    "# Confidence Level 95 %  for one sided Normal curve\n",
    "zscore_critical = 1.65\n",
    "# Calculate the test statistics\n",
    "zscore_test_stat = ((sample_mean_male - sample_mean_female)*math.sqrt(8916))/sample_std_female\n",
    "print(zscore_test_stat)"
   ],
   "metadata": {
    "collapsed": false,
    "pycharm": {
     "name": "#%%\n"
    }
   }
  },
  {
   "cell_type": "markdown",
   "source": [
    "<a id=\"1\"></a>\n",
    "<h1 style=\"color:#ffc0cb;font-size:40px;font-family:Georgia;text-align:center;\"><strong>Wilcoxon signed-rank test</strong></h1>\n",
    "\n",
    "+ Single paired sample.\n",
    "+ The test assumes that the distribution being sampled is continuous and symmetric about its mean."
   ],
   "metadata": {
    "collapsed": false,
    "pycharm": {
     "name": "#%% md\n"
    }
   }
  },
  {
   "cell_type": "code",
   "execution_count": 91,
   "outputs": [],
   "source": [
    "# make the dataframe one-dimensional\n",
    "male_weight = male_weight['weight']\n",
    "female_weight = female_weight['weight']"
   ],
   "metadata": {
    "collapsed": false,
    "pycharm": {
     "name": "#%%\n"
    }
   }
  },
  {
   "cell_type": "code",
   "execution_count": 99,
   "outputs": [
    {
     "name": "stdout",
     "output_type": "stream",
     "text": [
      "Statistics=130.000, p=0.396\n",
      "Same distribution (fail to reject H0)\n"
     ]
    }
   ],
   "source": [
    "# Wilcoxon signed-rank test\n",
    "from scipy.stats import wilcoxon\n",
    "\n",
    "# generate two paired samples\n",
    "data1 = female_weight.head(25)\n",
    "data2 = female_weight.tail(25)\n",
    "# compare samples\n",
    "stat, p = wilcoxon(data1, data2)\n",
    "print('Statistics=%.3f, p=%.3f' % (stat, p))\n",
    "# interpret\n",
    "alpha = 0.05\n",
    "if p > alpha:\n",
    "    print('Same distribution (fail to reject H0)')\n",
    "else:\n",
    "    print('Different distribution (reject H0)')"
   ],
   "metadata": {
    "collapsed": false,
    "pycharm": {
     "name": "#%%\n"
    }
   }
  },
  {
   "cell_type": "markdown",
   "source": [
    "<a id=\"1\"></a>\n",
    "<h1 style=\"color:#ffc0cb;font-size:40px;font-family:Georgia;text-align:center;\"><strong>Mann-Whitney U test</strong></h1>\n",
    "\n",
    "+ 2 independent samples"
   ],
   "metadata": {
    "collapsed": false,
    "pycharm": {
     "name": "#%% md\n"
    }
   }
  },
  {
   "cell_type": "code",
   "execution_count": 95,
   "outputs": [],
   "source": [
    "# generate two independent samples\n",
    "data1 = male_weight.sample(25)\n",
    "data2 = female_weight.sample(25)"
   ],
   "metadata": {
    "collapsed": false,
    "pycharm": {
     "name": "#%%\n"
    }
   }
  },
  {
   "cell_type": "code",
   "execution_count": 96,
   "outputs": [],
   "source": [
    "data11 = data1.to_numpy(dtype=int)"
   ],
   "metadata": {
    "collapsed": false,
    "pycharm": {
     "name": "#%%\n"
    }
   }
  },
  {
   "cell_type": "code",
   "execution_count": 97,
   "outputs": [],
   "source": [
    "data22 = data2.to_numpy(dtype=int)"
   ],
   "metadata": {
    "collapsed": false,
    "pycharm": {
     "name": "#%%\n"
    }
   }
  },
  {
   "cell_type": "code",
   "execution_count": 98,
   "outputs": [
    {
     "name": "stdout",
     "output_type": "stream",
     "text": [
      "Statistics=599.500, p=0.000\n",
      "Different distribution (reject H0)\n"
     ]
    }
   ],
   "source": [
    "# Mann-Whitney U test\n",
    "from scipy.stats import mannwhitneyu\n",
    "# compare samples\n",
    "stat, p = mannwhitneyu(data11, data22)\n",
    "print('Statistics=%.3f, p=%.3f' % (stat, p))\n",
    "# interpret\n",
    "alpha = 0.05\n",
    "if p > alpha:\n",
    "    print('Same distribution (fail to reject H0)')\n",
    "else:\n",
    "    print('Different distribution (reject H0)')"
   ],
   "metadata": {
    "collapsed": false,
    "pycharm": {
     "name": "#%%\n"
    }
   }
  },
  {
   "cell_type": "markdown",
   "source": [
    "<a id=\"1\"></a>\n",
    "<h1 style=\"color:#ffc0cb;font-size:40px;font-family:Georgia;text-align:center;\"><strong>Single Variance</strong></h1>\n"
   ],
   "metadata": {
    "collapsed": false,
    "pycharm": {
     "name": "#%% md\n"
    }
   }
  },
  {
   "cell_type": "code",
   "execution_count": 102,
   "outputs": [
    {
     "name": "stdout",
     "output_type": "stream",
     "text": [
      "The critical value X²U for the upper tail is 36.41502850180731\n",
      "The critical value X²L for the lower tail is 13.848425027170224\n"
     ]
    }
   ],
   "source": [
    "# Find the Chi-Square Critical Value\n",
    "import scipy.stats\n",
    "# find Chi-Square critical value for 2 tail hypothesis tests\n",
    "alpha = 0.05\n",
    "\n",
    "df = 24\n",
    "\n",
    "# X² for upper tail\n",
    "print(f'The critical value X²U for the upper tail is {scipy.stats.chi2.ppf(1-alpha, df=df)}') # 39.3641\n",
    "# X² for lower tail\n",
    "print(f'The critical value X²L for the lower tail is {scipy.stats.chi2.ppf(alpha, df=df)}') # 12.4011"
   ],
   "metadata": {
    "collapsed": false,
    "pycharm": {
     "name": "#%%\n"
    }
   }
  },
  {
   "cell_type": "code",
   "execution_count": 107,
   "outputs": [
    {
     "name": "stdout",
     "output_type": "stream",
     "text": [
      "arr :  988    142\n",
      "825    136\n",
      "934    130\n",
      "937    142\n",
      "927    125\n",
      "840    150\n",
      "918    165\n",
      "904    156\n",
      "954    145\n",
      "906    134\n",
      "916    156\n",
      "942    140\n",
      "933    160\n",
      "823    145\n",
      "873    151\n",
      "956    151\n",
      "979    132\n",
      "978    160\n",
      "874    145\n",
      "948    120\n",
      "960    142\n",
      "877    148\n",
      "984    160\n",
      "898    133\n",
      "920    148\n",
      "Name: weight, dtype: Int64\n",
      "var of arr :  129.8304\n"
     ]
    }
   ],
   "source": [
    "# Python Program illustrating\n",
    "# numpy.var() method\n",
    "import numpy as np\n",
    "\n",
    "# 1D array\n",
    "arr = data2\n",
    "\n",
    "print(\"arr : \", arr)\n",
    "print(\"var of arr : \", np.var(arr))"
   ],
   "metadata": {
    "collapsed": false,
    "pycharm": {
     "name": "#%%\n"
    }
   }
  },
  {
   "cell_type": "markdown",
   "source": [
    "<a id=\"1\"></a>\n",
    "<h1 style=\"color:#ffc0cb;font-size:40px;font-family:Georgia;text-align:center;\"><strong>Summary</strong></h1>"
   ],
   "metadata": {
    "collapsed": false,
    "pycharm": {
     "name": "#%% md\n"
    }
   }
  },
  {
   "cell_type": "markdown",
   "source": [
    "# References\n",
    "\n",
    "+ Machine Learning Mastery. 2022. A Gentle Introduction to Normality Tests in Python. [online] Available at: <https://machinelearningmastery.com/a-gentle-introduction-to-normality-tests-in-python/> [Accessed 22 August 2022].\n",
    "\n",
    "+ Docs.scipy.org. 2022. Statistical functions (scipy.stats) — SciPy v1.9.0 Manual. [online] Available at: <https://docs.scipy.org/doc/scipy/reference/stats.html> [Accessed 26 August 2022].\n",
    "\n",
    "+ [Cast Series to Numpy int datatype](https://pandas.pydata.org/pandas-docs/version/0.24.0rc1/api/generated/pandas.Series.to_numpy.html)"
   ],
   "metadata": {
    "collapsed": false,
    "pycharm": {
     "name": "#%% md\n"
    }
   }
  },
  {
   "cell_type": "code",
   "execution_count": 88,
   "outputs": [],
   "source": [],
   "metadata": {
    "collapsed": false,
    "pycharm": {
     "name": "#%%\n"
    }
   }
  },
  {
   "cell_type": "code",
   "execution_count": 88,
   "outputs": [],
   "source": [],
   "metadata": {
    "collapsed": false,
    "pycharm": {
     "name": "#%%\n"
    }
   }
  },
  {
   "cell_type": "code",
   "execution_count": 88,
   "outputs": [],
   "source": [],
   "metadata": {
    "collapsed": false,
    "pycharm": {
     "name": "#%%\n"
    }
   }
  }
 ],
 "metadata": {
  "kernelspec": {
   "display_name": "Python 3 (ipykernel)",
   "language": "python",
   "name": "python3"
  },
  "language_info": {
   "codemirror_mode": {
    "name": "ipython",
    "version": 3
   },
   "file_extension": ".py",
   "mimetype": "text/x-python",
   "name": "python",
   "nbconvert_exporter": "python",
   "pygments_lexer": "ipython3",
   "version": "3.10.4"
  }
 },
 "nbformat": 4,
 "nbformat_minor": 1
}