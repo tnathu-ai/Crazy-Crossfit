{
 "cells": [
  {
   "cell_type": "markdown",
   "metadata": {},
   "source": [
    "+ Comparing Two Population Proportions\n",
    "+ Confidence Interval for the Difference of two Proportions\n",
    "+ Hypothesis Test for the Difference of two Proportions\n",
    "+ Better Method for Computing Standard Deviation when H0: p_1=p_2\n",
    "+ Wilcoxon Signed-Rank Test\n",
    "+ Wilcoxon Rank-Sum Test (Mann Whitney Test)\n",
    "+ Chi-Square Distribution\n",
    "+ Confidence Interval for Chi-Square\n",
    "+ Hypothesis Test for a Single Variance\n",
    "+ F Distribution\n",
    "+ Hypothesis Test for Two Variances\n"
   ]
  },
  {
   "cell_type": "markdown",
   "metadata": {},
   "source": [
    "<h1 style=\"color:#ffc0cb;font-size:40px;font-family:Georgia;text-align:center;\"><strong>Comparing 2 Population Proportions</strong></h1>\n",
    "\n",
    "# Central Limit Theorem\n",
    "![Theorem 1 and 2 - CLT](../media/images/CLT_1_2.png)\n",
    "\n",
    "`pf-pm` where\n",
    "+ `pf` is the proportion of females with the rank higher\n",
    "+ `pm` is the proportion of males of female\n",
    "\n",
    "1. Know the probability distribution for the random variable (p hat f) - (p hat m)\n",
    "2. find mean & standard deviation\n",
    "![Theorem 2 - Find mean and standard deviation](../media/images/CLT_2.png)"
   ]
  },
  {
   "cell_type": "markdown",
   "metadata": {},
   "source": [
    "<a id=\"1\"></a>\n",
    "<h1 style=\"color:#ffc0cb;font-size:40px;font-family:Georgia;text-align:center;\"><strong>Confidence Interval for the Difference of two Proportions</strong></h1>\n",
    "\n",
    "\n",
    "**note:**\n",
    "+ the populations need to be independent\n",
    "+ p^1 & p^2 have to be approximately normally distributed\n",
    "+ 3 samples need to be random\n",
    "\n",
    "### test for the above conditions\n",
    "![CI for 2 Proportions](../media/images/CI_2_Proportions.png)"
   ]
  },
  {
   "cell_type": "markdown",
   "metadata": {},
   "source": [
    "<a id=\"1\"></a>\n",
    "<h1 style=\"color:#ffc0cb;font-size:40px;font-family:Georgia;text-align:center;\"><strong>Hypothesis Test for the Difference of two Proportions</strong></h1>\n",
    "\n",
    "![Hypothesis Test for the Difference of 2 Proportions](../media/images/hypothesis_test_2_proportions.png)\n"
   ]
  },
  {
   "cell_type": "markdown",
   "metadata": {},
   "source": [
    "<a id=\"1\"></a>\n",
    "<h1 style=\"color:#ffc0cb;font-size:40px;font-family:Georgia;text-align:center;\"><strong>Better Method for Computing Standard Deviation when H0: p_1=p_2</strong></h1>"
   ]
  },
  {
   "cell_type": "code",
   "execution_count": 38,
   "metadata": {
    "collapsed": false,
    "jupyter": {
     "outputs_hidden": false
    }
   },
   "outputs": [],
   "source": []
  },
  {
   "cell_type": "markdown",
   "metadata": {},
   "source": [
    "<a id=\"1\"></a>\n",
    "<h1 style=\"color:#ffc0cb;font-size:40px;font-family:Georgia;text-align:center;\"><strong>Wilcoxon Signed-Rank Test</strong></h1>\n",
    "\n",
    "**(paired data)**\n",
    "\n",
    "equivalent of the paired Student T-test, but for ranked data instead of real valued data with a Gaussian distribution.\n",
    "\n",
    "+ Fail to Reject H0: Sample distributions are equal.\n",
    "+ Reject H0: Sample distributions are not equal.\n",
    "\n",
    "**General Case:**\n",
    "Subtract D from each data. Take the absolute values. Rank them. Multiply by the signs. These are the signed ranks. Then\n",
    "S+ = sum of the positive ranks.\n",
    "+ H₀: μ = D\n",
    "+ H₁: μ ≠ D"
   ]
  },
  {
   "cell_type": "code",
   "execution_count": 1,
   "metadata": {
    "collapsed": false,
    "jupyter": {
     "outputs_hidden": false
    }
   },
   "outputs": [
    {
     "name": "stdout",
     "output_type": "stream",
     "text": [
      "Statistics=1886.000, p=0.028\n",
      "Different distribution (reject H0)\n"
     ]
    }
   ],
   "source": [
    "# Wilcoxon signed-rank test\n",
    "from numpy.random import seed\n",
    "from numpy.random import randn\n",
    "from scipy.stats import wilcoxon\n",
    "# seed the random number generator\n",
    "seed(1)\n",
    "# generate two independent samples\n",
    "data1 = 5 * randn(100) + 50\n",
    "data2 = 5 * randn(100) + 51\n",
    "# compare samples\n",
    "stat, p = wilcoxon(data1, data2)\n",
    "print('Statistics=%.3f, p=%.3f' % (stat, p))\n",
    "# interpret\n",
    "alpha = 0.05\n",
    "if p > alpha:\n",
    "    print('Same distribution (fail to reject H0)')\n",
    "else:\n",
    "    print('Different distribution (reject H0)')"
   ]
  },
  {
   "cell_type": "markdown",
   "metadata": {},
   "source": [
    "<a id=\"1\"></a>\n",
    "<h1 style=\"color:#ffc0cb;font-size:40px;font-family:Georgia;text-align:center;\"><strong>Wilcoxon Rank-Sum Test (Mann Whitney Test)</strong></h1>\n",
    "\n",
    "The Mann-Whitney U test is a nonparametric statistical significance test for determining whether two independent samples were drawn from a population with the same distribution\n",
    "\n",
    "1. State the hypothesis and select alpha\n",
    "2. Compute the test statistic (W)\n",
    "> + Choose the sample with the fewest number size as m and other as n\n",
    "> + Sort the data (don't remove 0 value and don't take modulus if the value is negative)\n",
    "> + Give rank (smallest -> largest)\n",
    "> + Test statistic W = sum of the rank\n",
    "3. Use the Wilcoxon Rank-Sum table to find the W-critical and the rejection region\n",
    "4. Conclusion:\n",
    "> + Fail to Reject H0: Sample distributions are equal.\n",
    "> + Reject H0: Sample distributions are not equal.\n",
    "\n"
   ]
  },
  {
   "cell_type": "code",
   "execution_count": 7,
   "metadata": {
    "collapsed": false,
    "jupyter": {
     "outputs_hidden": false
    }
   },
   "outputs": [
    {
     "name": "stdout",
     "output_type": "stream",
     "text": [
      "Statistics=14.000, p=0.931\n",
      "Same distribution (fail to reject H0). The p value: 0.9307359307359306\n"
     ]
    }
   ],
   "source": [
    "# Mann-Whitney U test\n",
    "from scipy.stats import mannwhitneyu\n",
    "# generate two independent samples\n",
    "data1 = [24.12, 21.8, 23.85, 36.27, 28.88]\n",
    "data2 = [23.42, 25.78, 26.54, 27.71, 23.47, 36.99]\n",
    "# compare samples. Perform 'two-sided' test. You can use 'greater' or 'less' for one-sided test\n",
    "stat, p = mannwhitneyu(data1, data2, alternative = 'two-sided')\n",
    "print('Statistics=%.3f, p=%.3f' % (stat, p))\n",
    "# interpret\n",
    "alpha = 0.05\n",
    "if p > alpha:\n",
    "    print(f'Same distribution (fail to reject H0). The p value: {p}')\n",
    "else:\n",
    "    print(f'Different distribution (reject H0). The p value: {p}')"
   ]
  },
  {
   "cell_type": "markdown",
   "metadata": {},
   "source": [
    "<a id=\"1\"></a>\n",
    "<h1 style=\"color:#ffc0cb;font-size:40px;font-family:Georgia;text-align:center;\"><strong>Chi-Square Distribution (X² Distribution)</strong></h1>\n",
    "\n",
    "[Chi-Squared Distribution Table](https://people.smp.uq.edu.au/YoniNazarathy/stat_models_B_course_spring_07/distributions/chisqtab.pdf)\n",
    "\n",
    "![chi_squared_distribution](../media/images/chi_squared_distribution.png)\n",
    "\n",
    "+ σ2: population variance\n",
    "+ s2: sample variance\n",
    "+ α: significance level\n",
    "+ n: number of samples\n",
    "df: degrees of freedom.\n",
    "+ χ2: chi-squared statistic. Depends on α and df"
   ]
  },
  {
   "cell_type": "markdown",
   "metadata": {},
   "source": [
    "### To find the Chi-Square critical value, you need:\n",
    "\n",
    "**NOTE:** the table always give us the probability of the right side of the graph. However, Minitab and Python chi-squared function give the probabilty on the left\n",
    "\n",
    "+ A significance level (common choices are 0.01, 0.05, and 0.10)\n",
    "+ Degrees of freedom\n",
    "\n",
    "`scipy.stats.chi2.ppf(q, df)`\n",
    "\n",
    "where:\n",
    "+ q: The significance level to use\n",
    "+ df: The degrees of freedom\n",
    "\n",
    "**find Chi-Square critical value for an upper tail with &alpha;=0.1 and &nu;=7**\n",
    "+ Choose X²(0.1,7) in the table\n"
   ]
  },
  {
   "cell_type": "code",
   "execution_count": 3,
   "metadata": {
    "collapsed": false,
    "jupyter": {
     "outputs_hidden": false
    }
   },
   "outputs": [
    {
     "data": {
      "text/plain": [
       "12.017036623780532"
      ]
     },
     "execution_count": 3,
     "metadata": {},
     "output_type": "execute_result"
    }
   ],
   "source": [
    "# Find the Chi-Square Critical Value\n",
    "import scipy.stats\n",
    "\n",
    "#find Chi-Square critical value\n",
    "scipy.stats.chi2.ppf(1-.1, df=7) #12.0170"
   ]
  },
  {
   "cell_type": "markdown",
   "metadata": {},
   "source": [
    "**find Chi-Square critical value for an lower tail where the area of the tail is 0.1 (&alpha;=0.9) and &nu;=7**\n",
    "+ From the tables we see that the area reported is always the area to the right of the specified value.\n",
    "+ So the boundary for the lower tail is found by looking up to X²(0.9,7) in the table"
   ]
  },
  {
   "cell_type": "code",
   "execution_count": 4,
   "metadata": {
    "collapsed": false,
    "jupyter": {
     "outputs_hidden": false
    }
   },
   "outputs": [
    {
     "data": {
      "text/plain": [
       "2.833106917815344"
      ]
     },
     "execution_count": 4,
     "metadata": {},
     "output_type": "execute_result"
    }
   ],
   "source": [
    "# Find the Chi-Square Critical Value\n",
    "import scipy.stats\n",
    "\n",
    "#find Chi-Square critical value\n",
    "scipy.stats.chi2.ppf(.1, df=7) # 2.83311"
   ]
  },
  {
   "cell_type": "markdown",
   "metadata": {},
   "source": [
    "**Find Chi-Square critical value for 2 tailed hypothesis tests and confidence intervals. Find the X²L and X²U values such that `P(X²L <= X² <= X²U)=0.95` where we assume that the areas in the upper and lower tails that have been ommited are equal**\n",
    "\n",
    "+ We need to split up &alpha; in 2 parts such as there is an &alpha;/2 in the upper and &alpha;/2 in the lower tail.\n",
    "+ The critical X² value for the upper tail, where the area of the tail is 0.025 (&alpha;=0.025) and &nu;=24. So we look up X²(0.025,24) in the table\n",
    "+ The critical X² value for the lower tail, where the area of the tail is 1-0.025 (&alpha;=0.975) and &nu;=24. So we look up X²(0.975,24) in the table"
   ]
  },
  {
   "cell_type": "code",
   "execution_count": 5,
   "metadata": {
    "collapsed": false,
    "jupyter": {
     "outputs_hidden": false
    }
   },
   "outputs": [
    {
     "name": "stdout",
     "output_type": "stream",
     "text": [
      "The critical value X²U for the upper tail is 39.36407702660391\n",
      "The critical value X²L for the lower tail is 12.401150217444435\n"
     ]
    }
   ],
   "source": [
    "# find Chi-Square critical value for 2 tail hypothesis tests\n",
    "alpha = 0.025\n",
    "df = 24\n",
    "# X² for upper tail\n",
    "print(f'The critical value X²U for the upper tail is {scipy.stats.chi2.ppf(1-alpha, df=df)}') # 39.3641\n",
    "# X² for lower tail\n",
    "print(f'The critical value X²L for the lower tail is {scipy.stats.chi2.ppf(alpha, df=df)}') # 12.4011"
   ]
  },
  {
   "cell_type": "code",
   "execution_count": 6,
   "metadata": {
    "collapsed": false,
    "jupyter": {
     "outputs_hidden": false
    }
   },
   "outputs": [
    {
     "name": "stdout",
     "output_type": "stream",
     "text": [
      "The critical value X²U for the upper tail is 5.991464547107979\n",
      "The critical value X²L for the lower tail is 0.10258658877510106\n"
     ]
    }
   ],
   "source": [
    "# find Chi-Square critical value for 2 tail hypothesis tests\n",
    "alpha = 0.05\n",
    "\n",
    "df = 2\n",
    "# X² for upper tail\n",
    "print(f'The critical value X²U for the upper tail is {scipy.stats.chi2.ppf(1-alpha, df=df)}') # 39.3641\n",
    "# X² for lower tail\n",
    "print(f'The critical value X²L for the lower tail is {scipy.stats.chi2.ppf(alpha, df=df)}') # 12.4011"
   ]
  },
  {
   "cell_type": "markdown",
   "metadata": {},
   "source": [
    "<a id=\"1\"></a>\n",
    "<h1 style=\"color:#ffc0cb;font-size:40px;font-family:Georgia;text-align:center;\"><strong>Confidence Interval for Chi-Square (σ²)</strong></h1>\n",
    "\n",
    "![Confidence Interval for Chi-Square (σ²)](../media/images/CI_variance.png)\n",
    "\n",
    "#### A random sample of 23 points is taken from a normally dis- tributed population, find the 95% confidence interval for the unknown population variance σ², where the sample variance s² = 2.3.\n",
    "\n",
    "Now for α = 0.05 we want an area of 0.025 in each of the upper and lower tails. Looking up the χ2 distribution with α = 0.025 and df = 23 − 1 = 22 we get χ2U = 36.7807. Similarly looking up the χ2 distribution with α = 0.975 and df =23−1=22 we get χ2L =10.9823.\n",
    "Substituting these into the confidence interval gives"
   ]
  },
  {
   "cell_type": "code",
   "execution_count": 15,
   "metadata": {
    "collapsed": false,
    "jupyter": {
     "outputs_hidden": false
    }
   },
   "outputs": [
    {
     "name": "stdout",
     "output_type": "stream",
     "text": [
      "The Confidence Interval (2.156497608678122, 6.144423223863328)\n",
      "2.156, 6.144\n"
     ]
    }
   ],
   "source": [
    "# confidence interval for the variance\n",
    "from scipy.stats import chi2\n",
    "# define confidence\n",
    "conf = 0.95\n",
    "# sample size\n",
    "n = 30\n",
    "# define degrees of freedom\n",
    "df = n - 1\n",
    "# sample variance\n",
    "s2 = 3.4\n",
    "# retrieve value <= probability\n",
    "p = (1.0 - conf) / 2\n",
    "# retrieve value <= probability\n",
    "chi2L = chi2.ppf(p, df)\n",
    "# retrieve value >= probability\n",
    "chi2U = chi2.ppf(1 - p, df)\n",
    "# calculate the interval\n",
    "interval = (df * s2 / chi2U, df * s2 / chi2L)\n",
    "print(f'The Confidence Interval {interval}') # (0.000, 0.000)\n",
    "print('%.3f, %.3f' % interval) # 0.000, 9.000"
   ]
  },
  {
   "cell_type": "markdown",
   "metadata": {},
   "source": [
    "<a id=\"1\"></a>\n",
    "<h1 style=\"color:#ffc0cb;font-size:40px;font-family:Georgia;text-align:center;\"><strong>Hypothesis Test for a Single Variance</strong></h1>\n",
    "\n",
    "The assumption that is made when deriving the X² distribution is that the sample measurements x1, x2, · · · , xn are from a normally distributed popula- tion. This then is an assumption that needs to be verified when we apply this test.\n",
    "\n",
    "+ H₀: σ² = σo²\n",
    "+ H₁: σ² # σo²                  | 2 tail test\n",
    "+ H₁: σ² > σo²                  | upper tail test\n",
    "+ H₁: σ² < σo²                  | lower tail test\n",
    "\n",
    "![test_statistic_single_variance](../media/images/test_statistic_single_variance.png)"
   ]
  },
  {
   "cell_type": "code",
   "execution_count": 43,
   "metadata": {
    "collapsed": false,
    "jupyter": {
     "outputs_hidden": false
    }
   },
   "outputs": [],
   "source": []
  },
  {
   "cell_type": "markdown",
   "metadata": {},
   "source": [
    "<a id=\"1\"></a>\n",
    "<h1 style=\"color:#ffc0cb;font-size:40px;font-family:Georgia;text-align:center;\"><strong>F Distribution</strong></h1>"
   ]
  },
  {
   "cell_type": "code",
   "execution_count": 43,
   "metadata": {
    "collapsed": false,
    "jupyter": {
     "outputs_hidden": false
    }
   },
   "outputs": [],
   "source": []
  },
  {
   "cell_type": "markdown",
   "metadata": {},
   "source": [
    "<a id=\"1\"></a>\n",
    "<h1 style=\"color:#ffc0cb;font-size:40px;font-family:Georgia;text-align:center;\"><strong>Hypothesis Test for Two Variances</strong></h1>"
   ]
  },
  {
   "cell_type": "code",
   "execution_count": 43,
   "metadata": {
    "collapsed": false,
    "jupyter": {
     "outputs_hidden": false
    }
   },
   "outputs": [],
   "source": []
  },
  {
   "cell_type": "markdown",
   "metadata": {},
   "source": []
  },
  {
   "cell_type": "markdown",
   "metadata": {},
   "source": []
  },
  {
   "cell_type": "markdown",
   "metadata": {},
   "source": [
    "# References\n",
    "\n",
    "+ [Non parametric statistical significance test in Python](https://machinelearningmastery.com/nonparametric-statistical-significance-tests-in-python/)\n",
    "+ [p value Calculation Python](https://docs.scipy.org/doc/scipy/reference/generated/scipy.stats.norm.html)\n",
    "+ [Chi-Square Distribution Python](https://docs.scipy.org/doc/scipy/reference/generated/scipy.stats.chi2.html)\n",
    "+ [Chi-squared distribution table from Probability and Statistics by Jay L. Devore.]()\n",
    "+ https://docs.scipy.org/doc/scipy/reference/generated/scipy.stats.wilcoxon.html"
   ]
  },
  {
   "cell_type": "code",
   "execution_count": 43,
   "metadata": {
    "collapsed": false,
    "jupyter": {
     "outputs_hidden": false
    }
   },
   "outputs": [],
   "source": []
  }
 ],
 "metadata": {
  "kernelspec": {
   "display_name": "Python 3.8.9 64-bit",
   "language": "python",
   "name": "python3"
  },
  "language_info": {
   "codemirror_mode": {
    "name": "ipython",
    "version": 3
   },
   "file_extension": ".py",
   "mimetype": "text/x-python",
   "name": "python",
   "nbconvert_exporter": "python",
   "pygments_lexer": "ipython3",
   "version": "3.8.9"
  },
  "vscode": {
   "interpreter": {
    "hash": "31f2aee4e71d21fbe5cf8b01ff0e069b9275f58929596ceb00d14d90e3e16cd6"
   }
  }
 },
 "nbformat": 4,
 "nbformat_minor": 4
}
